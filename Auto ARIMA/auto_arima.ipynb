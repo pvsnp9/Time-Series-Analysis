{
 "cells": [
  {
   "cell_type": "markdown",
   "metadata": {},
   "source": [
    "## Auto ARIMA \n",
    "\n",
    "Automates the ARIMA Model selection.\n",
    "\n",
    "Benefits:\n",
    "\n",
    "- Saves time \n",
    "- Removes ambiguity \n",
    "- Reduces the risk of human error"
   ]
  },
  {
   "cell_type": "code",
   "execution_count": 11,
   "metadata": {},
   "outputs": [],
   "source": [
    "import numpy as np\n",
    "import pandas as pd\n",
    "import scipy\n",
    "import statsmodels.api as sm\n",
    "import matplotlib.pyplot as plt\n",
    "import seaborn as sns\n",
    "import sklearn\n",
    "from statsmodels.tsa.arima_model import ARIMA\n",
    "# from pmdarima.arima import auto_arima\n",
    "from arch import arch_model\n",
    "import seaborn as sns\n",
    "import yfinance\n",
    "import warnings\n",
    "warnings.filterwarnings(\"ignore\")\n",
    "sns.set()\n"
   ]
  },
  {
   "cell_type": "code",
   "execution_count": 12,
   "metadata": {},
   "outputs": [
    {
     "name": "stdout",
     "output_type": "stream",
     "text": [
      "[*********************100%***********************]  4 of 4 completed\n"
     ]
    }
   ],
   "source": [
    "raw_data = yfinance.download(tickers=\"^GSPC ^FTSE ^N225 ^GDAXI\", start=\"1994-01-07\", end=\"2018-01-29\",\n",
    "                             interval=\"1d\", group_by='ticker', auto_adjust=True, treads=True)\n"
   ]
  },
  {
   "cell_type": "code",
   "execution_count": 13,
   "metadata": {},
   "outputs": [
    {
     "data": {
      "text/html": [
       "<div>\n",
       "<style scoped>\n",
       "    .dataframe tbody tr th:only-of-type {\n",
       "        vertical-align: middle;\n",
       "    }\n",
       "\n",
       "    .dataframe tbody tr th {\n",
       "        vertical-align: top;\n",
       "    }\n",
       "\n",
       "    .dataframe thead tr th {\n",
       "        text-align: left;\n",
       "    }\n",
       "\n",
       "    .dataframe thead tr:last-of-type th {\n",
       "        text-align: right;\n",
       "    }\n",
       "</style>\n",
       "<table border=\"1\" class=\"dataframe\">\n",
       "  <thead>\n",
       "    <tr>\n",
       "      <th></th>\n",
       "      <th colspan=\"5\" halign=\"left\">^FTSE</th>\n",
       "      <th colspan=\"5\" halign=\"left\">^N225</th>\n",
       "      <th colspan=\"5\" halign=\"left\">^GSPC</th>\n",
       "      <th colspan=\"5\" halign=\"left\">^GDAXI</th>\n",
       "    </tr>\n",
       "    <tr>\n",
       "      <th></th>\n",
       "      <th>Open</th>\n",
       "      <th>High</th>\n",
       "      <th>Low</th>\n",
       "      <th>Close</th>\n",
       "      <th>Volume</th>\n",
       "      <th>Open</th>\n",
       "      <th>High</th>\n",
       "      <th>Low</th>\n",
       "      <th>Close</th>\n",
       "      <th>Volume</th>\n",
       "      <th>Open</th>\n",
       "      <th>High</th>\n",
       "      <th>Low</th>\n",
       "      <th>Close</th>\n",
       "      <th>Volume</th>\n",
       "      <th>Open</th>\n",
       "      <th>High</th>\n",
       "      <th>Low</th>\n",
       "      <th>Close</th>\n",
       "      <th>Volume</th>\n",
       "    </tr>\n",
       "    <tr>\n",
       "      <th>Date</th>\n",
       "      <th></th>\n",
       "      <th></th>\n",
       "      <th></th>\n",
       "      <th></th>\n",
       "      <th></th>\n",
       "      <th></th>\n",
       "      <th></th>\n",
       "      <th></th>\n",
       "      <th></th>\n",
       "      <th></th>\n",
       "      <th></th>\n",
       "      <th></th>\n",
       "      <th></th>\n",
       "      <th></th>\n",
       "      <th></th>\n",
       "      <th></th>\n",
       "      <th></th>\n",
       "      <th></th>\n",
       "      <th></th>\n",
       "      <th></th>\n",
       "    </tr>\n",
       "  </thead>\n",
       "  <tbody>\n",
       "    <tr>\n",
       "      <th>1994-01-07</th>\n",
       "      <td>3401.399902</td>\n",
       "      <td>3446.800049</td>\n",
       "      <td>3398.699951</td>\n",
       "      <td>3446.000000</td>\n",
       "      <td>0.0</td>\n",
       "      <td>17842.980469</td>\n",
       "      <td>18131.410156</td>\n",
       "      <td>17787.480469</td>\n",
       "      <td>18124.009766</td>\n",
       "      <td>0.0</td>\n",
       "      <td>467.089996</td>\n",
       "      <td>470.260010</td>\n",
       "      <td>467.029999</td>\n",
       "      <td>469.899994</td>\n",
       "      <td>324920000.0</td>\n",
       "      <td>2218.959961</td>\n",
       "      <td>2227.639893</td>\n",
       "      <td>2201.820068</td>\n",
       "      <td>2224.949951</td>\n",
       "      <td>0.0</td>\n",
       "    </tr>\n",
       "    <tr>\n",
       "      <th>1994-01-10</th>\n",
       "      <td>3465.699951</td>\n",
       "      <td>3468.100098</td>\n",
       "      <td>3430.000000</td>\n",
       "      <td>3440.600098</td>\n",
       "      <td>0.0</td>\n",
       "      <td>18186.519531</td>\n",
       "      <td>18567.060547</td>\n",
       "      <td>18186.519531</td>\n",
       "      <td>18443.439453</td>\n",
       "      <td>0.0</td>\n",
       "      <td>469.899994</td>\n",
       "      <td>475.269989</td>\n",
       "      <td>469.549988</td>\n",
       "      <td>475.269989</td>\n",
       "      <td>319490000.0</td>\n",
       "      <td>2231.840088</td>\n",
       "      <td>2238.010010</td>\n",
       "      <td>2222.000000</td>\n",
       "      <td>2225.000000</td>\n",
       "      <td>0.0</td>\n",
       "    </tr>\n",
       "    <tr>\n",
       "      <th>1994-01-11</th>\n",
       "      <td>3442.500000</td>\n",
       "      <td>3442.500000</td>\n",
       "      <td>3413.500000</td>\n",
       "      <td>3413.800049</td>\n",
       "      <td>0.0</td>\n",
       "      <td>18481.849609</td>\n",
       "      <td>18671.669922</td>\n",
       "      <td>18373.039062</td>\n",
       "      <td>18485.250000</td>\n",
       "      <td>0.0</td>\n",
       "      <td>475.269989</td>\n",
       "      <td>475.279999</td>\n",
       "      <td>473.269989</td>\n",
       "      <td>474.130005</td>\n",
       "      <td>305490000.0</td>\n",
       "      <td>2225.429932</td>\n",
       "      <td>2235.610107</td>\n",
       "      <td>2225.179932</td>\n",
       "      <td>2228.100098</td>\n",
       "      <td>0.0</td>\n",
       "    </tr>\n",
       "    <tr>\n",
       "      <th>1994-01-12</th>\n",
       "      <td>3394.800049</td>\n",
       "      <td>3402.399902</td>\n",
       "      <td>3372.000000</td>\n",
       "      <td>3372.000000</td>\n",
       "      <td>0.0</td>\n",
       "      <td>18447.339844</td>\n",
       "      <td>18807.080078</td>\n",
       "      <td>18301.929688</td>\n",
       "      <td>18793.880859</td>\n",
       "      <td>0.0</td>\n",
       "      <td>474.130005</td>\n",
       "      <td>475.059998</td>\n",
       "      <td>472.140015</td>\n",
       "      <td>474.170013</td>\n",
       "      <td>310690000.0</td>\n",
       "      <td>2227.120117</td>\n",
       "      <td>2227.790039</td>\n",
       "      <td>2182.060059</td>\n",
       "      <td>2182.060059</td>\n",
       "      <td>0.0</td>\n",
       "    </tr>\n",
       "    <tr>\n",
       "      <th>1994-01-13</th>\n",
       "      <td>3380.699951</td>\n",
       "      <td>3383.300049</td>\n",
       "      <td>3356.899902</td>\n",
       "      <td>3360.000000</td>\n",
       "      <td>0.0</td>\n",
       "      <td>18770.380859</td>\n",
       "      <td>18823.380859</td>\n",
       "      <td>18548.750000</td>\n",
       "      <td>18577.259766</td>\n",
       "      <td>0.0</td>\n",
       "      <td>474.170013</td>\n",
       "      <td>474.170013</td>\n",
       "      <td>471.799988</td>\n",
       "      <td>472.470001</td>\n",
       "      <td>277970000.0</td>\n",
       "      <td>2171.500000</td>\n",
       "      <td>2183.709961</td>\n",
       "      <td>2134.100098</td>\n",
       "      <td>2142.370117</td>\n",
       "      <td>0.0</td>\n",
       "    </tr>\n",
       "  </tbody>\n",
       "</table>\n",
       "</div>"
      ],
      "text/plain": [
       "                  ^FTSE                                                \\\n",
       "                   Open         High          Low        Close Volume   \n",
       "Date                                                                    \n",
       "1994-01-07  3401.399902  3446.800049  3398.699951  3446.000000    0.0   \n",
       "1994-01-10  3465.699951  3468.100098  3430.000000  3440.600098    0.0   \n",
       "1994-01-11  3442.500000  3442.500000  3413.500000  3413.800049    0.0   \n",
       "1994-01-12  3394.800049  3402.399902  3372.000000  3372.000000    0.0   \n",
       "1994-01-13  3380.699951  3383.300049  3356.899902  3360.000000    0.0   \n",
       "\n",
       "                   ^N225                                                   \\\n",
       "                    Open          High           Low         Close Volume   \n",
       "Date                                                                        \n",
       "1994-01-07  17842.980469  18131.410156  17787.480469  18124.009766    0.0   \n",
       "1994-01-10  18186.519531  18567.060547  18186.519531  18443.439453    0.0   \n",
       "1994-01-11  18481.849609  18671.669922  18373.039062  18485.250000    0.0   \n",
       "1994-01-12  18447.339844  18807.080078  18301.929688  18793.880859    0.0   \n",
       "1994-01-13  18770.380859  18823.380859  18548.750000  18577.259766    0.0   \n",
       "\n",
       "                 ^GSPC                                                   \\\n",
       "                  Open        High         Low       Close       Volume   \n",
       "Date                                                                      \n",
       "1994-01-07  467.089996  470.260010  467.029999  469.899994  324920000.0   \n",
       "1994-01-10  469.899994  475.269989  469.549988  475.269989  319490000.0   \n",
       "1994-01-11  475.269989  475.279999  473.269989  474.130005  305490000.0   \n",
       "1994-01-12  474.130005  475.059998  472.140015  474.170013  310690000.0   \n",
       "1994-01-13  474.170013  474.170013  471.799988  472.470001  277970000.0   \n",
       "\n",
       "                 ^GDAXI                                                \n",
       "                   Open         High          Low        Close Volume  \n",
       "Date                                                                   \n",
       "1994-01-07  2218.959961  2227.639893  2201.820068  2224.949951    0.0  \n",
       "1994-01-10  2231.840088  2238.010010  2222.000000  2225.000000    0.0  \n",
       "1994-01-11  2225.429932  2235.610107  2225.179932  2228.100098    0.0  \n",
       "1994-01-12  2227.120117  2227.790039  2182.060059  2182.060059    0.0  \n",
       "1994-01-13  2171.500000  2183.709961  2134.100098  2142.370117    0.0  "
      ]
     },
     "execution_count": 13,
     "metadata": {},
     "output_type": "execute_result"
    }
   ],
   "source": [
    "raw_data.head()"
   ]
  },
  {
   "cell_type": "code",
   "execution_count": 14,
   "metadata": {},
   "outputs": [],
   "source": [
    "df = raw_data.copy()"
   ]
  },
  {
   "cell_type": "code",
   "execution_count": 15,
   "metadata": {},
   "outputs": [],
   "source": [
    "df['spx'] = df['^GSPC'].Close[:]\n",
    "df['dax'] = df['^GDAXI'].Close[:]\n",
    "df['ftse'] = df['^FTSE'].Close[:]\n",
    "df['nikkei'] = df['^N225'].Close[:]\n"
   ]
  },
  {
   "cell_type": "markdown",
   "metadata": {},
   "source": [
    "Creating returns"
   ]
  },
  {
   "cell_type": "code",
   "execution_count": 16,
   "metadata": {},
   "outputs": [],
   "source": [
    "df['ret_spx'] = df.spx.pct_change(1)*100\n",
    "df['ret_ftse'] = df.ftse.pct_change(1)*100\n",
    "df['ret_dax'] = df.dax.pct_change(1)*100\n",
    "df['ret_nikkei'] = df.nikkei.pct_change(1)*100\n"
   ]
  },
  {
   "cell_type": "markdown",
   "metadata": {},
   "source": [
    "Splitting the data"
   ]
  },
  {
   "cell_type": "code",
   "execution_count": 17,
   "metadata": {},
   "outputs": [
    {
     "data": {
      "text/plain": [
       "((5008, 28), (1252, 28))"
      ]
     },
     "execution_count": 17,
     "metadata": {},
     "output_type": "execute_result"
    }
   ],
   "source": [
    "size = int(len(df)*0.8)\n",
    "df, df_test = df.iloc[:size], df.iloc[size:]\n",
    "df.shape, df_test.shape"
   ]
  },
  {
   "cell_type": "markdown",
   "metadata": {},
   "source": [
    "#### Fitting the Model "
   ]
  },
  {
   "cell_type": "code",
   "execution_count": null,
   "metadata": {},
   "outputs": [],
   "source": []
  }
 ],
 "metadata": {
  "kernelspec": {
   "display_name": "Python 3.8.8 ('base')",
   "language": "python",
   "name": "python3"
  },
  "language_info": {
   "codemirror_mode": {
    "name": "ipython",
    "version": 3
   },
   "file_extension": ".py",
   "mimetype": "text/x-python",
   "name": "python",
   "nbconvert_exporter": "python",
   "pygments_lexer": "ipython3",
   "version": "3.8.8"
  },
  "orig_nbformat": 4,
  "vscode": {
   "interpreter": {
    "hash": "ebfd0efb22d0aaf13cd3245e60b60602479d0f2314e29debef770cffec75cf48"
   }
  }
 },
 "nbformat": 4,
 "nbformat_minor": 2
}
