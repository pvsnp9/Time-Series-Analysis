{
 "cells": [
  {
   "cell_type": "markdown",
   "metadata": {},
   "source": [
    "### ARCH (The Autoregressive Conditional Heteroskedasticity Model)\n",
    "\n",
    "Unlike the previous models, the ARCH measures volatility of the results, rather than the results themselves. Thus, the purpose of it is entirely different and focused on predicting turbulence in the data, regardless of whether it’s an increase or decrease in the values.\n",
    "\n",
    "**Heteroskedasticity** - Different dispersion. \n",
    "**Conditional** - The value depends on other.\n",
    "\n",
    "Lets talk about the variance: \n",
    "\n",
    "$Var(y_t | y_{t-1}) = \\sigma^2_t = \\alpha_0 + \\alpha_1 \\epsilon^2_{t-1}$\n",
    "\n",
    "- $Var(y_t | y_{t-1})$ : COnditional variance \n",
    "- $\\alpha_0$ : Constant factor \n",
    "- $\\alpha_1$ : coefficient associated with the first term $\\theta_1$\n",
    "- $\\epsilon^2_{t-1}$: Squared value of the residual epsilon for the previous period \n",
    "\n",
    "\n",
    "**ARCH(q) MOdel**\n",
    "\n",
    "$\\sigma^2_t = \\alpha_0 + \\alpha_1 \\epsilon^2_{t-1} + \\alpha_2 \\epsilon^2_{t-2} + ........ + \\alpha_p \\epsilon^2_{t-p} $\n",
    "\n",
    "Mean:\n",
    "\n",
    "$\\mu_t = C_0 + \\phi_1 \\mu_{t-1}  $\n",
    "\n",
    "\n",
    "\n",
    "$r_t = \\mu_t + \\epsilon_t$\n",
    "\n",
    "$\\epsilon_t$: Residuals \n",
    "\n",
    "$\\mu_t$ : Mean. But time-series. Rather being a constant, it is a function of past values and past errors. \n"
   ]
  },
  {
   "cell_type": "code",
   "execution_count": 3,
   "metadata": {},
   "outputs": [],
   "source": [
    "import pandas as pd\n",
    "import numpy as np\n",
    "import matplotlib.pyplot as plt\n",
    "import statsmodels.graphics.tsaplots as sgt\n",
    "from statsmodels.tsa.arima.model import ARIMA\n",
    "from statsmodels.tsa.statespace.sarimax import SARIMAX\n",
    "from arch import arch_model\n",
    "from scipy.stats.distributions import chi2\n",
    "import statsmodels.tsa.stattools as sts\n",
    "import seaborn as sns\n",
    "sns.set()\n"
   ]
  },
  {
   "cell_type": "code",
   "execution_count": 4,
   "metadata": {},
   "outputs": [],
   "source": [
    "import warnings\n",
    "warnings.filterwarnings('ignore')"
   ]
  },
  {
   "cell_type": "code",
   "execution_count": 5,
   "metadata": {},
   "outputs": [],
   "source": [
    "raw_csv_data = pd.read_csv(\"./../datasets/Index2018.csv\")\n",
    "df = raw_csv_data.copy()\n",
    "df.date = pd.to_datetime(df.date, dayfirst=True)\n",
    "df.set_index(\"date\", inplace=True)\n",
    "df = df.asfreq('b')\n",
    "df = df.fillna(method='ffill')\n"
   ]
  },
  {
   "cell_type": "code",
   "execution_count": 6,
   "metadata": {},
   "outputs": [
    {
     "data": {
      "text/html": [
       "<div>\n",
       "<style scoped>\n",
       "    .dataframe tbody tr th:only-of-type {\n",
       "        vertical-align: middle;\n",
       "    }\n",
       "\n",
       "    .dataframe tbody tr th {\n",
       "        vertical-align: top;\n",
       "    }\n",
       "\n",
       "    .dataframe thead th {\n",
       "        text-align: right;\n",
       "    }\n",
       "</style>\n",
       "<table border=\"1\" class=\"dataframe\">\n",
       "  <thead>\n",
       "    <tr style=\"text-align: right;\">\n",
       "      <th></th>\n",
       "      <th>spx</th>\n",
       "      <th>dax</th>\n",
       "      <th>ftse</th>\n",
       "      <th>nikkei</th>\n",
       "    </tr>\n",
       "    <tr>\n",
       "      <th>date</th>\n",
       "      <th></th>\n",
       "      <th></th>\n",
       "      <th></th>\n",
       "      <th></th>\n",
       "    </tr>\n",
       "  </thead>\n",
       "  <tbody>\n",
       "    <tr>\n",
       "      <th>1994-01-07</th>\n",
       "      <td>469.90</td>\n",
       "      <td>2224.95</td>\n",
       "      <td>3445.98</td>\n",
       "      <td>18124.01</td>\n",
       "    </tr>\n",
       "    <tr>\n",
       "      <th>1994-01-10</th>\n",
       "      <td>475.27</td>\n",
       "      <td>2225.00</td>\n",
       "      <td>3440.58</td>\n",
       "      <td>18443.44</td>\n",
       "    </tr>\n",
       "    <tr>\n",
       "      <th>1994-01-11</th>\n",
       "      <td>474.13</td>\n",
       "      <td>2228.10</td>\n",
       "      <td>3413.77</td>\n",
       "      <td>18485.25</td>\n",
       "    </tr>\n",
       "    <tr>\n",
       "      <th>1994-01-12</th>\n",
       "      <td>474.17</td>\n",
       "      <td>2182.06</td>\n",
       "      <td>3372.02</td>\n",
       "      <td>18793.88</td>\n",
       "    </tr>\n",
       "    <tr>\n",
       "      <th>1994-01-13</th>\n",
       "      <td>472.47</td>\n",
       "      <td>2142.37</td>\n",
       "      <td>3360.01</td>\n",
       "      <td>18577.26</td>\n",
       "    </tr>\n",
       "  </tbody>\n",
       "</table>\n",
       "</div>"
      ],
      "text/plain": [
       "               spx      dax     ftse    nikkei\n",
       "date                                          \n",
       "1994-01-07  469.90  2224.95  3445.98  18124.01\n",
       "1994-01-10  475.27  2225.00  3440.58  18443.44\n",
       "1994-01-11  474.13  2228.10  3413.77  18485.25\n",
       "1994-01-12  474.17  2182.06  3372.02  18793.88\n",
       "1994-01-13  472.47  2142.37  3360.01  18577.26"
      ]
     },
     "execution_count": 6,
     "metadata": {},
     "output_type": "execute_result"
    }
   ],
   "source": [
    "df.head()"
   ]
  },
  {
   "cell_type": "code",
   "execution_count": 7,
   "metadata": {},
   "outputs": [
    {
     "data": {
      "text/html": [
       "<div>\n",
       "<style scoped>\n",
       "    .dataframe tbody tr th:only-of-type {\n",
       "        vertical-align: middle;\n",
       "    }\n",
       "\n",
       "    .dataframe tbody tr th {\n",
       "        vertical-align: top;\n",
       "    }\n",
       "\n",
       "    .dataframe thead th {\n",
       "        text-align: right;\n",
       "    }\n",
       "</style>\n",
       "<table border=\"1\" class=\"dataframe\">\n",
       "  <thead>\n",
       "    <tr style=\"text-align: right;\">\n",
       "      <th></th>\n",
       "      <th>spx</th>\n",
       "      <th>dax</th>\n",
       "      <th>ftse</th>\n",
       "      <th>nikkei</th>\n",
       "      <th>market_value</th>\n",
       "    </tr>\n",
       "  </thead>\n",
       "  <tbody>\n",
       "    <tr>\n",
       "      <th>count</th>\n",
       "      <td>6277.000000</td>\n",
       "      <td>6277.000000</td>\n",
       "      <td>6277.000000</td>\n",
       "      <td>6277.000000</td>\n",
       "      <td>6277.000000</td>\n",
       "    </tr>\n",
       "    <tr>\n",
       "      <th>mean</th>\n",
       "      <td>1288.642547</td>\n",
       "      <td>6083.381061</td>\n",
       "      <td>5423.679824</td>\n",
       "      <td>14597.672753</td>\n",
       "      <td>5423.679824</td>\n",
       "    </tr>\n",
       "    <tr>\n",
       "      <th>std</th>\n",
       "      <td>487.868210</td>\n",
       "      <td>2755.563853</td>\n",
       "      <td>1145.616719</td>\n",
       "      <td>4043.795272</td>\n",
       "      <td>1145.616719</td>\n",
       "    </tr>\n",
       "    <tr>\n",
       "      <th>min</th>\n",
       "      <td>438.920000</td>\n",
       "      <td>1911.700000</td>\n",
       "      <td>2876.600000</td>\n",
       "      <td>7054.980000</td>\n",
       "      <td>2876.600000</td>\n",
       "    </tr>\n",
       "    <tr>\n",
       "      <th>25%</th>\n",
       "      <td>992.715221</td>\n",
       "      <td>4070.460000</td>\n",
       "      <td>4486.730000</td>\n",
       "      <td>10701.130000</td>\n",
       "      <td>4486.730000</td>\n",
       "    </tr>\n",
       "    <tr>\n",
       "      <th>50%</th>\n",
       "      <td>1233.761241</td>\n",
       "      <td>5774.260000</td>\n",
       "      <td>5663.300000</td>\n",
       "      <td>15030.510000</td>\n",
       "      <td>5663.300000</td>\n",
       "    </tr>\n",
       "    <tr>\n",
       "      <th>75%</th>\n",
       "      <td>1460.250000</td>\n",
       "      <td>7445.560000</td>\n",
       "      <td>6304.630175</td>\n",
       "      <td>17860.470000</td>\n",
       "      <td>6304.630175</td>\n",
       "    </tr>\n",
       "    <tr>\n",
       "      <th>max</th>\n",
       "      <td>2872.867839</td>\n",
       "      <td>13559.600000</td>\n",
       "      <td>7778.637689</td>\n",
       "      <td>24124.150000</td>\n",
       "      <td>7778.637689</td>\n",
       "    </tr>\n",
       "  </tbody>\n",
       "</table>\n",
       "</div>"
      ],
      "text/plain": [
       "               spx           dax         ftse        nikkei  market_value\n",
       "count  6277.000000   6277.000000  6277.000000   6277.000000   6277.000000\n",
       "mean   1288.642547   6083.381061  5423.679824  14597.672753   5423.679824\n",
       "std     487.868210   2755.563853  1145.616719   4043.795272   1145.616719\n",
       "min     438.920000   1911.700000  2876.600000   7054.980000   2876.600000\n",
       "25%     992.715221   4070.460000  4486.730000  10701.130000   4486.730000\n",
       "50%    1233.761241   5774.260000  5663.300000  15030.510000   5663.300000\n",
       "75%    1460.250000   7445.560000  6304.630175  17860.470000   6304.630175\n",
       "max    2872.867839  13559.600000  7778.637689  24124.150000   7778.637689"
      ]
     },
     "execution_count": 7,
     "metadata": {},
     "output_type": "execute_result"
    }
   ],
   "source": [
    "# picking market value for FTSE\n",
    "df['market_value'] = df.ftse\n",
    "\n",
    "# df.drop([\"ftse\", \"nikkei\", \"dax\"], axis=1, inplace=True)\n",
    "df.describe()\n"
   ]
  },
  {
   "cell_type": "code",
   "execution_count": 8,
   "metadata": {},
   "outputs": [
    {
     "data": {
      "text/plain": [
       "((5021, 5), (1256, 5))"
      ]
     },
     "execution_count": 8,
     "metadata": {},
     "output_type": "execute_result"
    }
   ],
   "source": [
    "train_locs = int(df.shape[0]*0.8)\n",
    "df, df_test = df.iloc[:train_locs], df.iloc[train_locs:]\n",
    "df.shape, df_test.shape\n"
   ]
  },
  {
   "cell_type": "code",
   "execution_count": 9,
   "metadata": {},
   "outputs": [],
   "source": [
    "def llr_test(model_one, model_two, df=1):\n",
    "    l1 = model_one.fit().llf\n",
    "    l2 = model_two.fit().llf\n",
    "    lr = (2*(l2-l1))\n",
    "    p = chi2.sf(lr, df).round(3)\n",
    "    return p"
   ]
  },
  {
   "cell_type": "markdown",
   "metadata": {},
   "source": [
    "Creating returns "
   ]
  },
  {
   "cell_type": "code",
   "execution_count": 10,
   "metadata": {},
   "outputs": [],
   "source": [
    "df['returns'] = df.market_value.pct_change(1) * 100 "
   ]
  },
  {
   "cell_type": "markdown",
   "metadata": {},
   "source": [
    "Squared returns "
   ]
  },
  {
   "cell_type": "code",
   "execution_count": 11,
   "metadata": {},
   "outputs": [],
   "source": [
    "df['squared_returns'] = df.returns.mul(df.returns)"
   ]
  },
  {
   "cell_type": "markdown",
   "metadata": {},
   "source": [
    "#### Returns vs Squared Returns "
   ]
  },
  {
   "cell_type": "code",
   "execution_count": 12,
   "metadata": {},
   "outputs": [
    {
     "data": {
      "image/png": "[encoded data removed]",
      "text/plain": [
       "<Figure size 1440x360 with 1 Axes>"
      ]
     },
     "metadata": {},
     "output_type": "display_data"
    }
   ],
   "source": [
    "df.returns.plot(figsize=(20,5))\n",
    "plt.title(\"Returns\", size = 16)\n",
    "plt.show()"
   ]
  },
  {
   "cell_type": "code",
   "execution_count": 13,
   "metadata": {},
   "outputs": [
    {
     "data": {
      "image/png": "[encoded data removed]",
      "text/plain": [
       "<Figure size 1440x360 with 1 Axes>"
      ]
     },
     "metadata": {},
     "output_type": "display_data"
    }
   ],
   "source": [
    "df.squared_returns.plot(figsize=(20, 5))\n",
    "plt.title(\"Squared Returns\", size=16)\n",
    "plt.show()\n"
   ]
  },
  {
   "cell_type": "code",
   "execution_count": 14,
   "metadata": {},
   "outputs": [
    {
     "data": {
      "image/png": "[encoded data removed]",
      "text/plain": [
       "<Figure size 432x288 with 1 Axes>"
      ]
     },
     "metadata": {},
     "output_type": "display_data"
    }
   ],
   "source": [
    "sgt.plot_pacf(df['returns'][1:], zero=False, lags=40, alpha=0.05, method=('ols'))\n",
    "plt.title(\"PACF of Returns\", size=16)\n",
    "plt.show()"
   ]
  },
  {
   "cell_type": "code",
   "execution_count": 15,
   "metadata": {},
   "outputs": [
    {
     "data": {
      "image/png": "[encoded data removed]",
      "text/plain": [
       "<Figure size 432x288 with 1 Axes>"
      ]
     },
     "metadata": {},
     "output_type": "display_data"
    }
   ],
   "source": [
    "sgt.plot_pacf(df['squared_returns'][1:], zero=False, lags=40, alpha=0.05, method=('ols'))\n",
    "plt.title(\"PACF of Squared Returns\", size=16)\n",
    "plt.show()"
   ]
  },
  {
   "cell_type": "markdown",
   "metadata": {},
   "source": [
    "We can see that the first six lags are significant with the first five yielding coefficients between 0.15 and 0.25, such high significant values of partial autocorrelation among the first few lags suggests that there tend to be short term trends invariance. Another way to think about this is clustering where we have periods of high variation, followed by\n",
    "periods of high variations, as well as periods of low variation, followed by periods of low variation. This is exactly what the volatility characteristics stated earlier, so our data set makes perfect sense."
   ]
  },
  {
   "cell_type": "markdown",
   "metadata": {},
   "source": [
    "### The ARCH(N) Model "
   ]
  },
  {
   "cell_type": "code",
   "execution_count": 16,
   "metadata": {},
   "outputs": [
    {
     "name": "stdout",
     "output_type": "stream",
     "text": [
      "Iteration:      1,   Func. Count:      6,   Neg. LLF: 6579303469.390623\n",
      "Iteration:      2,   Func. Count:     15,   Neg. LLF: 2701100877.2298183\n",
      "Iteration:      3,   Func. Count:     23,   Neg. LLF: 7009.030632045198\n",
      "Iteration:      4,   Func. Count:     29,   Neg. LLF: 7024.035884053223\n",
      "Iteration:      5,   Func. Count:     35,   Neg. LLF: 7010.712866814991\n",
      "Iteration:      6,   Func. Count:     41,   Neg. LLF: 6975.418107495356\n",
      "Iteration:      7,   Func. Count:     47,   Neg. LLF: 7092.271289251072\n",
      "Iteration:      8,   Func. Count:     53,   Neg. LLF: 6973.8792679196495\n",
      "Iteration:      9,   Func. Count:     59,   Neg. LLF: 6970.088049064454\n",
      "Iteration:     10,   Func. Count:     64,   Neg. LLF: 6970.058478417896\n",
      "Iteration:     11,   Func. Count:     69,   Neg. LLF: 6970.058367475591\n",
      "Iteration:     12,   Func. Count:     74,   Neg. LLF: 6970.058366189888\n",
      "Iteration:     13,   Func. Count:     78,   Neg. LLF: 6970.058366189172\n",
      "Optimization terminated successfully    (Exit mode 0)\n",
      "            Current function value: 6970.058366189888\n",
      "            Iterations: 13\n",
      "            Function evaluations: 78\n",
      "            Gradient evaluations: 13\n"
     ]
    },
    {
     "data": {
      "text/html": [
       "<table class=\"simpletable\">\n",
       "<caption>Constant Mean - GARCH Model Results</caption>\n",
       "<tr>\n",
       "  <th>Dep. Variable:</th>       <td>returns</td>      <th>  R-squared:         </th>  <td>   0.000</td> \n",
       "</tr>\n",
       "<tr>\n",
       "  <th>Mean Model:</th>       <td>Constant Mean</td>   <th>  Adj. R-squared:    </th>  <td>   0.000</td> \n",
       "</tr>\n",
       "<tr>\n",
       "  <th>Vol Model:</th>            <td>GARCH</td>       <th>  Log-Likelihood:    </th> <td>  -6970.06</td>\n",
       "</tr>\n",
       "<tr>\n",
       "  <th>Distribution:</th>        <td>Normal</td>       <th>  AIC:               </th> <td>   13948.1</td>\n",
       "</tr>\n",
       "<tr>\n",
       "  <th>Method:</th>        <td>Maximum Likelihood</td> <th>  BIC:               </th> <td>   13974.2</td>\n",
       "</tr>\n",
       "<tr>\n",
       "  <th></th>                        <td></td>          <th>  No. Observations:  </th>    <td>5020</td>   \n",
       "</tr>\n",
       "<tr>\n",
       "  <th>Date:</th>           <td>Tue, Aug 23 2022</td>  <th>  Df Residuals:      </th>    <td>5019</td>   \n",
       "</tr>\n",
       "<tr>\n",
       "  <th>Time:</th>               <td>18:24:54</td>      <th>  Df Model:          </th>      <td>1</td>    \n",
       "</tr>\n",
       "</table>\n",
       "<table class=\"simpletable\">\n",
       "<caption>Mean Model</caption>\n",
       "<tr>\n",
       "   <td></td>     <th>coef</th>     <th>std err</th>      <th>t</th>       <th>P>|t|</th>     <th>95.0% Conf. Int.</th>   \n",
       "</tr>\n",
       "<tr>\n",
       "  <th>mu</th> <td>    0.0466</td> <td>1.183e-02</td> <td>    3.939</td> <td>8.187e-05</td> <td>[2.342e-02,6.981e-02]</td>\n",
       "</tr>\n",
       "</table>\n",
       "<table class=\"simpletable\">\n",
       "<caption>Volatility Model</caption>\n",
       "<tr>\n",
       "      <td></td>        <th>coef</th>     <th>std err</th>      <th>t</th>       <th>P>|t|</th>     <th>95.0% Conf. Int.</th>   \n",
       "</tr>\n",
       "<tr>\n",
       "  <th>omega</th>    <td>    0.0109</td> <td>3.004e-03</td> <td>    3.640</td> <td>2.724e-04</td> <td>[5.048e-03,1.682e-02]</td>\n",
       "</tr>\n",
       "<tr>\n",
       "  <th>alpha[1]</th> <td>    0.0835</td> <td>1.071e-02</td> <td>    7.794</td> <td>6.476e-15</td>  <td>[6.249e-02,  0.104]</td> \n",
       "</tr>\n",
       "<tr>\n",
       "  <th>beta[1]</th>  <td>    0.9089</td> <td>1.148e-02</td> <td>   79.168</td>   <td>0.000</td>     <td>[  0.886,  0.931]</td>  \n",
       "</tr>\n",
       "</table><br/><br/>Covariance estimator: robust"
      ],
      "text/plain": [
       "<class 'statsmodels.iolib.summary.Summary'>\n",
       "\"\"\"\n",
       "                     Constant Mean - GARCH Model Results                      \n",
       "==============================================================================\n",
       "Dep. Variable:                returns   R-squared:                       0.000\n",
       "Mean Model:             Constant Mean   Adj. R-squared:                  0.000\n",
       "Vol Model:                      GARCH   Log-Likelihood:               -6970.06\n",
       "Distribution:                  Normal   AIC:                           13948.1\n",
       "Method:            Maximum Likelihood   BIC:                           13974.2\n",
       "                                        No. Observations:                 5020\n",
       "Date:                Tue, Aug 23 2022   Df Residuals:                     5019\n",
       "Time:                        18:24:54   Df Model:                            1\n",
       "                                 Mean Model                                 \n",
       "============================================================================\n",
       "                 coef    std err          t      P>|t|      95.0% Conf. Int.\n",
       "----------------------------------------------------------------------------\n",
       "mu             0.0466  1.183e-02      3.939  8.187e-05 [2.342e-02,6.981e-02]\n",
       "                              Volatility Model                              \n",
       "============================================================================\n",
       "                 coef    std err          t      P>|t|      95.0% Conf. Int.\n",
       "----------------------------------------------------------------------------\n",
       "omega          0.0109  3.004e-03      3.640  2.724e-04 [5.048e-03,1.682e-02]\n",
       "alpha[1]       0.0835  1.071e-02      7.794  6.476e-15   [6.249e-02,  0.104]\n",
       "beta[1]        0.9089  1.148e-02     79.168      0.000     [  0.886,  0.931]\n",
       "============================================================================\n",
       "\n",
       "Covariance estimator: robust\n",
       "\"\"\""
      ]
     },
     "execution_count": 16,
     "metadata": {},
     "output_type": "execute_result"
    }
   ],
   "source": [
    "# Let build minimal model and print out the summary\n",
    "\n",
    "model_arch_1 = arch_model(df.returns[1:])\n",
    "result_arch_1 = model_arch_1.fit()\n",
    "result_arch_1.summary()\n"
   ]
  },
  {
   "cell_type": "markdown",
   "metadata": {},
   "source": [
    "Lets look at the Constant Mean - GARCH Model Results. \n",
    "\n",
    "Let's begin with the mean model box, which states constant. This implies that the mean is constant rather than moving, as our previous experience with returns suggested. Below, we see the volatility model, which is labeled as GARCH instead of ARCH, this confirms that we are using a different type of model for the variance equation, we will discuss it.\n",
    "\n",
    "Next up, we can notice normal written next to distributions. This expresses the distribution of the residuals. The method dictates how we find the coefficients, which is the maximum likelihood in this case as it ought to be. The date and time, of course, express when the feting happened. Another important focus is DF (degrees of freedom) of this model, which it showcases the number of coefficients we're trying to estimate.\n",
    "\n",
    "**Iteration Output**\n",
    "\n",
    "it takes several iterations before it converges. This, of course, is due to fitting two equations at the same time. \n",
    "\n",
    "*How it works !!*\n",
    "\n",
    "It fits a model with certain coefficients, then checks how well it is performed afterwards. It adjusts the coefficients before making a secondary check and so on. This means the absolute values have to increase so that the program can stop\n",
    "\n",
    "\n",
    "**Mean MOdel**\n",
    "\n",
    "we see there is a single variable MEU and it's characteristics. This view is the same as the one we had in our initial equation, and since we saw this as a constant, mean model, we expect only a single constant coefficient to be determined for this equation. Furthermore, the large t value suggests significance of the coefficient, so we know the mean isn't zero.\n",
    "\n",
    "**Volatility Model**\n",
    "\n",
    "\n",
    "The Omega represents the constant value in the variance. It's what we labeled as alpha null when we introduced the equation. The $\\alpha_1$, which is obviously the coefficient for the squared values right under it. We have $\\beta_1$."
   ]
  },
  {
   "cell_type": "code",
   "execution_count": 17,
   "metadata": {},
   "outputs": [
    {
     "name": "stdout",
     "output_type": "stream",
     "text": [
      "Iteration:      1,   Func. Count:      5,   Neg. LLF: 29071.83486537579\n",
      "Iteration:      2,   Func. Count:     13,   Neg. LLF: 12040.736044828116\n",
      "Iteration:      3,   Func. Count:     20,   Neg. LLF: 7809.7227529035545\n",
      "Iteration:      4,   Func. Count:     26,   Neg. LLF: 7660.088789376123\n",
      "Iteration:      5,   Func. Count:     30,   Neg. LLF: 7660.088782040875\n",
      "Iteration:      6,   Func. Count:     33,   Neg. LLF: 7660.088782040906\n",
      "Optimization terminated successfully    (Exit mode 0)\n",
      "            Current function value: 7660.088782040875\n",
      "            Iterations: 6\n",
      "            Function evaluations: 33\n",
      "            Gradient evaluations: 6\n"
     ]
    },
    {
     "data": {
      "text/html": [
       "<table class=\"simpletable\">\n",
       "<caption>Constant Mean - ARCH Model Results</caption>\n",
       "<tr>\n",
       "  <th>Dep. Variable:</th>       <td>returns</td>      <th>  R-squared:         </th>  <td>   0.000</td> \n",
       "</tr>\n",
       "<tr>\n",
       "  <th>Mean Model:</th>       <td>Constant Mean</td>   <th>  Adj. R-squared:    </th>  <td>   0.000</td> \n",
       "</tr>\n",
       "<tr>\n",
       "  <th>Vol Model:</th>            <td>ARCH</td>        <th>  Log-Likelihood:    </th> <td>  -7660.09</td>\n",
       "</tr>\n",
       "<tr>\n",
       "  <th>Distribution:</th>        <td>Normal</td>       <th>  AIC:               </th> <td>   15326.2</td>\n",
       "</tr>\n",
       "<tr>\n",
       "  <th>Method:</th>        <td>Maximum Likelihood</td> <th>  BIC:               </th> <td>   15345.7</td>\n",
       "</tr>\n",
       "<tr>\n",
       "  <th></th>                        <td></td>          <th>  No. Observations:  </th>    <td>5020</td>   \n",
       "</tr>\n",
       "<tr>\n",
       "  <th>Date:</th>           <td>Tue, Aug 23 2022</td>  <th>  Df Residuals:      </th>    <td>5019</td>   \n",
       "</tr>\n",
       "<tr>\n",
       "  <th>Time:</th>               <td>18:24:54</td>      <th>  Df Model:          </th>      <td>1</td>    \n",
       "</tr>\n",
       "</table>\n",
       "<table class=\"simpletable\">\n",
       "<caption>Mean Model</caption>\n",
       "<tr>\n",
       "   <td></td>     <th>coef</th>     <th>std err</th>      <th>t</th>       <th>P>|t|</th>     <th>95.0% Conf. Int.</th>   \n",
       "</tr>\n",
       "<tr>\n",
       "  <th>mu</th> <td>    0.0345</td> <td>1.603e-02</td> <td>    2.151</td> <td>3.147e-02</td> <td>[3.063e-03,6.590e-02]</td>\n",
       "</tr>\n",
       "</table>\n",
       "<table class=\"simpletable\">\n",
       "<caption>Volatility Model</caption>\n",
       "<tr>\n",
       "      <td></td>        <th>coef</th>     <th>std err</th>      <th>t</th>        <th>P>|t|</th>   <th>95.0% Conf. Int.</th> \n",
       "</tr>\n",
       "<tr>\n",
       "  <th>omega</th>    <td>    0.9206</td> <td>4.309e-02</td> <td>   21.365</td> <td>2.855e-101</td> <td>[  0.836,  1.005]</td>\n",
       "</tr>\n",
       "<tr>\n",
       "  <th>alpha[1]</th> <td>    0.3684</td> <td>5.040e-02</td> <td>    7.310</td>  <td>2.673e-13</td> <td>[  0.270,  0.467]</td>\n",
       "</tr>\n",
       "</table><br/><br/>Covariance estimator: robust"
      ],
      "text/plain": [
       "<class 'statsmodels.iolib.summary.Summary'>\n",
       "\"\"\"\n",
       "                      Constant Mean - ARCH Model Results                      \n",
       "==============================================================================\n",
       "Dep. Variable:                returns   R-squared:                       0.000\n",
       "Mean Model:             Constant Mean   Adj. R-squared:                  0.000\n",
       "Vol Model:                       ARCH   Log-Likelihood:               -7660.09\n",
       "Distribution:                  Normal   AIC:                           15326.2\n",
       "Method:            Maximum Likelihood   BIC:                           15345.7\n",
       "                                        No. Observations:                 5020\n",
       "Date:                Tue, Aug 23 2022   Df Residuals:                     5019\n",
       "Time:                        18:24:54   Df Model:                            1\n",
       "                                 Mean Model                                 \n",
       "============================================================================\n",
       "                 coef    std err          t      P>|t|      95.0% Conf. Int.\n",
       "----------------------------------------------------------------------------\n",
       "mu             0.0345  1.603e-02      2.151  3.147e-02 [3.063e-03,6.590e-02]\n",
       "                            Volatility Model                            \n",
       "========================================================================\n",
       "                 coef    std err          t      P>|t|  95.0% Conf. Int.\n",
       "------------------------------------------------------------------------\n",
       "omega          0.9206  4.309e-02     21.365 2.855e-101 [  0.836,  1.005]\n",
       "alpha[1]       0.3684  5.040e-02      7.310  2.673e-13 [  0.270,  0.467]\n",
       "========================================================================\n",
       "\n",
       "Covariance estimator: robust\n",
       "\"\"\""
      ]
     },
     "execution_count": 17,
     "metadata": {},
     "output_type": "execute_result"
    }
   ],
   "source": [
    "sim_model_arch_1 = arch_model(df.returns[1:], mean='Constant', vol=\"ARCH\", p=1)\n",
    "sim_result_arch_1 = sim_model_arch_1.fit()\n",
    "sim_result_arch_1.summary()"
   ]
  },
  {
   "cell_type": "markdown",
   "metadata": {},
   "source": [
    "We see that it took this model only six iterations to execute, this means the specifications were loose enough and Python managed to solve the regression in only six tries. This implies our model is light and doesn't take too long to compute. If we have a look at the right column, we'll see both the adjusted and unadjusted R squared values. First of all, there is no such thing as minus zero, the notation simply means that the value is negative, but its absolute value is very minute that we should round it down to zero, even up to the third digit after the decimal point. Second of all, we know that the R-squared is a measurement of explanatory variation away from the mean. So if we're assuming a constant mean, it makes little sense to expect this model to explain that deviation well. In other words, if the residuals are simply a version of the original data set where every value is decreased by a constant, then there will be no actual variance, and that results in a zero R squared value. we must remember that the R-squared is a useful measure, but not for arch models.\n",
    "\n",
    "Moving on, we can see that the log likelihood is roughly -7660. If you compare this to the values we got for the AMA and Arima, you'll see that the arch value is higher than most. The LL measures the goodness of fit. Therefore, even the simplest arch model yields a better estimate than the complex multi Lag ARIMA model we referred to earlier.\n",
    "\n",
    "\n",
    "From the degrees of freedom in the first table, we know that there should be three coefficients. These three are $C$, $\\alpha_0$, and $\\alpha_1$.\n",
    "\n",
    "Now Lets look at he Mean Model. P-value is 0.03147, and and coefficient 0.0345.The $\\mu$ coefficient is significant.\n",
    "\n",
    "The volatility model, We see that both Omega and Alpha one are significant. Omega here represents the constant term of the variant equation, which we dubbed as $\\alpha_0$. So we are estimating only three coefficients and all three turn out to be significant.\n",
    "\n",
    "\n",
    "So the ARCH(1) instantly becomes the best estimate of the data we've seen so far."
   ]
  },
  {
   "cell_type": "markdown",
   "metadata": {},
   "source": [
    "**However, it is crucial to remember that the arch can only be used to predict future variants rather than future returns, thus we can use it to determine if we expect to see stability in the market, but not predict if the prices would go up or down.**"
   ]
  },
  {
   "cell_type": "markdown",
   "metadata": {},
   "source": [
    "### Higher Lag ARCH method "
   ]
  },
  {
   "cell_type": "code",
   "execution_count": 18,
   "metadata": {},
   "outputs": [
    {
     "name": "stdout",
     "output_type": "stream",
     "text": [
      "Iteration:      1,   Func. Count:      6,   Neg. LLF: 34336.61062838968\n",
      "Iteration:      2,   Func. Count:     15,   Neg. LLF: 11809.810463437398\n",
      "Iteration:      3,   Func. Count:     24,   Neg. LLF: 7900.582867042022\n",
      "Iteration:      4,   Func. Count:     31,   Neg. LLF: 7647.101576187482\n",
      "Iteration:      5,   Func. Count:     37,   Neg. LLF: 8810.02930517937\n",
      "Iteration:      6,   Func. Count:     44,   Neg. LLF: 7449.551200532487\n",
      "Iteration:      7,   Func. Count:     49,   Neg. LLF: 7449.545177539265\n",
      "Iteration:      8,   Func. Count:     54,   Neg. LLF: 7449.545164098316\n",
      "Iteration:      9,   Func. Count:     58,   Neg. LLF: 7449.545164098206\n",
      "Optimization terminated successfully    (Exit mode 0)\n",
      "            Current function value: 7449.545164098316\n",
      "            Iterations: 9\n",
      "            Function evaluations: 58\n",
      "            Gradient evaluations: 9\n"
     ]
    },
    {
     "data": {
      "text/html": [
       "<table class=\"simpletable\">\n",
       "<caption>Constant Mean - ARCH Model Results</caption>\n",
       "<tr>\n",
       "  <th>Dep. Variable:</th>       <td>returns</td>      <th>  R-squared:         </th>  <td>   0.000</td> \n",
       "</tr>\n",
       "<tr>\n",
       "  <th>Mean Model:</th>       <td>Constant Mean</td>   <th>  Adj. R-squared:    </th>  <td>   0.000</td> \n",
       "</tr>\n",
       "<tr>\n",
       "  <th>Vol Model:</th>            <td>ARCH</td>        <th>  Log-Likelihood:    </th> <td>  -7449.55</td>\n",
       "</tr>\n",
       "<tr>\n",
       "  <th>Distribution:</th>        <td>Normal</td>       <th>  AIC:               </th> <td>   14907.1</td>\n",
       "</tr>\n",
       "<tr>\n",
       "  <th>Method:</th>        <td>Maximum Likelihood</td> <th>  BIC:               </th> <td>   14933.2</td>\n",
       "</tr>\n",
       "<tr>\n",
       "  <th></th>                        <td></td>          <th>  No. Observations:  </th>    <td>5020</td>   \n",
       "</tr>\n",
       "<tr>\n",
       "  <th>Date:</th>           <td>Tue, Aug 23 2022</td>  <th>  Df Residuals:      </th>    <td>5019</td>   \n",
       "</tr>\n",
       "<tr>\n",
       "  <th>Time:</th>               <td>18:24:54</td>      <th>  Df Model:          </th>      <td>1</td>    \n",
       "</tr>\n",
       "</table>\n",
       "<table class=\"simpletable\">\n",
       "<caption>Mean Model</caption>\n",
       "<tr>\n",
       "   <td></td>     <th>coef</th>     <th>std err</th>      <th>t</th>       <th>P>|t|</th>     <th>95.0% Conf. Int.</th>   \n",
       "</tr>\n",
       "<tr>\n",
       "  <th>mu</th> <td>    0.0484</td> <td>1.401e-02</td> <td>    3.455</td> <td>5.495e-04</td> <td>[2.095e-02,7.585e-02]</td>\n",
       "</tr>\n",
       "</table>\n",
       "<table class=\"simpletable\">\n",
       "<caption>Volatility Model</caption>\n",
       "<tr>\n",
       "      <td></td>        <th>coef</th>     <th>std err</th>      <th>t</th>       <th>P>|t|</th>   <th>95.0% Conf. Int.</th> \n",
       "</tr>\n",
       "<tr>\n",
       "  <th>omega</th>    <td>    0.6978</td> <td>3.564e-02</td> <td>   19.580</td> <td>2.272e-85</td> <td>[  0.628,  0.768]</td>\n",
       "</tr>\n",
       "<tr>\n",
       "  <th>alpha[1]</th> <td>    0.2202</td> <td>3.474e-02</td> <td>    6.339</td> <td>2.311e-10</td> <td>[  0.152,  0.288]</td>\n",
       "</tr>\n",
       "<tr>\n",
       "  <th>alpha[2]</th> <td>    0.2783</td> <td>3.645e-02</td> <td>    7.635</td> <td>2.260e-14</td> <td>[  0.207,  0.350]</td>\n",
       "</tr>\n",
       "</table><br/><br/>Covariance estimator: robust"
      ],
      "text/plain": [
       "<class 'statsmodels.iolib.summary.Summary'>\n",
       "\"\"\"\n",
       "                      Constant Mean - ARCH Model Results                      \n",
       "==============================================================================\n",
       "Dep. Variable:                returns   R-squared:                       0.000\n",
       "Mean Model:             Constant Mean   Adj. R-squared:                  0.000\n",
       "Vol Model:                       ARCH   Log-Likelihood:               -7449.55\n",
       "Distribution:                  Normal   AIC:                           14907.1\n",
       "Method:            Maximum Likelihood   BIC:                           14933.2\n",
       "                                        No. Observations:                 5020\n",
       "Date:                Tue, Aug 23 2022   Df Residuals:                     5019\n",
       "Time:                        18:24:54   Df Model:                            1\n",
       "                                 Mean Model                                 \n",
       "============================================================================\n",
       "                 coef    std err          t      P>|t|      95.0% Conf. Int.\n",
       "----------------------------------------------------------------------------\n",
       "mu             0.0484  1.401e-02      3.455  5.495e-04 [2.095e-02,7.585e-02]\n",
       "                            Volatility Model                            \n",
       "========================================================================\n",
       "                 coef    std err          t      P>|t|  95.0% Conf. Int.\n",
       "------------------------------------------------------------------------\n",
       "omega          0.6978  3.564e-02     19.580  2.272e-85 [  0.628,  0.768]\n",
       "alpha[1]       0.2202  3.474e-02      6.339  2.311e-10 [  0.152,  0.288]\n",
       "alpha[2]       0.2783  3.645e-02      7.635  2.260e-14 [  0.207,  0.350]\n",
       "========================================================================\n",
       "\n",
       "Covariance estimator: robust\n",
       "\"\"\""
      ]
     },
     "execution_count": 18,
     "metadata": {},
     "output_type": "execute_result"
    }
   ],
   "source": [
    "model_arch_2= arch_model(df.returns[1:], mean='Constant', vol=\"ARCH\", p=2)\n",
    "result_arch_2 = model_arch_2.fit()\n",
    "result_arch_2.summary()\n"
   ]
  },
  {
   "cell_type": "code",
   "execution_count": 19,
   "metadata": {},
   "outputs": [
    {
     "name": "stdout",
     "output_type": "stream",
     "text": [
      "Iteration:      1,   Func. Count:      7,   Neg. LLF: 39962.465851469606\n",
      "Iteration:      2,   Func. Count:     18,   Neg. LLF: 11954.630689597143\n",
      "Iteration:      3,   Func. Count:     27,   Neg. LLF: 8336.666751802351\n",
      "Iteration:      4,   Func. Count:     34,   Neg. LLF: 7489.93945684613\n",
      "Iteration:      5,   Func. Count:     41,   Neg. LLF: 7496.4079308108885\n",
      "Iteration:      6,   Func. Count:     48,   Neg. LLF: 7393.754032519646\n",
      "Iteration:      7,   Func. Count:     56,   Neg. LLF: 7301.714171954324\n",
      "Iteration:      8,   Func. Count:     63,   Neg. LLF: 7277.050581173273\n",
      "Iteration:      9,   Func. Count:     69,   Neg. LLF: 7277.050453151904\n",
      "Iteration:     10,   Func. Count:     75,   Neg. LLF: 7277.050452148393\n",
      "Iteration:     11,   Func. Count:     80,   Neg. LLF: 7277.0504521483745\n",
      "Optimization terminated successfully    (Exit mode 0)\n",
      "            Current function value: 7277.050452148393\n",
      "            Iterations: 11\n",
      "            Function evaluations: 80\n",
      "            Gradient evaluations: 11\n"
     ]
    },
    {
     "data": {
      "text/html": [
       "<table class=\"simpletable\">\n",
       "<caption>Constant Mean - ARCH Model Results</caption>\n",
       "<tr>\n",
       "  <th>Dep. Variable:</th>       <td>returns</td>      <th>  R-squared:         </th>  <td>   0.000</td> \n",
       "</tr>\n",
       "<tr>\n",
       "  <th>Mean Model:</th>       <td>Constant Mean</td>   <th>  Adj. R-squared:    </th>  <td>   0.000</td> \n",
       "</tr>\n",
       "<tr>\n",
       "  <th>Vol Model:</th>            <td>ARCH</td>        <th>  Log-Likelihood:    </th> <td>  -7277.05</td>\n",
       "</tr>\n",
       "<tr>\n",
       "  <th>Distribution:</th>        <td>Normal</td>       <th>  AIC:               </th> <td>   14564.1</td>\n",
       "</tr>\n",
       "<tr>\n",
       "  <th>Method:</th>        <td>Maximum Likelihood</td> <th>  BIC:               </th> <td>   14596.7</td>\n",
       "</tr>\n",
       "<tr>\n",
       "  <th></th>                        <td></td>          <th>  No. Observations:  </th>    <td>5020</td>   \n",
       "</tr>\n",
       "<tr>\n",
       "  <th>Date:</th>           <td>Tue, Aug 23 2022</td>  <th>  Df Residuals:      </th>    <td>5019</td>   \n",
       "</tr>\n",
       "<tr>\n",
       "  <th>Time:</th>               <td>18:24:54</td>      <th>  Df Model:          </th>      <td>1</td>    \n",
       "</tr>\n",
       "</table>\n",
       "<table class=\"simpletable\">\n",
       "<caption>Mean Model</caption>\n",
       "<tr>\n",
       "   <td></td>     <th>coef</th>     <th>std err</th>      <th>t</th>       <th>P>|t|</th>     <th>95.0% Conf. Int.</th>   \n",
       "</tr>\n",
       "<tr>\n",
       "  <th>mu</th> <td>    0.0529</td> <td>1.316e-02</td> <td>    4.018</td> <td>5.875e-05</td> <td>[2.707e-02,7.865e-02]</td>\n",
       "</tr>\n",
       "</table>\n",
       "<table class=\"simpletable\">\n",
       "<caption>Volatility Model</caption>\n",
       "<tr>\n",
       "      <td></td>        <th>coef</th>     <th>std err</th>      <th>t</th>       <th>P>|t|</th>   <th>95.0% Conf. Int.</th> \n",
       "</tr>\n",
       "<tr>\n",
       "  <th>omega</th>    <td>    0.5012</td> <td>2.834e-02</td> <td>   17.685</td> <td>5.505e-70</td> <td>[  0.446,  0.557]</td>\n",
       "</tr>\n",
       "<tr>\n",
       "  <th>alpha[1]</th> <td>    0.1570</td> <td>2.649e-02</td> <td>    5.926</td> <td>3.108e-09</td> <td>[  0.105,  0.209]</td>\n",
       "</tr>\n",
       "<tr>\n",
       "  <th>alpha[2]</th> <td>    0.2197</td> <td>2.588e-02</td> <td>    8.489</td> <td>2.077e-17</td> <td>[  0.169,  0.270]</td>\n",
       "</tr>\n",
       "<tr>\n",
       "  <th>alpha[3]</th> <td>    0.2804</td> <td>3.354e-02</td> <td>    8.359</td> <td>6.302e-17</td> <td>[  0.215,  0.346]</td>\n",
       "</tr>\n",
       "</table><br/><br/>Covariance estimator: robust"
      ],
      "text/plain": [
       "<class 'statsmodels.iolib.summary.Summary'>\n",
       "\"\"\"\n",
       "                      Constant Mean - ARCH Model Results                      \n",
       "==============================================================================\n",
       "Dep. Variable:                returns   R-squared:                       0.000\n",
       "Mean Model:             Constant Mean   Adj. R-squared:                  0.000\n",
       "Vol Model:                       ARCH   Log-Likelihood:               -7277.05\n",
       "Distribution:                  Normal   AIC:                           14564.1\n",
       "Method:            Maximum Likelihood   BIC:                           14596.7\n",
       "                                        No. Observations:                 5020\n",
       "Date:                Tue, Aug 23 2022   Df Residuals:                     5019\n",
       "Time:                        18:24:54   Df Model:                            1\n",
       "                                 Mean Model                                 \n",
       "============================================================================\n",
       "                 coef    std err          t      P>|t|      95.0% Conf. Int.\n",
       "----------------------------------------------------------------------------\n",
       "mu             0.0529  1.316e-02      4.018  5.875e-05 [2.707e-02,7.865e-02]\n",
       "                            Volatility Model                            \n",
       "========================================================================\n",
       "                 coef    std err          t      P>|t|  95.0% Conf. Int.\n",
       "------------------------------------------------------------------------\n",
       "omega          0.5012  2.834e-02     17.685  5.505e-70 [  0.446,  0.557]\n",
       "alpha[1]       0.1570  2.649e-02      5.926  3.108e-09 [  0.105,  0.209]\n",
       "alpha[2]       0.2197  2.588e-02      8.489  2.077e-17 [  0.169,  0.270]\n",
       "alpha[3]       0.2804  3.354e-02      8.359  6.302e-17 [  0.215,  0.346]\n",
       "========================================================================\n",
       "\n",
       "Covariance estimator: robust\n",
       "\"\"\""
      ]
     },
     "execution_count": 19,
     "metadata": {},
     "output_type": "execute_result"
    }
   ],
   "source": [
    "model_arch_3= arch_model(df.returns[1:], mean='Constant', vol=\"ARCH\", p=3)\n",
    "result_arch_3 = model_arch_3.fit()\n",
    "result_arch_3.summary()\n"
   ]
  },
  {
   "cell_type": "code",
   "execution_count": null,
   "metadata": {},
   "outputs": [],
   "source": []
  }
 ],
 "metadata": {
  "kernelspec": {
   "display_name": "Python 3.8.8 ('base')",
   "language": "python",
   "name": "python3"
  },
  "language_info": {
   "codemirror_mode": {
    "name": "ipython",
    "version": 3
   },
   "file_extension": ".py",
   "mimetype": "text/x-python",
   "name": "python",
   "nbconvert_exporter": "python",
   "pygments_lexer": "ipython3",
   "version": "3.8.8"
  },
  "orig_nbformat": 4,
  "vscode": {
   "interpreter": {
    "hash": "ebfd0efb22d0aaf13cd3245e60b60602479d0f2314e29debef770cffec75cf48"
   }
  }
 },
 "nbformat": 4,
 "nbformat_minor": 2
}
