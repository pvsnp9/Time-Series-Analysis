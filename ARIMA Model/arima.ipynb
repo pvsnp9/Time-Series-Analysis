{
 "cells": [
  {
   "cell_type": "markdown",
   "metadata": {},
   "source": [
    "### ARIMA \n",
    "\n",
    "- Intuition\n",
    "- Non-stationary data \n",
    "- Level of integration \n",
    "- Stationary data \n",
    "\n",
    "\n",
    "It has $order=(p,d,q)$, where p - AR, and q - MA\n",
    "\n",
    "$d$ - Integration order. It represents the number of times we need to integrate the time series to ensure stationary.\n",
    "\n",
    "**Integrated Model**: Accounting for the non-seasonal difference between periods to establish a stationary. \n",
    "\n",
    "**Equation**\n",
    "\n",
    "ARIMA(1,1,1) \n",
    "\n",
    "$ \\Delta P_t = C + \\phi_1 \\Delta P_{t-1} + \\theta_1 \\epsilon_{t-1} + \\epsilon_t$\n",
    "\n",
    "- $\\Delta P_t$: $ P_t -  P_{t-1}$\n",
    "- $P_t, P_{t-1}$: Values in the current period and a period ago respectively \n",
    "- $ \\epsilon_t, \\epsilon_{t-1}$: Error terms \n",
    "- $C$: Constant\n",
    "- $\\phi_1$: what part of the value last period is relevant in explaining the current one\n",
    "- $\\theta_1$: what part of the value last period is relevant in explaining the current one\n",
    "\n",
    "**In a very simpler term, it is a model for a newly generated time series which is stationary.**\n",
    "\n",
    "In addition, ARIMA does not have ACF, and PACF to suggest the optimal order for different components. We will examine the ACF of $\\epsilon_t$ to have better idea on better lags to use."
   ]
  },
  {
   "cell_type": "code",
   "execution_count": 1,
   "metadata": {},
   "outputs": [],
   "source": [
    "import pandas as pd\n",
    "import numpy as np\n",
    "import matplotlib.pyplot as plt\n",
    "import statsmodels.graphics.tsaplots as sgt\n",
    "from statsmodels.tsa.arima.model import ARIMA\n",
    "from scipy.stats.distributions import chi2\n",
    "import statsmodels.tsa.stattools as sts\n",
    "import seaborn as sns\n",
    "sns.set()\n"
   ]
  },
  {
   "cell_type": "code",
   "execution_count": 2,
   "metadata": {},
   "outputs": [],
   "source": [
    "import warnings\n",
    "warnings.filterwarnings('ignore')"
   ]
  },
  {
   "cell_type": "markdown",
   "metadata": {},
   "source": [
    "#### Primary preprocessing "
   ]
  },
  {
   "cell_type": "code",
   "execution_count": 3,
   "metadata": {},
   "outputs": [],
   "source": [
    "raw_csv_data = pd.read_csv(\"./../datasets/Index2018.csv\")\n",
    "df = raw_csv_data.copy()\n",
    "df.date = pd.to_datetime(df.date, dayfirst=True)\n",
    "df.set_index(\"date\", inplace=True)\n",
    "df = df.asfreq('b')\n",
    "df = df.fillna(method='ffill')"
   ]
  },
  {
   "cell_type": "code",
   "execution_count": 4,
   "metadata": {},
   "outputs": [
    {
     "data": {
      "text/html": [
       "<div>\n",
       "<style scoped>\n",
       "    .dataframe tbody tr th:only-of-type {\n",
       "        vertical-align: middle;\n",
       "    }\n",
       "\n",
       "    .dataframe tbody tr th {\n",
       "        vertical-align: top;\n",
       "    }\n",
       "\n",
       "    .dataframe thead th {\n",
       "        text-align: right;\n",
       "    }\n",
       "</style>\n",
       "<table border=\"1\" class=\"dataframe\">\n",
       "  <thead>\n",
       "    <tr style=\"text-align: right;\">\n",
       "      <th></th>\n",
       "      <th>spx</th>\n",
       "      <th>dax</th>\n",
       "      <th>ftse</th>\n",
       "      <th>nikkei</th>\n",
       "    </tr>\n",
       "    <tr>\n",
       "      <th>date</th>\n",
       "      <th></th>\n",
       "      <th></th>\n",
       "      <th></th>\n",
       "      <th></th>\n",
       "    </tr>\n",
       "  </thead>\n",
       "  <tbody>\n",
       "    <tr>\n",
       "      <th>1994-01-07</th>\n",
       "      <td>469.90</td>\n",
       "      <td>2224.95</td>\n",
       "      <td>3445.98</td>\n",
       "      <td>18124.01</td>\n",
       "    </tr>\n",
       "    <tr>\n",
       "      <th>1994-01-10</th>\n",
       "      <td>475.27</td>\n",
       "      <td>2225.00</td>\n",
       "      <td>3440.58</td>\n",
       "      <td>18443.44</td>\n",
       "    </tr>\n",
       "    <tr>\n",
       "      <th>1994-01-11</th>\n",
       "      <td>474.13</td>\n",
       "      <td>2228.10</td>\n",
       "      <td>3413.77</td>\n",
       "      <td>18485.25</td>\n",
       "    </tr>\n",
       "    <tr>\n",
       "      <th>1994-01-12</th>\n",
       "      <td>474.17</td>\n",
       "      <td>2182.06</td>\n",
       "      <td>3372.02</td>\n",
       "      <td>18793.88</td>\n",
       "    </tr>\n",
       "    <tr>\n",
       "      <th>1994-01-13</th>\n",
       "      <td>472.47</td>\n",
       "      <td>2142.37</td>\n",
       "      <td>3360.01</td>\n",
       "      <td>18577.26</td>\n",
       "    </tr>\n",
       "  </tbody>\n",
       "</table>\n",
       "</div>"
      ],
      "text/plain": [
       "               spx      dax     ftse    nikkei\n",
       "date                                          \n",
       "1994-01-07  469.90  2224.95  3445.98  18124.01\n",
       "1994-01-10  475.27  2225.00  3440.58  18443.44\n",
       "1994-01-11  474.13  2228.10  3413.77  18485.25\n",
       "1994-01-12  474.17  2182.06  3372.02  18793.88\n",
       "1994-01-13  472.47  2142.37  3360.01  18577.26"
      ]
     },
     "execution_count": 4,
     "metadata": {},
     "output_type": "execute_result"
    }
   ],
   "source": [
    "df.head()\n"
   ]
  },
  {
   "cell_type": "code",
   "execution_count": 5,
   "metadata": {},
   "outputs": [
    {
     "data": {
      "text/html": [
       "<div>\n",
       "<style scoped>\n",
       "    .dataframe tbody tr th:only-of-type {\n",
       "        vertical-align: middle;\n",
       "    }\n",
       "\n",
       "    .dataframe tbody tr th {\n",
       "        vertical-align: top;\n",
       "    }\n",
       "\n",
       "    .dataframe thead th {\n",
       "        text-align: right;\n",
       "    }\n",
       "</style>\n",
       "<table border=\"1\" class=\"dataframe\">\n",
       "  <thead>\n",
       "    <tr style=\"text-align: right;\">\n",
       "      <th></th>\n",
       "      <th>market_value</th>\n",
       "    </tr>\n",
       "  </thead>\n",
       "  <tbody>\n",
       "    <tr>\n",
       "      <th>count</th>\n",
       "      <td>6277.000000</td>\n",
       "    </tr>\n",
       "    <tr>\n",
       "      <th>mean</th>\n",
       "      <td>5423.679824</td>\n",
       "    </tr>\n",
       "    <tr>\n",
       "      <th>std</th>\n",
       "      <td>1145.616719</td>\n",
       "    </tr>\n",
       "    <tr>\n",
       "      <th>min</th>\n",
       "      <td>2876.600000</td>\n",
       "    </tr>\n",
       "    <tr>\n",
       "      <th>25%</th>\n",
       "      <td>4486.730000</td>\n",
       "    </tr>\n",
       "    <tr>\n",
       "      <th>50%</th>\n",
       "      <td>5663.300000</td>\n",
       "    </tr>\n",
       "    <tr>\n",
       "      <th>75%</th>\n",
       "      <td>6304.630175</td>\n",
       "    </tr>\n",
       "    <tr>\n",
       "      <th>max</th>\n",
       "      <td>7778.637689</td>\n",
       "    </tr>\n",
       "  </tbody>\n",
       "</table>\n",
       "</div>"
      ],
      "text/plain": [
       "       market_value\n",
       "count   6277.000000\n",
       "mean    5423.679824\n",
       "std     1145.616719\n",
       "min     2876.600000\n",
       "25%     4486.730000\n",
       "50%     5663.300000\n",
       "75%     6304.630175\n",
       "max     7778.637689"
      ]
     },
     "execution_count": 5,
     "metadata": {},
     "output_type": "execute_result"
    }
   ],
   "source": [
    "# picking market value for FTSE\n",
    "df['market_value'] = df.ftse\n",
    "\n",
    "df.drop([\"spx\", \"ftse\", \"nikkei\", \"dax\"], axis=1, inplace=True)\n",
    "df.describe()"
   ]
  },
  {
   "cell_type": "markdown",
   "metadata": {},
   "source": [
    "Split the data"
   ]
  },
  {
   "cell_type": "code",
   "execution_count": 6,
   "metadata": {},
   "outputs": [
    {
     "data": {
      "text/plain": [
       "5021"
      ]
     },
     "execution_count": 6,
     "metadata": {},
     "output_type": "execute_result"
    }
   ],
   "source": [
    "train_locs = int(df.shape[0]*0.8)\n",
    "train_locs\n"
   ]
  },
  {
   "cell_type": "code",
   "execution_count": 7,
   "metadata": {},
   "outputs": [
    {
     "data": {
      "text/plain": [
       "(            market_value\n",
       " date                    \n",
       " 1994-01-07       3445.98\n",
       " 1994-01-10       3440.58\n",
       " 1994-01-11       3413.77\n",
       " 1994-01-12       3372.02\n",
       " 1994-01-13       3360.01\n",
       " ...                  ...\n",
       " 2013-04-01       6411.74\n",
       " 2013-04-02       6490.66\n",
       " 2013-04-03       6420.28\n",
       " 2013-04-04       6344.11\n",
       " 2013-04-05       6249.77\n",
       " \n",
       " [5021 rows x 1 columns],\n",
       "             market_value\n",
       " date                    \n",
       " 2013-04-08   6276.940000\n",
       " 2013-04-09   6313.200000\n",
       " 2013-04-10   6387.370000\n",
       " 2013-04-11   6416.140000\n",
       " 2013-04-12   6384.390000\n",
       " ...                  ...\n",
       " 2018-01-23   7731.827774\n",
       " 2018-01-24   7643.428966\n",
       " 2018-01-25   7615.839954\n",
       " 2018-01-26   7665.541292\n",
       " 2018-01-29   7671.533300\n",
       " \n",
       " [1256 rows x 1 columns])"
      ]
     },
     "execution_count": 7,
     "metadata": {},
     "output_type": "execute_result"
    }
   ],
   "source": [
    "df, df_test = df.iloc[:train_locs], df.iloc[train_locs:]\n",
    "df, df_test"
   ]
  },
  {
   "cell_type": "markdown",
   "metadata": {},
   "source": [
    "LLR Test "
   ]
  },
  {
   "cell_type": "code",
   "execution_count": 8,
   "metadata": {},
   "outputs": [],
   "source": [
    "def llr_test(model_one, model_two, df=1):\n",
    "    l1 = model_one.fit().llf\n",
    "    l2 = model_two.fit().llf\n",
    "    lr = (2*(l2-l1))\n",
    "    p = chi2.sf(lr, df).round(3)\n",
    "    return p\n"
   ]
  },
  {
   "cell_type": "markdown",
   "metadata": {},
   "source": [
    "Creating a return values "
   ]
  },
  {
   "cell_type": "code",
   "execution_count": 9,
   "metadata": {},
   "outputs": [
    {
     "data": {
      "text/html": [
       "<div>\n",
       "<style scoped>\n",
       "    .dataframe tbody tr th:only-of-type {\n",
       "        vertical-align: middle;\n",
       "    }\n",
       "\n",
       "    .dataframe tbody tr th {\n",
       "        vertical-align: top;\n",
       "    }\n",
       "\n",
       "    .dataframe thead th {\n",
       "        text-align: right;\n",
       "    }\n",
       "</style>\n",
       "<table border=\"1\" class=\"dataframe\">\n",
       "  <thead>\n",
       "    <tr style=\"text-align: right;\">\n",
       "      <th></th>\n",
       "      <th>market_value</th>\n",
       "      <th>returns</th>\n",
       "    </tr>\n",
       "    <tr>\n",
       "      <th>date</th>\n",
       "      <th></th>\n",
       "      <th></th>\n",
       "    </tr>\n",
       "  </thead>\n",
       "  <tbody>\n",
       "    <tr>\n",
       "      <th>1994-01-07</th>\n",
       "      <td>3445.98</td>\n",
       "      <td>NaN</td>\n",
       "    </tr>\n",
       "    <tr>\n",
       "      <th>1994-01-10</th>\n",
       "      <td>3440.58</td>\n",
       "      <td>-0.156704</td>\n",
       "    </tr>\n",
       "    <tr>\n",
       "      <th>1994-01-11</th>\n",
       "      <td>3413.77</td>\n",
       "      <td>-0.779229</td>\n",
       "    </tr>\n",
       "    <tr>\n",
       "      <th>1994-01-12</th>\n",
       "      <td>3372.02</td>\n",
       "      <td>-1.222988</td>\n",
       "    </tr>\n",
       "    <tr>\n",
       "      <th>1994-01-13</th>\n",
       "      <td>3360.01</td>\n",
       "      <td>-0.356166</td>\n",
       "    </tr>\n",
       "  </tbody>\n",
       "</table>\n",
       "</div>"
      ],
      "text/plain": [
       "            market_value   returns\n",
       "date                              \n",
       "1994-01-07       3445.98       NaN\n",
       "1994-01-10       3440.58 -0.156704\n",
       "1994-01-11       3413.77 -0.779229\n",
       "1994-01-12       3372.02 -1.222988\n",
       "1994-01-13       3360.01 -0.356166"
      ]
     },
     "execution_count": 9,
     "metadata": {},
     "output_type": "execute_result"
    }
   ],
   "source": [
    "df['returns']= df.market_value.pct_change(1)*100\n",
    "df[:5]"
   ]
  },
  {
   "cell_type": "markdown",
   "metadata": {},
   "source": [
    "ARIMA (1,1,1)"
   ]
  },
  {
   "cell_type": "code",
   "execution_count": 10,
   "metadata": {},
   "outputs": [
    {
     "data": {
      "text/html": [
       "<table class=\"simpletable\">\n",
       "<caption>SARIMAX Results</caption>\n",
       "<tr>\n",
       "  <th>Dep. Variable:</th>     <td>market_value</td>   <th>  No. Observations:  </th>    <td>5021</td>   \n",
       "</tr>\n",
       "<tr>\n",
       "  <th>Model:</th>            <td>ARIMA(1, 1, 1)</td>  <th>  Log Likelihood     </th> <td>-27604.005</td>\n",
       "</tr>\n",
       "<tr>\n",
       "  <th>Date:</th>            <td>Sun, 21 Aug 2022</td> <th>  AIC                </th>  <td>55214.010</td>\n",
       "</tr>\n",
       "<tr>\n",
       "  <th>Time:</th>                <td>13:18:30</td>     <th>  BIC                </th>  <td>55233.574</td>\n",
       "</tr>\n",
       "<tr>\n",
       "  <th>Sample:</th>             <td>01-07-1994</td>    <th>  HQIC               </th>  <td>55220.865</td>\n",
       "</tr>\n",
       "<tr>\n",
       "  <th></th>                   <td>- 04-05-2013</td>   <th>                     </th>      <td> </td>    \n",
       "</tr>\n",
       "<tr>\n",
       "  <th>Covariance Type:</th>        <td>opg</td>       <th>                     </th>      <td> </td>    \n",
       "</tr>\n",
       "</table>\n",
       "<table class=\"simpletable\">\n",
       "<tr>\n",
       "     <td></td>       <th>coef</th>     <th>std err</th>      <th>z</th>      <th>P>|z|</th>  <th>[0.025</th>    <th>0.975]</th>  \n",
       "</tr>\n",
       "<tr>\n",
       "  <th>ar.L1</th>  <td>    0.7460</td> <td>    0.059</td> <td>   12.659</td> <td> 0.000</td> <td>    0.631</td> <td>    0.862</td>\n",
       "</tr>\n",
       "<tr>\n",
       "  <th>ma.L1</th>  <td>   -0.7920</td> <td>    0.053</td> <td>  -14.930</td> <td> 0.000</td> <td>   -0.896</td> <td>   -0.688</td>\n",
       "</tr>\n",
       "<tr>\n",
       "  <th>sigma2</th> <td> 3498.4453</td> <td>   40.925</td> <td>   85.484</td> <td> 0.000</td> <td> 3418.233</td> <td> 3578.657</td>\n",
       "</tr>\n",
       "</table>\n",
       "<table class=\"simpletable\">\n",
       "<tr>\n",
       "  <th>Ljung-Box (L1) (Q):</th>     <td>2.62</td> <th>  Jarque-Bera (JB):  </th> <td>3326.29</td>\n",
       "</tr>\n",
       "<tr>\n",
       "  <th>Prob(Q):</th>                <td>0.11</td> <th>  Prob(JB):          </th>  <td>0.00</td>  \n",
       "</tr>\n",
       "<tr>\n",
       "  <th>Heteroskedasticity (H):</th> <td>1.90</td> <th>  Skew:              </th>  <td>-0.32</td> \n",
       "</tr>\n",
       "<tr>\n",
       "  <th>Prob(H) (two-sided):</th>    <td>0.00</td> <th>  Kurtosis:          </th>  <td>6.94</td>  \n",
       "</tr>\n",
       "</table><br/><br/>Warnings:<br/>[1] Covariance matrix calculated using the outer product of gradients (complex-step)."
      ],
      "text/plain": [
       "<class 'statsmodels.iolib.summary.Summary'>\n",
       "\"\"\"\n",
       "                               SARIMAX Results                                \n",
       "==============================================================================\n",
       "Dep. Variable:           market_value   No. Observations:                 5021\n",
       "Model:                 ARIMA(1, 1, 1)   Log Likelihood              -27604.005\n",
       "Date:                Sun, 21 Aug 2022   AIC                          55214.010\n",
       "Time:                        13:18:30   BIC                          55233.574\n",
       "Sample:                    01-07-1994   HQIC                         55220.865\n",
       "                         - 04-05-2013                                         \n",
       "Covariance Type:                  opg                                         \n",
       "==============================================================================\n",
       "                 coef    std err          z      P>|z|      [0.025      0.975]\n",
       "------------------------------------------------------------------------------\n",
       "ar.L1          0.7460      0.059     12.659      0.000       0.631       0.862\n",
       "ma.L1         -0.7920      0.053    -14.930      0.000      -0.896      -0.688\n",
       "sigma2      3498.4453     40.925     85.484      0.000    3418.233    3578.657\n",
       "===================================================================================\n",
       "Ljung-Box (L1) (Q):                   2.62   Jarque-Bera (JB):              3326.29\n",
       "Prob(Q):                              0.11   Prob(JB):                         0.00\n",
       "Heteroskedasticity (H):               1.90   Skew:                            -0.32\n",
       "Prob(H) (two-sided):                  0.00   Kurtosis:                         6.94\n",
       "===================================================================================\n",
       "\n",
       "Warnings:\n",
       "[1] Covariance matrix calculated using the outer product of gradients (complex-step).\n",
       "\"\"\""
      ]
     },
     "execution_count": 10,
     "metadata": {},
     "output_type": "execute_result"
    }
   ],
   "source": [
    "model_1_1_1_arima = ARIMA(df.market_value, order=(1,1,1))\n",
    "result_1_1_1_1_arima = model_1_1_1_arima.fit()\n",
    "result_1_1_1_1_arima.summary()"
   ]
  },
  {
   "cell_type": "markdown",
   "metadata": {},
   "source": [
    "Residuals and their ACF"
   ]
  },
  {
   "cell_type": "code",
   "execution_count": 11,
   "metadata": {},
   "outputs": [],
   "source": [
    "df['residuals_1_1_1'] = result_1_1_1_1_arima.resid"
   ]
  },
  {
   "cell_type": "code",
   "execution_count": 12,
   "metadata": {},
   "outputs": [
    {
     "data": {
      "image/png": "[encoded data removed]",
      "text/plain": [
       "<Figure size 432x288 with 1 Axes>"
      ]
     },
     "metadata": {},
     "output_type": "display_data"
    }
   ],
   "source": [
    "sgt.plot_acf(df['residuals_1_1_1'][1:], zero=False, lags=40)\n",
    "plt.title(\"ACF for ARIMA(111) residuals\", size=16)\n",
    "plt.show()"
   ]
  },
  {
   "cell_type": "markdown",
   "metadata": {},
   "source": [
    "We can observe that the third and fourth lags are highly significant. Incorporating these lags into our model might significantly improve performance.\n",
    "\n",
    "#### Higher Level ARIMAs"
   ]
  },
  {
   "cell_type": "code",
   "execution_count": 13,
   "metadata": {},
   "outputs": [],
   "source": [
    "model_1_1_2_arima = ARIMA(df.market_value, order=(1,1,2))\n",
    "result_1_1_2_arima = model_1_1_2_arima.fit()\n",
    "\n",
    "model_1_1_3_arima = ARIMA(df.market_value, order=(1,1,3))\n",
    "result_1_1_3_arima = model_1_1_3_arima.fit()\n",
    "\n",
    "model_2_1_1_arima = ARIMA(df.market_value, order=(2,1,1))\n",
    "result_2_1_1_arima = model_2_1_1_arima.fit()\n",
    "\n",
    "model_3_1_1_arima = ARIMA(df.market_value, order=(3,1,1))\n",
    "result_3_1_1_arima = model_3_1_1_arima.fit()\n",
    "\n",
    "model_3_1_2_arima = ARIMA(df.market_value, order=(3,1,2))\n",
    "result_3_1_2_arima = model_3_1_2_arima.fit()\n",
    "\n"
   ]
  },
  {
   "cell_type": "code",
   "execution_count": 14,
   "metadata": {},
   "outputs": [
    {
     "name": "stdout",
     "output_type": "stream",
     "text": [
      "ARIMA(1,1,1): \t LL= -27604.005025656326 \t AIC = 55214.01005131265\n",
      "ARIMA(1,1,2): \t LL= -27600.40763254137 \t AIC = 55208.81526508274\n",
      "ARIMA(1,1,3): \t LL= -27590.72348194824 \t AIC = 55191.44696389648\n",
      "ARIMA(2,1,1): \t LL= -27600.130551053826 \t AIC = 55208.26110210765\n",
      "ARIMA(3,1,1): \t LL= -27592.336116474562 \t AIC = 55194.672232949124\n",
      "ARIMA(3,1,2): \t LL= -27590.920318054938 \t AIC = 55193.840636109875\n"
     ]
    }
   ],
   "source": [
    "print(f\"ARIMA(1,1,1): \\t LL= {result_1_1_1_1_arima.llf} \\t AIC = {result_1_1_1_1_arima.aic}\")\n",
    "print(f\"ARIMA(1,1,2): \\t LL= {result_1_1_2_arima.llf} \\t AIC = {result_1_1_2_arima.aic}\")\n",
    "print(f\"ARIMA(1,1,3): \\t LL= {result_1_1_3_arima.llf} \\t AIC = {result_1_1_3_arima.aic}\")\n",
    "print(f\"ARIMA(2,1,1): \\t LL= {result_2_1_1_arima.llf} \\t AIC = {result_2_1_1_arima.aic}\")\n",
    "print(f\"ARIMA(3,1,1): \\t LL= {result_3_1_1_arima.llf} \\t AIC = {result_3_1_1_arima.aic}\")\n",
    "print(f\"ARIMA(3,1,2): \\t LL= {result_3_1_2_arima.llf} \\t AIC = {result_3_1_2_arima.aic}\")"
   ]
  },
  {
   "cell_type": "markdown",
   "metadata": {},
   "source": [
    "The ARIMA(1,1,3) has the highest Log-likelihood and Lowest AIC (Akaike's Information Criterion). That makes this model a top runner. But, ARIMA(1,1,2), and ARIMA(1,1,1) are nested. Lets examine the more to make sure if it is significantly outperforms them. Lets run the LLR test."
   ]
  },
  {
   "cell_type": "code",
   "execution_count": 15,
   "metadata": {},
   "outputs": [
    {
     "name": "stdout",
     "output_type": "stream",
     "text": [
      "\n",
      " ARIMA(1,1,1) and ARIMA(1,1,3) | LLR test p-value = 0.0\n",
      "\n",
      " ARIMA(1,1,2) and ARIMA(1,1,3) | LLR test p-value = 0.0\n"
     ]
    }
   ],
   "source": [
    "print(f\"\\n ARIMA(1,1,1) and ARIMA(1,1,3) | LLR test p-value = {llr_test(model_1_1_1_arima, model_1_1_3_arima)}\")\n",
    "print(f\"\\n ARIMA(1,1,2) and ARIMA(1,1,3) | LLR test p-value = {llr_test(model_1_1_2_arima, model_1_1_3_arima, df=2)}\")"
   ]
  },
  {
   "cell_type": "markdown",
   "metadata": {},
   "source": [
    "As expected, we get P-value of zero. Hence, The model ARIMA(1,1,3) appears to be best model. Again, we examine the residuals which should resemble white noise."
   ]
  },
  {
   "cell_type": "code",
   "execution_count": 16,
   "metadata": {},
   "outputs": [],
   "source": [
    "df['residuals_1_1_3'] = result_1_1_3_arima.resid"
   ]
  },
  {
   "cell_type": "code",
   "execution_count": 17,
   "metadata": {},
   "outputs": [
    {
     "data": {
      "image/png": "[encoded data removed]",
      "text/plain": [
       "<Figure size 432x288 with 1 Axes>"
      ]
     },
     "metadata": {},
     "output_type": "display_data"
    }
   ],
   "source": [
    "sgt.plot_acf(df['residuals_1_1_3'][1:], zero=False, lags=40)\n",
    "plt.title(\"ACF for ARIMA(113) residuals\", size=16)\n",
    "plt.ylim(-0.05, 0.05)\n",
    "plt.show()"
   ]
  },
  {
   "cell_type": "markdown",
   "metadata": {},
   "source": [
    "However, the sixth lag is still highly significant. Therefore there might exist a better models which goes back to six lags back. Lets check the ARIMA(6,1,6), ARIMA(6,1,3), ARIMA(5,1,1)"
   ]
  },
  {
   "cell_type": "code",
   "execution_count": 18,
   "metadata": {},
   "outputs": [],
   "source": [
    "model_5_1_1_arima = ARIMA(df.market_value, order=(5,1,1))\n",
    "result_5_1_1_arima = model_5_1_1_arima.fit()\n",
    "\n",
    "model_6_1_3_arima = ARIMA(df.market_value, order=(6,1,3))\n",
    "result_6_1_3_arima = model_6_1_3_arima.fit()"
   ]
  },
  {
   "cell_type": "code",
   "execution_count": 19,
   "metadata": {},
   "outputs": [
    {
     "name": "stdout",
     "output_type": "stream",
     "text": [
      "ARIMA(1,1,3): \t LL= -27590.72348194824 \t AIC = 55191.44696389648\n",
      "ARIMA(5,1,1): \t LL= -27586.844609585853 \t AIC = 55187.689219171705\n",
      "ARIMA(6,1,3): \t LL= -27583.85849982001 \t AIC = 55187.71699964002\n"
     ]
    }
   ],
   "source": [
    "print(f\"ARIMA(1,1,3): \\t LL= {result_1_1_3_arima.llf} \\t AIC = {result_1_1_3_arima.aic}\")\n",
    "print(f\"ARIMA(5,1,1): \\t LL= {result_5_1_1_arima.llf} \\t AIC = {result_5_1_1_arima.aic}\")\n",
    "print(f\"ARIMA(6,1,3): \\t LL= {result_6_1_3_arima.llf} \\t AIC = {result_6_1_3_arima.aic}\")"
   ]
  },
  {
   "cell_type": "markdown",
   "metadata": {},
   "source": [
    "We can see that the ARIMA(6,1,1) is the best model with highest LL and lowest AIC."
   ]
  },
  {
   "cell_type": "code",
   "execution_count": 20,
   "metadata": {},
   "outputs": [
    {
     "name": "stdout",
     "output_type": "stream",
     "text": [
      "\n",
      " ARIMA(1,1,3) and ARIMA(6,1,3) | LLR test p-value = 0.017\n",
      "\n",
      " ARIMA(5,1,1) and ARIMA(6,1,3) | LLR test p-value = 0.113\n"
     ]
    }
   ],
   "source": [
    "print(f\"\\n ARIMA(1,1,3) and ARIMA(6,1,3) | LLR test p-value = {llr_test(model_1_1_3_arima, model_6_1_3_arima, df=5)}\")\n",
    "print(f\"\\n ARIMA(5,1,1) and ARIMA(6,1,3) | LLR test p-value = {llr_test(model_5_1_1_arima, model_6_1_3_arima, df=3)}\")"
   ]
  },
  {
   "cell_type": "code",
   "execution_count": 21,
   "metadata": {},
   "outputs": [],
   "source": [
    "df['residuals_5_1_1'] = result_5_1_1_arima.resid"
   ]
  },
  {
   "cell_type": "code",
   "execution_count": 22,
   "metadata": {},
   "outputs": [
    {
     "data": {
      "image/png": "[encoded data removed]",
      "text/plain": [
       "<Figure size 432x288 with 1 Axes>"
      ]
     },
     "metadata": {},
     "output_type": "display_data"
    }
   ],
   "source": [
    "sgt.plot_acf(df['residuals_5_1_1'][1:], zero=False, lags=40)\n",
    "plt.title(\"ACF for ARIMA(511) residuals\", size=16)\n",
    "plt.ylim(-0.05, 0.05)\n",
    "plt.show()"
   ]
  },
  {
   "cell_type": "markdown",
   "metadata": {},
   "source": [
    "After we presented the graph, we can see that none of the first 15 residuals have significant coefficients. We still see some significant coefficients many lags into the past, but we know that the further back in time we go, the less relevant the values become. On one hand, if we include up to thirty five flags into the model, we will be able to have white noise residuals. On the other hand, it's important to remember that we want this model to be able to predict other time series data as well. \n",
    "\n",
    "Hence, after careful consideration, we decided to stick with the ARIMA(5,1,1) as the best estimator for prices"
   ]
  },
  {
   "cell_type": "markdown",
   "metadata": {},
   "source": [
    "we only rely on integration when our time series doesn't come from a stationary process. Hence, if a single layer of integration accomplishes this, any additional ones are unnecessary.\n",
    "\n",
    "so how do we go about finding out if the integrated data set is stationary? Well, we can manually create an integrated version of the original Time series and use the augmented Deqi fuller test."
   ]
  },
  {
   "cell_type": "code",
   "execution_count": 23,
   "metadata": {},
   "outputs": [],
   "source": [
    "df['delta_prices'] = df.market_value.diff(1)"
   ]
  },
  {
   "cell_type": "code",
   "execution_count": 24,
   "metadata": {},
   "outputs": [
    {
     "data": {
      "text/html": [
       "<table class=\"simpletable\">\n",
       "<caption>SARIMAX Results</caption>\n",
       "<tr>\n",
       "  <th>Dep. Variable:</th>     <td>delta_prices</td>   <th>  No. Observations:  </th>    <td>5020</td>   \n",
       "</tr>\n",
       "<tr>\n",
       "  <th>Model:</th>            <td>ARIMA(1, 0, 1)</td>  <th>  Log Likelihood     </th> <td>-27603.666</td>\n",
       "</tr>\n",
       "<tr>\n",
       "  <th>Date:</th>            <td>Sun, 21 Aug 2022</td> <th>  AIC                </th>  <td>55215.333</td>\n",
       "</tr>\n",
       "<tr>\n",
       "  <th>Time:</th>                <td>13:18:38</td>     <th>  BIC                </th>  <td>55241.418</td>\n",
       "</tr>\n",
       "<tr>\n",
       "  <th>Sample:</th>             <td>01-10-1994</td>    <th>  HQIC               </th>  <td>55224.473</td>\n",
       "</tr>\n",
       "<tr>\n",
       "  <th></th>                   <td>- 04-05-2013</td>   <th>                     </th>      <td> </td>    \n",
       "</tr>\n",
       "<tr>\n",
       "  <th>Covariance Type:</th>        <td>opg</td>       <th>                     </th>      <td> </td>    \n",
       "</tr>\n",
       "</table>\n",
       "<table class=\"simpletable\">\n",
       "<tr>\n",
       "     <td></td>       <th>coef</th>     <th>std err</th>      <th>z</th>      <th>P>|z|</th>  <th>[0.025</th>    <th>0.975]</th>  \n",
       "</tr>\n",
       "<tr>\n",
       "  <th>const</th>  <td>    0.5639</td> <td>    0.753</td> <td>    0.749</td> <td> 0.454</td> <td>   -0.911</td> <td>    2.039</td>\n",
       "</tr>\n",
       "<tr>\n",
       "  <th>ar.L1</th>  <td>    0.7476</td> <td>    0.059</td> <td>   12.673</td> <td> 0.000</td> <td>    0.632</td> <td>    0.863</td>\n",
       "</tr>\n",
       "<tr>\n",
       "  <th>ma.L1</th>  <td>   -0.7937</td> <td>    0.053</td> <td>  -14.871</td> <td> 0.000</td> <td>   -0.898</td> <td>   -0.689</td>\n",
       "</tr>\n",
       "<tr>\n",
       "  <th>sigma2</th> <td> 3496.6352</td> <td>   41.191</td> <td>   84.888</td> <td> 0.000</td> <td> 3415.902</td> <td> 3577.368</td>\n",
       "</tr>\n",
       "</table>\n",
       "<table class=\"simpletable\">\n",
       "<tr>\n",
       "  <th>Ljung-Box (L1) (Q):</th>     <td>2.64</td> <th>  Jarque-Bera (JB):  </th> <td>3327.38</td>\n",
       "</tr>\n",
       "<tr>\n",
       "  <th>Prob(Q):</th>                <td>0.10</td> <th>  Prob(JB):          </th>  <td>0.00</td>  \n",
       "</tr>\n",
       "<tr>\n",
       "  <th>Heteroskedasticity (H):</th> <td>1.90</td> <th>  Skew:              </th>  <td>-0.32</td> \n",
       "</tr>\n",
       "<tr>\n",
       "  <th>Prob(H) (two-sided):</th>    <td>0.00</td> <th>  Kurtosis:          </th>  <td>6.94</td>  \n",
       "</tr>\n",
       "</table><br/><br/>Warnings:<br/>[1] Covariance matrix calculated using the outer product of gradients (complex-step)."
      ],
      "text/plain": [
       "<class 'statsmodels.iolib.summary.Summary'>\n",
       "\"\"\"\n",
       "                               SARIMAX Results                                \n",
       "==============================================================================\n",
       "Dep. Variable:           delta_prices   No. Observations:                 5020\n",
       "Model:                 ARIMA(1, 0, 1)   Log Likelihood              -27603.666\n",
       "Date:                Sun, 21 Aug 2022   AIC                          55215.333\n",
       "Time:                        13:18:38   BIC                          55241.418\n",
       "Sample:                    01-10-1994   HQIC                         55224.473\n",
       "                         - 04-05-2013                                         \n",
       "Covariance Type:                  opg                                         \n",
       "==============================================================================\n",
       "                 coef    std err          z      P>|z|      [0.025      0.975]\n",
       "------------------------------------------------------------------------------\n",
       "const          0.5639      0.753      0.749      0.454      -0.911       2.039\n",
       "ar.L1          0.7476      0.059     12.673      0.000       0.632       0.863\n",
       "ma.L1         -0.7937      0.053    -14.871      0.000      -0.898      -0.689\n",
       "sigma2      3496.6352     41.191     84.888      0.000    3415.902    3577.368\n",
       "===================================================================================\n",
       "Ljung-Box (L1) (Q):                   2.64   Jarque-Bera (JB):              3327.38\n",
       "Prob(Q):                              0.10   Prob(JB):                         0.00\n",
       "Heteroskedasticity (H):               1.90   Skew:                            -0.32\n",
       "Prob(H) (two-sided):                  0.00   Kurtosis:                         6.94\n",
       "===================================================================================\n",
       "\n",
       "Warnings:\n",
       "[1] Covariance matrix calculated using the outer product of gradients (complex-step).\n",
       "\"\"\""
      ]
     },
     "execution_count": 24,
     "metadata": {},
     "output_type": "execute_result"
    }
   ],
   "source": [
    "model_1_1_arima = ARIMA(df.delta_prices[1:], order=(1,0,1))\n",
    "results_1_1_arima = model_1_1_arima.fit()\n",
    "results_1_1_arima.summary()"
   ]
  },
  {
   "cell_type": "markdown",
   "metadata": {},
   "source": [
    "If we compare this table to the simple ARIMA(111) results we got earlier will see that they have identical coefficients and P values, which are what we care about most."
   ]
  },
  {
   "cell_type": "code",
   "execution_count": 25,
   "metadata": {},
   "outputs": [
    {
     "data": {
      "text/plain": [
       "(-32.244093495707475,\n",
       " 0.0,\n",
       " 5,\n",
       " 5014,\n",
       " {'1%': -3.4316548765428174,\n",
       "  '5%': -2.8621166146845334,\n",
       "  '10%': -2.5670769326348926},\n",
       " 54845.96104221891)"
      ]
     },
     "execution_count": 25,
     "metadata": {},
     "output_type": "execute_result"
    }
   ],
   "source": [
    "sts.adfuller(df.delta_prices[1:])"
   ]
  },
  {
   "cell_type": "markdown",
   "metadata": {},
   "source": [
    "The ADF test justifies the data is stationary. Hence, it is unnecessary to have additional layers of integration. Now, we can recommend to have 1 difference (D) in ARIMA model."
   ]
  },
  {
   "cell_type": "markdown",
   "metadata": {},
   "source": [
    "#### ARIMA for Stationary data\n",
    "\n",
    "ARIMA can estimate the stationary data.\n",
    "\n",
    "Due to data attrition, The more unnecessary layers we add, the more our model suffers. Data attrition is loosing observations because of the conversion from price to returns, and we loose more data points for each layer of integration. \n",
    "\n",
    "\n",
    "**Issues**\n",
    "- Computationally expensive\n",
    "- Differentiate the values from zero,\n",
    "- fail to converge\n",
    "- Numerical instability\n",
    "- Hard to interpret \n"
   ]
  }
 ],
 "metadata": {
  "kernelspec": {
   "display_name": "Python 3.8.8 ('base')",
   "language": "python",
   "name": "python3"
  },
  "language_info": {
   "codemirror_mode": {
    "name": "ipython",
    "version": 3
   },
   "file_extension": ".py",
   "mimetype": "text/x-python",
   "name": "python",
   "nbconvert_exporter": "python",
   "pygments_lexer": "ipython3",
   "version": "3.8.8"
  },
  "orig_nbformat": 4,
  "vscode": {
   "interpreter": {
    "hash": "ebfd0efb22d0aaf13cd3245e60b60602479d0f2314e29debef770cffec75cf48"
   }
  }
 },
 "nbformat": 4,
 "nbformat_minor": 2
}
