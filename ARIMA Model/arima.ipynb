{
 "cells": [
  {
   "cell_type": "markdown",
   "metadata": {},
   "source": [
    "### ARIMA \n",
    "\n",
    "- Intuition\n",
    "- Non-stationary data \n",
    "- Level of integration \n",
    "- Stationary data \n",
    "\n",
    "\n",
    "It has $order=(p,d,q)$, where p - AR, and q - MA\n",
    "\n",
    "$d$ - Integration order. It represents the number of times we need to integrate the time series to ensure stationary.\n",
    "\n",
    "**Integrated Model**: Accounting for the non-seasonal difference between periods to establish a stationary. \n",
    "\n",
    "**Equation**\n",
    "\n",
    "ARIMA(1,1,1) \n",
    "\n",
    "$ \\Delta P_t = C + \\phi_1 \\Delta P_{t-1} + \\theta_1 \\epsilon_{t-1} + \\epsilon_t$\n",
    "\n",
    "- $\\Delta P_t$: $ P_t -  P_{t-1}$\n",
    "- $P_t, P_{t-1}$: Values in the current period and a period ago respectively \n",
    "- $ \\epsilon_t, \\epsilon_{t-1}$: Error terms \n",
    "- $C$: Constant\n",
    "- $\\phi_1$: what part of the value last period is relevant in explaining the current one\n",
    "- $\\theta_1$: what part of the value last period is relevant in explaining the current one\n",
    "\n",
    "**In a very simpler term, it is a model for a newly generated time series which is stationary.**\n",
    "\n",
    "In addition, ARIMA does not have ACF, and PACF to suggest the optimal order for different components. We will examine the ACF of $\\epsilon_t$ to have better idea on better lags to use."
   ]
  },
  {
   "cell_type": "code",
   "execution_count": null,
   "metadata": {},
   "outputs": [],
   "source": []
  }
 ],
 "metadata": {
  "kernelspec": {
   "display_name": "Python 3.8.8 ('base')",
   "language": "python",
   "name": "python3"
  },
  "language_info": {
   "name": "python",
   "version": "3.8.8"
  },
  "orig_nbformat": 4,
  "vscode": {
   "interpreter": {
    "hash": "ebfd0efb22d0aaf13cd3245e60b60602479d0f2314e29debef770cffec75cf48"
   }
  }
 },
 "nbformat": 4,
 "nbformat_minor": 2
}
