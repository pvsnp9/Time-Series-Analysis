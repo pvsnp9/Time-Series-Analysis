{
 "cells": [
  {
   "cell_type": "markdown",
   "metadata": {},
   "source": [
    "## Autoregressive Model \n",
    "\n",
    "\n",
    "An autoregressive model is when a value from a time series is regressed on previous values from that same time series. for example, $y_t$ on $y_{t-1}$\n",
    "\n",
    "$y_t$ = $\\beta_0 + \\beta_1y_{t-1} + \\epsilon_t$\n",
    "\n",
    "$y_{t-1}$ - previous value\n",
    "\n",
    "$\\beta_0$ - constant (bias)\n",
    "\n",
    "$\\beta_1$ - coeff \n",
    "\n",
    "$\\epsilon_t$ - Residual (error term)\n",
    "\n",
    "!! How many lags we need to keep !! - Depending on our task. More lags make models more complex.\n",
    "\n",
    "Note: we use Auto-correlation, and Partial Autocorrelation to determine the number of lags."
   ]
  },
  {
   "cell_type": "markdown",
   "metadata": {},
   "source": [
    "#### Determining the number of Lags using ACF and PACF\n"
   ]
  },
  {
   "cell_type": "code",
   "execution_count": 1,
   "metadata": {},
   "outputs": [],
   "source": [
    "import pandas as pd\n",
    "import numpy as np\n",
    "import matplotlib.pyplot as plt\n",
    "import statsmodels.graphics.tsaplots as sgt\n",
    "from statsmodels.tsa.arima.model import ARIMA\n",
    "from scipy.stats.distributions import chi2\n",
    "import statsmodels.tsa.stattools as sts \n",
    "import seaborn as sns\n",
    "sns.set()"
   ]
  },
  {
   "cell_type": "markdown",
   "metadata": {},
   "source": [
    "##### Primary preprocessing "
   ]
  },
  {
   "cell_type": "code",
   "execution_count": 2,
   "metadata": {},
   "outputs": [],
   "source": [
    "raw_csv_data = pd.read_csv(\"./../datasets/Index2018.csv\") \n",
    "df=raw_csv_data.copy()\n",
    "df.date = pd.to_datetime(df.date, dayfirst = True)\n",
    "df.set_index(\"date\", inplace=True)\n",
    "df=df.asfreq('b')\n",
    "df=df.fillna(method='ffill')"
   ]
  },
  {
   "cell_type": "code",
   "execution_count": 3,
   "metadata": {},
   "outputs": [
    {
     "data": {
      "text/html": [
       "<div>\n",
       "<style scoped>\n",
       "    .dataframe tbody tr th:only-of-type {\n",
       "        vertical-align: middle;\n",
       "    }\n",
       "\n",
       "    .dataframe tbody tr th {\n",
       "        vertical-align: top;\n",
       "    }\n",
       "\n",
       "    .dataframe thead th {\n",
       "        text-align: right;\n",
       "    }\n",
       "</style>\n",
       "<table border=\"1\" class=\"dataframe\">\n",
       "  <thead>\n",
       "    <tr style=\"text-align: right;\">\n",
       "      <th></th>\n",
       "      <th>spx</th>\n",
       "      <th>dax</th>\n",
       "      <th>ftse</th>\n",
       "      <th>nikkei</th>\n",
       "    </tr>\n",
       "    <tr>\n",
       "      <th>date</th>\n",
       "      <th></th>\n",
       "      <th></th>\n",
       "      <th></th>\n",
       "      <th></th>\n",
       "    </tr>\n",
       "  </thead>\n",
       "  <tbody>\n",
       "    <tr>\n",
       "      <th>1994-01-07</th>\n",
       "      <td>469.90</td>\n",
       "      <td>2224.95</td>\n",
       "      <td>3445.98</td>\n",
       "      <td>18124.01</td>\n",
       "    </tr>\n",
       "    <tr>\n",
       "      <th>1994-01-10</th>\n",
       "      <td>475.27</td>\n",
       "      <td>2225.00</td>\n",
       "      <td>3440.58</td>\n",
       "      <td>18443.44</td>\n",
       "    </tr>\n",
       "    <tr>\n",
       "      <th>1994-01-11</th>\n",
       "      <td>474.13</td>\n",
       "      <td>2228.10</td>\n",
       "      <td>3413.77</td>\n",
       "      <td>18485.25</td>\n",
       "    </tr>\n",
       "    <tr>\n",
       "      <th>1994-01-12</th>\n",
       "      <td>474.17</td>\n",
       "      <td>2182.06</td>\n",
       "      <td>3372.02</td>\n",
       "      <td>18793.88</td>\n",
       "    </tr>\n",
       "    <tr>\n",
       "      <th>1994-01-13</th>\n",
       "      <td>472.47</td>\n",
       "      <td>2142.37</td>\n",
       "      <td>3360.01</td>\n",
       "      <td>18577.26</td>\n",
       "    </tr>\n",
       "  </tbody>\n",
       "</table>\n",
       "</div>"
      ],
      "text/plain": [
       "               spx      dax     ftse    nikkei\n",
       "date                                          \n",
       "1994-01-07  469.90  2224.95  3445.98  18124.01\n",
       "1994-01-10  475.27  2225.00  3440.58  18443.44\n",
       "1994-01-11  474.13  2228.10  3413.77  18485.25\n",
       "1994-01-12  474.17  2182.06  3372.02  18793.88\n",
       "1994-01-13  472.47  2142.37  3360.01  18577.26"
      ]
     },
     "execution_count": 3,
     "metadata": {},
     "output_type": "execute_result"
    }
   ],
   "source": [
    "df.head()"
   ]
  },
  {
   "cell_type": "code",
   "execution_count": 4,
   "metadata": {},
   "outputs": [
    {
     "data": {
      "text/html": [
       "<div>\n",
       "<style scoped>\n",
       "    .dataframe tbody tr th:only-of-type {\n",
       "        vertical-align: middle;\n",
       "    }\n",
       "\n",
       "    .dataframe tbody tr th {\n",
       "        vertical-align: top;\n",
       "    }\n",
       "\n",
       "    .dataframe thead th {\n",
       "        text-align: right;\n",
       "    }\n",
       "</style>\n",
       "<table border=\"1\" class=\"dataframe\">\n",
       "  <thead>\n",
       "    <tr style=\"text-align: right;\">\n",
       "      <th></th>\n",
       "      <th>market_value</th>\n",
       "    </tr>\n",
       "  </thead>\n",
       "  <tbody>\n",
       "    <tr>\n",
       "      <th>count</th>\n",
       "      <td>6277.000000</td>\n",
       "    </tr>\n",
       "    <tr>\n",
       "      <th>mean</th>\n",
       "      <td>5423.679824</td>\n",
       "    </tr>\n",
       "    <tr>\n",
       "      <th>std</th>\n",
       "      <td>1145.616719</td>\n",
       "    </tr>\n",
       "    <tr>\n",
       "      <th>min</th>\n",
       "      <td>2876.600000</td>\n",
       "    </tr>\n",
       "    <tr>\n",
       "      <th>25%</th>\n",
       "      <td>4486.730000</td>\n",
       "    </tr>\n",
       "    <tr>\n",
       "      <th>50%</th>\n",
       "      <td>5663.300000</td>\n",
       "    </tr>\n",
       "    <tr>\n",
       "      <th>75%</th>\n",
       "      <td>6304.630175</td>\n",
       "    </tr>\n",
       "    <tr>\n",
       "      <th>max</th>\n",
       "      <td>7778.637689</td>\n",
       "    </tr>\n",
       "  </tbody>\n",
       "</table>\n",
       "</div>"
      ],
      "text/plain": [
       "       market_value\n",
       "count   6277.000000\n",
       "mean    5423.679824\n",
       "std     1145.616719\n",
       "min     2876.600000\n",
       "25%     4486.730000\n",
       "50%     5663.300000\n",
       "75%     6304.630175\n",
       "max     7778.637689"
      ]
     },
     "execution_count": 4,
     "metadata": {},
     "output_type": "execute_result"
    }
   ],
   "source": [
    "# picking market value for FTSE \n",
    "df['market_value'] = df.ftse\n",
    "\n",
    "df.drop([\"spx\",\"ftse\", \"nikkei\",\"dax\"], axis=1, inplace=True)\n",
    "df.describe()"
   ]
  },
  {
   "cell_type": "markdown",
   "metadata": {},
   "source": [
    "#### Split the data"
   ]
  },
  {
   "cell_type": "code",
   "execution_count": 5,
   "metadata": {},
   "outputs": [
    {
     "data": {
      "text/plain": [
       "5021"
      ]
     },
     "execution_count": 5,
     "metadata": {},
     "output_type": "execute_result"
    }
   ],
   "source": [
    "train_locs = int(df.shape[0]*0.8)\n",
    "train_locs"
   ]
  },
  {
   "cell_type": "code",
   "execution_count": 6,
   "metadata": {},
   "outputs": [
    {
     "data": {
      "text/plain": [
       "(            market_value\n",
       " date                    \n",
       " 1994-01-07       3445.98\n",
       " 1994-01-10       3440.58\n",
       " 1994-01-11       3413.77\n",
       " 1994-01-12       3372.02\n",
       " 1994-01-13       3360.01\n",
       " ...                  ...\n",
       " 2013-04-01       6411.74\n",
       " 2013-04-02       6490.66\n",
       " 2013-04-03       6420.28\n",
       " 2013-04-04       6344.11\n",
       " 2013-04-05       6249.77\n",
       " \n",
       " [5021 rows x 1 columns],\n",
       "             market_value\n",
       " date                    \n",
       " 2013-04-08   6276.940000\n",
       " 2013-04-09   6313.200000\n",
       " 2013-04-10   6387.370000\n",
       " 2013-04-11   6416.140000\n",
       " 2013-04-12   6384.390000\n",
       " ...                  ...\n",
       " 2018-01-23   7731.827774\n",
       " 2018-01-24   7643.428966\n",
       " 2018-01-25   7615.839954\n",
       " 2018-01-26   7665.541292\n",
       " 2018-01-29   7671.533300\n",
       " \n",
       " [1256 rows x 1 columns])"
      ]
     },
     "execution_count": 6,
     "metadata": {},
     "output_type": "execute_result"
    }
   ],
   "source": [
    "df_train, df_test = df.iloc[:train_locs], df.iloc[train_locs:]\n",
    "df_train, df_test"
   ]
  },
  {
   "cell_type": "markdown",
   "metadata": {},
   "source": [
    "#### ACF"
   ]
  },
  {
   "cell_type": "code",
   "execution_count": 7,
   "metadata": {},
   "outputs": [
    {
     "data": {
      "image/png": "[encoded data removed]",
      "text/plain": [
       "<Figure size 432x288 with 1 Axes>"
      ]
     },
     "metadata": {},
     "output_type": "display_data"
    }
   ],
   "source": [
    "sgt.plot_acf(df.market_value, lags=40, zero=False) \n",
    "plt.title(\"ACF FTSE Price\", size=24)\n",
    "plt.ylabel(\"AutoCorr Coeff (-1 to 1)\")\n",
    "plt.xlabel(\"lags\")\n",
    "plt.show()"
   ]
  },
  {
   "cell_type": "markdown",
   "metadata": {},
   "source": [
    "#### PACF"
   ]
  },
  {
   "cell_type": "code",
   "execution_count": 8,
   "metadata": {},
   "outputs": [
    {
     "data": {
      "image/png": "[encoded data removed]",
      "text/plain": [
       "<Figure size 432x288 with 1 Axes>"
      ]
     },
     "metadata": {},
     "output_type": "display_data"
    }
   ],
   "source": [
    "sgt.plot_pacf(df.market_value, lags=40, zero=False) \n",
    "plt.title(\"PACF FTSE Price\", size=24)\n",
    "plt.ylabel(\"AutoCorr Coeff (-1 to 1)\")\n",
    "plt.xlabel(\"lags\")\n",
    "plt.show()"
   ]
  },
  {
   "cell_type": "markdown",
   "metadata": {},
   "source": [
    "Looking at the both graph, we have coefficients that are not significant. The ACF all 40 lag values have ACF coefficient between 0.9 -1, but the PACF coefficients are different. There are some negatively correlated values too. In PACF graph, lags later than 20 are insignificant. Hence, we can conclude 20 lags for our AR model. "
   ]
  },
  {
   "cell_type": "markdown",
   "metadata": {},
   "source": [
    "#### AR (1) Model \n",
    "\n",
    "Autoregressive model with 1 lag."
   ]
  },
  {
   "cell_type": "code",
   "execution_count": 9,
   "metadata": {},
   "outputs": [],
   "source": [
    "ar_model = ARIMA(df.market_value, order=(1,1,1))"
   ]
  },
  {
   "cell_type": "code",
   "execution_count": 10,
   "metadata": {},
   "outputs": [
    {
     "name": "stderr",
     "output_type": "stream",
     "text": [
      "c:\\Users\\skb976\\anaconda3\\lib\\site-packages\\statsmodels\\tsa\\statespace\\sarimax.py:966: UserWarning: Non-stationary starting autoregressive parameters found. Using zeros as starting parameters.\n",
      "  warn('Non-stationary starting autoregressive parameters'\n",
      "c:\\Users\\skb976\\anaconda3\\lib\\site-packages\\statsmodels\\tsa\\statespace\\sarimax.py:978: UserWarning: Non-invertible starting MA parameters found. Using zeros as starting parameters.\n",
      "  warn('Non-invertible starting MA parameters found.'\n"
     ]
    }
   ],
   "source": [
    "ar_results = ar_model.fit()"
   ]
  },
  {
   "cell_type": "code",
   "execution_count": 11,
   "metadata": {},
   "outputs": [
    {
     "data": {
      "text/html": [
       "<table class=\"simpletable\">\n",
       "<caption>SARIMAX Results</caption>\n",
       "<tr>\n",
       "  <th>Dep. Variable:</th>     <td>market_value</td>   <th>  No. Observations:  </th>    <td>6277</td>   \n",
       "</tr>\n",
       "<tr>\n",
       "  <th>Model:</th>            <td>ARIMA(1, 1, 1)</td>  <th>  Log Likelihood     </th> <td>-34418.309</td>\n",
       "</tr>\n",
       "<tr>\n",
       "  <th>Date:</th>            <td>Thu, 18 Aug 2022</td> <th>  AIC                </th>  <td>68842.619</td>\n",
       "</tr>\n",
       "<tr>\n",
       "  <th>Time:</th>                <td>11:25:36</td>     <th>  BIC                </th>  <td>68862.852</td>\n",
       "</tr>\n",
       "<tr>\n",
       "  <th>Sample:</th>             <td>01-07-1994</td>    <th>  HQIC               </th>  <td>68849.630</td>\n",
       "</tr>\n",
       "<tr>\n",
       "  <th></th>                   <td>- 01-29-2018</td>   <th>                     </th>      <td> </td>    \n",
       "</tr>\n",
       "<tr>\n",
       "  <th>Covariance Type:</th>        <td>opg</td>       <th>                     </th>      <td> </td>    \n",
       "</tr>\n",
       "</table>\n",
       "<table class=\"simpletable\">\n",
       "<tr>\n",
       "     <td></td>       <th>coef</th>     <th>std err</th>      <th>z</th>      <th>P>|z|</th>  <th>[0.025</th>    <th>0.975]</th>  \n",
       "</tr>\n",
       "<tr>\n",
       "  <th>ar.L1</th>  <td>    0.8292</td> <td>    0.042</td> <td>   19.904</td> <td> 0.000</td> <td>    0.748</td> <td>    0.911</td>\n",
       "</tr>\n",
       "<tr>\n",
       "  <th>ma.L1</th>  <td>   -0.8641</td> <td>    0.037</td> <td>  -23.249</td> <td> 0.000</td> <td>   -0.937</td> <td>   -0.791</td>\n",
       "</tr>\n",
       "<tr>\n",
       "  <th>sigma2</th> <td> 3396.1057</td> <td>   36.186</td> <td>   93.850</td> <td> 0.000</td> <td> 3325.181</td> <td> 3467.030</td>\n",
       "</tr>\n",
       "</table>\n",
       "<table class=\"simpletable\">\n",
       "<tr>\n",
       "  <th>Ljung-Box (L1) (Q):</th>     <td>2.84</td> <th>  Jarque-Bera (JB):  </th> <td>3731.72</td>\n",
       "</tr>\n",
       "<tr>\n",
       "  <th>Prob(Q):</th>                <td>0.09</td> <th>  Prob(JB):          </th>  <td>0.00</td>  \n",
       "</tr>\n",
       "<tr>\n",
       "  <th>Heteroskedasticity (H):</th> <td>1.05</td> <th>  Skew:              </th>  <td>-0.32</td> \n",
       "</tr>\n",
       "<tr>\n",
       "  <th>Prob(H) (two-sided):</th>    <td>0.22</td> <th>  Kurtosis:          </th>  <td>6.72</td>  \n",
       "</tr>\n",
       "</table><br/><br/>Warnings:<br/>[1] Covariance matrix calculated using the outer product of gradients (complex-step)."
      ],
      "text/plain": [
       "<class 'statsmodels.iolib.summary.Summary'>\n",
       "\"\"\"\n",
       "                               SARIMAX Results                                \n",
       "==============================================================================\n",
       "Dep. Variable:           market_value   No. Observations:                 6277\n",
       "Model:                 ARIMA(1, 1, 1)   Log Likelihood              -34418.309\n",
       "Date:                Thu, 18 Aug 2022   AIC                          68842.619\n",
       "Time:                        11:25:36   BIC                          68862.852\n",
       "Sample:                    01-07-1994   HQIC                         68849.630\n",
       "                         - 01-29-2018                                         \n",
       "Covariance Type:                  opg                                         \n",
       "==============================================================================\n",
       "                 coef    std err          z      P>|z|      [0.025      0.975]\n",
       "------------------------------------------------------------------------------\n",
       "ar.L1          0.8292      0.042     19.904      0.000       0.748       0.911\n",
       "ma.L1         -0.8641      0.037    -23.249      0.000      -0.937      -0.791\n",
       "sigma2      3396.1057     36.186     93.850      0.000    3325.181    3467.030\n",
       "===================================================================================\n",
       "Ljung-Box (L1) (Q):                   2.84   Jarque-Bera (JB):              3731.72\n",
       "Prob(Q):                              0.09   Prob(JB):                         0.00\n",
       "Heteroskedasticity (H):               1.05   Skew:                            -0.32\n",
       "Prob(H) (two-sided):                  0.22   Kurtosis:                         6.72\n",
       "===================================================================================\n",
       "\n",
       "Warnings:\n",
       "[1] Covariance matrix calculated using the outer product of gradients (complex-step).\n",
       "\"\"\""
      ]
     },
     "execution_count": 11,
     "metadata": {},
     "output_type": "execute_result"
    }
   ],
   "source": [
    "ar_results.summary()"
   ]
  },
  {
   "cell_type": "markdown",
   "metadata": {},
   "source": [
    "Lets put the summary into AR equation\n",
    "$y_t$ = $\\beta_0 + \\beta_1y_{t-1} + \\epsilon_t$\n",
    "\n",
    "looking at the ARIMA Model summary. \n",
    "\n",
    "$\\beta_0$ = 5423.6789\n",
    "\n",
    "$\\beta_2$ = 0.9988 (Can match with ACF graph too)\n",
    "\n",
    "$\\epsilon_t$ = 0.001\n",
    "\n",
    "$Z$ - z statistics \n",
    "\n",
    "$P>|z|$ - p-value, we have 0.00, and safe to conclude the $\\beta_0$ and $\\beta_1$ are significantly different than zero.\n",
    "\n",
    "[0.025  0.975] - Gives us the 90% confidence interval. Since, zero is not part if it, hence we can conclude that the coefficients are significant. "
   ]
  },
  {
   "cell_type": "markdown",
   "metadata": {},
   "source": [
    "#### Going Higher with Lag values \n",
    "\n",
    "We are going to check AR(2) ... AR(N) models, and use Log-Likelihood ratio test to examine the models performance based on Lag values.\n",
    "\n",
    "#### AR(2) Model"
   ]
  },
  {
   "cell_type": "code",
   "execution_count": 12,
   "metadata": {},
   "outputs": [
    {
     "name": "stderr",
     "output_type": "stream",
     "text": [
      "c:\\Users\\skb976\\anaconda3\\lib\\site-packages\\statsmodels\\tsa\\statespace\\sarimax.py:966: UserWarning: Non-stationary starting autoregressive parameters found. Using zeros as starting parameters.\n",
      "  warn('Non-stationary starting autoregressive parameters'\n",
      "c:\\Users\\skb976\\anaconda3\\lib\\site-packages\\statsmodels\\tsa\\statespace\\sarimax.py:978: UserWarning: Non-invertible starting MA parameters found. Using zeros as starting parameters.\n",
      "  warn('Non-invertible starting MA parameters found.'\n"
     ]
    },
    {
     "data": {
      "text/html": [
       "<table class=\"simpletable\">\n",
       "<caption>SARIMAX Results</caption>\n",
       "<tr>\n",
       "  <th>Dep. Variable:</th>     <td>market_value</td>   <th>  No. Observations:  </th>    <td>6277</td>   \n",
       "</tr>\n",
       "<tr>\n",
       "  <th>Model:</th>            <td>ARIMA(2, 1, 1)</td>  <th>  Log Likelihood     </th> <td>-34414.111</td>\n",
       "</tr>\n",
       "<tr>\n",
       "  <th>Date:</th>            <td>Thu, 18 Aug 2022</td> <th>  AIC                </th>  <td>68836.221</td>\n",
       "</tr>\n",
       "<tr>\n",
       "  <th>Time:</th>                <td>11:25:38</td>     <th>  BIC                </th>  <td>68863.199</td>\n",
       "</tr>\n",
       "<tr>\n",
       "  <th>Sample:</th>             <td>01-07-1994</td>    <th>  HQIC               </th>  <td>68845.569</td>\n",
       "</tr>\n",
       "<tr>\n",
       "  <th></th>                   <td>- 01-29-2018</td>   <th>                     </th>      <td> </td>    \n",
       "</tr>\n",
       "<tr>\n",
       "  <th>Covariance Type:</th>        <td>opg</td>       <th>                     </th>      <td> </td>    \n",
       "</tr>\n",
       "</table>\n",
       "<table class=\"simpletable\">\n",
       "<tr>\n",
       "     <td></td>       <th>coef</th>     <th>std err</th>      <th>z</th>      <th>P>|z|</th>  <th>[0.025</th>    <th>0.975]</th>  \n",
       "</tr>\n",
       "<tr>\n",
       "  <th>ar.L1</th>  <td>    0.6765</td> <td>    0.064</td> <td>   10.557</td> <td> 0.000</td> <td>    0.551</td> <td>    0.802</td>\n",
       "</tr>\n",
       "<tr>\n",
       "  <th>ar.L2</th>  <td>   -0.0456</td> <td>    0.010</td> <td>   -4.625</td> <td> 0.000</td> <td>   -0.065</td> <td>   -0.026</td>\n",
       "</tr>\n",
       "<tr>\n",
       "  <th>ma.L1</th>  <td>   -0.6897</td> <td>    0.063</td> <td>  -10.986</td> <td> 0.000</td> <td>   -0.813</td> <td>   -0.567</td>\n",
       "</tr>\n",
       "<tr>\n",
       "  <th>sigma2</th> <td> 3395.8961</td> <td>   36.197</td> <td>   93.817</td> <td> 0.000</td> <td> 3324.951</td> <td> 3466.841</td>\n",
       "</tr>\n",
       "</table>\n",
       "<table class=\"simpletable\">\n",
       "<tr>\n",
       "  <th>Ljung-Box (L1) (Q):</th>     <td>0.00</td> <th>  Jarque-Bera (JB):  </th> <td>3671.91</td>\n",
       "</tr>\n",
       "<tr>\n",
       "  <th>Prob(Q):</th>                <td>0.97</td> <th>  Prob(JB):          </th>  <td>0.00</td>  \n",
       "</tr>\n",
       "<tr>\n",
       "  <th>Heteroskedasticity (H):</th> <td>1.06</td> <th>  Skew:              </th>  <td>-0.31</td> \n",
       "</tr>\n",
       "<tr>\n",
       "  <th>Prob(H) (two-sided):</th>    <td>0.17</td> <th>  Kurtosis:          </th>  <td>6.70</td>  \n",
       "</tr>\n",
       "</table><br/><br/>Warnings:<br/>[1] Covariance matrix calculated using the outer product of gradients (complex-step)."
      ],
      "text/plain": [
       "<class 'statsmodels.iolib.summary.Summary'>\n",
       "\"\"\"\n",
       "                               SARIMAX Results                                \n",
       "==============================================================================\n",
       "Dep. Variable:           market_value   No. Observations:                 6277\n",
       "Model:                 ARIMA(2, 1, 1)   Log Likelihood              -34414.111\n",
       "Date:                Thu, 18 Aug 2022   AIC                          68836.221\n",
       "Time:                        11:25:38   BIC                          68863.199\n",
       "Sample:                    01-07-1994   HQIC                         68845.569\n",
       "                         - 01-29-2018                                         \n",
       "Covariance Type:                  opg                                         \n",
       "==============================================================================\n",
       "                 coef    std err          z      P>|z|      [0.025      0.975]\n",
       "------------------------------------------------------------------------------\n",
       "ar.L1          0.6765      0.064     10.557      0.000       0.551       0.802\n",
       "ar.L2         -0.0456      0.010     -4.625      0.000      -0.065      -0.026\n",
       "ma.L1         -0.6897      0.063    -10.986      0.000      -0.813      -0.567\n",
       "sigma2      3395.8961     36.197     93.817      0.000    3324.951    3466.841\n",
       "===================================================================================\n",
       "Ljung-Box (L1) (Q):                   0.00   Jarque-Bera (JB):              3671.91\n",
       "Prob(Q):                              0.97   Prob(JB):                         0.00\n",
       "Heteroskedasticity (H):               1.06   Skew:                            -0.31\n",
       "Prob(H) (two-sided):                  0.17   Kurtosis:                         6.70\n",
       "===================================================================================\n",
       "\n",
       "Warnings:\n",
       "[1] Covariance matrix calculated using the outer product of gradients (complex-step).\n",
       "\"\"\""
      ]
     },
     "execution_count": 12,
     "metadata": {},
     "output_type": "execute_result"
    }
   ],
   "source": [
    "ar2_model = ARIMA(df.market_value, order=(2,1,1))\n",
    "ar2_results = ar2_model.fit()\n",
    "ar2_results.summary()"
   ]
  },
  {
   "cell_type": "markdown",
   "metadata": {},
   "source": [
    "According to stats, $t-2$ has huge impact rather than $t-1$ lag. $t-1$ is insignificant, looking at $\\rho$-value Lets, explore further."
   ]
  },
  {
   "cell_type": "code",
   "execution_count": 13,
   "metadata": {},
   "outputs": [
    {
     "data": {
      "text/html": [
       "<table class=\"simpletable\">\n",
       "<caption>SARIMAX Results</caption>\n",
       "<tr>\n",
       "  <th>Dep. Variable:</th>     <td>market_value</td>   <th>  No. Observations:  </th>    <td>6277</td>   \n",
       "</tr>\n",
       "<tr>\n",
       "  <th>Model:</th>            <td>ARIMA(3, 0, 1)</td>  <th>  Log Likelihood     </th> <td>-34422.142</td>\n",
       "</tr>\n",
       "<tr>\n",
       "  <th>Date:</th>            <td>Thu, 18 Aug 2022</td> <th>  AIC                </th>  <td>68856.284</td>\n",
       "</tr>\n",
       "<tr>\n",
       "  <th>Time:</th>                <td>11:25:44</td>     <th>  BIC                </th>  <td>68896.752</td>\n",
       "</tr>\n",
       "<tr>\n",
       "  <th>Sample:</th>             <td>01-07-1994</td>    <th>  HQIC               </th>  <td>68870.305</td>\n",
       "</tr>\n",
       "<tr>\n",
       "  <th></th>                   <td>- 01-29-2018</td>   <th>                     </th>      <td> </td>    \n",
       "</tr>\n",
       "<tr>\n",
       "  <th>Covariance Type:</th>        <td>opg</td>       <th>                     </th>      <td> </td>    \n",
       "</tr>\n",
       "</table>\n",
       "<table class=\"simpletable\">\n",
       "<tr>\n",
       "     <td></td>       <th>coef</th>     <th>std err</th>      <th>z</th>      <th>P>|z|</th>  <th>[0.025</th>    <th>0.975]</th>  \n",
       "</tr>\n",
       "<tr>\n",
       "  <th>const</th>  <td> 5423.6870</td> <td>  758.108</td> <td>    7.154</td> <td> 0.000</td> <td> 3937.823</td> <td> 6909.551</td>\n",
       "</tr>\n",
       "<tr>\n",
       "  <th>ar.L1</th>  <td>    1.6689</td> <td>    0.067</td> <td>   24.992</td> <td> 0.000</td> <td>    1.538</td> <td>    1.800</td>\n",
       "</tr>\n",
       "<tr>\n",
       "  <th>ar.L2</th>  <td>   -0.7149</td> <td>    0.063</td> <td>  -11.261</td> <td> 0.000</td> <td>   -0.839</td> <td>   -0.590</td>\n",
       "</tr>\n",
       "<tr>\n",
       "  <th>ar.L3</th>  <td>    0.0458</td> <td>    0.010</td> <td>    4.652</td> <td> 0.000</td> <td>    0.026</td> <td>    0.065</td>\n",
       "</tr>\n",
       "<tr>\n",
       "  <th>ma.L1</th>  <td>   -0.6822</td> <td>    0.066</td> <td>  -10.409</td> <td> 0.000</td> <td>   -0.811</td> <td>   -0.554</td>\n",
       "</tr>\n",
       "<tr>\n",
       "  <th>sigma2</th> <td> 3390.7853</td> <td>   36.396</td> <td>   93.165</td> <td> 0.000</td> <td> 3319.451</td> <td> 3462.119</td>\n",
       "</tr>\n",
       "</table>\n",
       "<table class=\"simpletable\">\n",
       "<tr>\n",
       "  <th>Ljung-Box (L1) (Q):</th>     <td>0.00</td> <th>  Jarque-Bera (JB):  </th> <td>3653.42</td>\n",
       "</tr>\n",
       "<tr>\n",
       "  <th>Prob(Q):</th>                <td>0.96</td> <th>  Prob(JB):          </th>  <td>0.00</td>  \n",
       "</tr>\n",
       "<tr>\n",
       "  <th>Heteroskedasticity (H):</th> <td>1.06</td> <th>  Skew:              </th>  <td>-0.30</td> \n",
       "</tr>\n",
       "<tr>\n",
       "  <th>Prob(H) (two-sided):</th>    <td>0.17</td> <th>  Kurtosis:          </th>  <td>6.69</td>  \n",
       "</tr>\n",
       "</table><br/><br/>Warnings:<br/>[1] Covariance matrix calculated using the outer product of gradients (complex-step)."
      ],
      "text/plain": [
       "<class 'statsmodels.iolib.summary.Summary'>\n",
       "\"\"\"\n",
       "                               SARIMAX Results                                \n",
       "==============================================================================\n",
       "Dep. Variable:           market_value   No. Observations:                 6277\n",
       "Model:                 ARIMA(3, 0, 1)   Log Likelihood              -34422.142\n",
       "Date:                Thu, 18 Aug 2022   AIC                          68856.284\n",
       "Time:                        11:25:44   BIC                          68896.752\n",
       "Sample:                    01-07-1994   HQIC                         68870.305\n",
       "                         - 01-29-2018                                         \n",
       "Covariance Type:                  opg                                         \n",
       "==============================================================================\n",
       "                 coef    std err          z      P>|z|      [0.025      0.975]\n",
       "------------------------------------------------------------------------------\n",
       "const       5423.6870    758.108      7.154      0.000    3937.823    6909.551\n",
       "ar.L1          1.6689      0.067     24.992      0.000       1.538       1.800\n",
       "ar.L2         -0.7149      0.063    -11.261      0.000      -0.839      -0.590\n",
       "ar.L3          0.0458      0.010      4.652      0.000       0.026       0.065\n",
       "ma.L1         -0.6822      0.066    -10.409      0.000      -0.811      -0.554\n",
       "sigma2      3390.7853     36.396     93.165      0.000    3319.451    3462.119\n",
       "===================================================================================\n",
       "Ljung-Box (L1) (Q):                   0.00   Jarque-Bera (JB):              3653.42\n",
       "Prob(Q):                              0.96   Prob(JB):                         0.00\n",
       "Heteroskedasticity (H):               1.06   Skew:                            -0.30\n",
       "Prob(H) (two-sided):                  0.17   Kurtosis:                         6.69\n",
       "===================================================================================\n",
       "\n",
       "Warnings:\n",
       "[1] Covariance matrix calculated using the outer product of gradients (complex-step).\n",
       "\"\"\""
      ]
     },
     "execution_count": 13,
     "metadata": {},
     "output_type": "execute_result"
    }
   ],
   "source": [
    "ar3_model = ARIMA(df.market_value, order=(3,0,1))\n",
    "ar3_results = ar3_model.fit()\n",
    "ar3_results.summary()"
   ]
  },
  {
   "cell_type": "code",
   "execution_count": 14,
   "metadata": {},
   "outputs": [
    {
     "data": {
      "text/html": [
       "<table class=\"simpletable\">\n",
       "<caption>SARIMAX Results</caption>\n",
       "<tr>\n",
       "  <th>Dep. Variable:</th>     <td>market_value</td>   <th>  No. Observations:  </th>    <td>6277</td>   \n",
       "</tr>\n",
       "<tr>\n",
       "  <th>Model:</th>            <td>ARIMA(7, 0, 1)</td>  <th>  Log Likelihood     </th> <td>-34414.375</td>\n",
       "</tr>\n",
       "<tr>\n",
       "  <th>Date:</th>            <td>Thu, 18 Aug 2022</td> <th>  AIC                </th>  <td>68848.750</td>\n",
       "</tr>\n",
       "<tr>\n",
       "  <th>Time:</th>                <td>11:25:47</td>     <th>  BIC                </th>  <td>68916.197</td>\n",
       "</tr>\n",
       "<tr>\n",
       "  <th>Sample:</th>             <td>01-07-1994</td>    <th>  HQIC               </th>  <td>68872.119</td>\n",
       "</tr>\n",
       "<tr>\n",
       "  <th></th>                   <td>- 01-29-2018</td>   <th>                     </th>      <td> </td>    \n",
       "</tr>\n",
       "<tr>\n",
       "  <th>Covariance Type:</th>        <td>opg</td>       <th>                     </th>      <td> </td>    \n",
       "</tr>\n",
       "</table>\n",
       "<table class=\"simpletable\">\n",
       "<tr>\n",
       "     <td></td>       <th>coef</th>     <th>std err</th>      <th>z</th>      <th>P>|z|</th>  <th>[0.025</th>    <th>0.975]</th>  \n",
       "</tr>\n",
       "<tr>\n",
       "  <th>const</th>  <td> 5423.6798</td> <td>  540.461</td> <td>   10.035</td> <td> 0.000</td> <td> 4364.395</td> <td> 6482.965</td>\n",
       "</tr>\n",
       "<tr>\n",
       "  <th>ar.L1</th>  <td>    0.6440</td> <td>    0.286</td> <td>    2.252</td> <td> 0.024</td> <td>    0.084</td> <td>    1.204</td>\n",
       "</tr>\n",
       "<tr>\n",
       "  <th>ar.L2</th>  <td>    0.3019</td> <td>    0.283</td> <td>    1.067</td> <td> 0.286</td> <td>   -0.253</td> <td>    0.856</td>\n",
       "</tr>\n",
       "<tr>\n",
       "  <th>ar.L3</th>  <td>   -0.0213</td> <td>    0.016</td> <td>   -1.360</td> <td> 0.174</td> <td>   -0.052</td> <td>    0.009</td>\n",
       "</tr>\n",
       "<tr>\n",
       "  <th>ar.L4</th>  <td>    0.0628</td> <td>    0.010</td> <td>    6.018</td> <td> 0.000</td> <td>    0.042</td> <td>    0.083</td>\n",
       "</tr>\n",
       "<tr>\n",
       "  <th>ar.L5</th>  <td>   -0.0245</td> <td>    0.021</td> <td>   -1.160</td> <td> 0.246</td> <td>   -0.066</td> <td>    0.017</td>\n",
       "</tr>\n",
       "<tr>\n",
       "  <th>ar.L6</th>  <td>   -0.0037</td> <td>    0.015</td> <td>   -0.249</td> <td> 0.804</td> <td>   -0.033</td> <td>    0.025</td>\n",
       "</tr>\n",
       "<tr>\n",
       "  <th>ar.L7</th>  <td>    0.0394</td> <td>    0.012</td> <td>    3.234</td> <td> 0.001</td> <td>    0.016</td> <td>    0.063</td>\n",
       "</tr>\n",
       "<tr>\n",
       "  <th>ma.L1</th>  <td>    0.3435</td> <td>    0.287</td> <td>    1.199</td> <td> 0.231</td> <td>   -0.218</td> <td>    0.905</td>\n",
       "</tr>\n",
       "<tr>\n",
       "  <th>sigma2</th> <td> 3384.4529</td> <td>   37.079</td> <td>   91.276</td> <td> 0.000</td> <td> 3311.779</td> <td> 3457.127</td>\n",
       "</tr>\n",
       "</table>\n",
       "<table class=\"simpletable\">\n",
       "<tr>\n",
       "  <th>Ljung-Box (L1) (Q):</th>     <td>0.00</td> <th>  Jarque-Bera (JB):  </th> <td>3441.74</td>\n",
       "</tr>\n",
       "<tr>\n",
       "  <th>Prob(Q):</th>                <td>0.98</td> <th>  Prob(JB):          </th>  <td>0.00</td>  \n",
       "</tr>\n",
       "<tr>\n",
       "  <th>Heteroskedasticity (H):</th> <td>1.07</td> <th>  Skew:              </th>  <td>-0.29</td> \n",
       "</tr>\n",
       "<tr>\n",
       "  <th>Prob(H) (two-sided):</th>    <td>0.12</td> <th>  Kurtosis:          </th>  <td>6.58</td>  \n",
       "</tr>\n",
       "</table><br/><br/>Warnings:<br/>[1] Covariance matrix calculated using the outer product of gradients (complex-step)."
      ],
      "text/plain": [
       "<class 'statsmodels.iolib.summary.Summary'>\n",
       "\"\"\"\n",
       "                               SARIMAX Results                                \n",
       "==============================================================================\n",
       "Dep. Variable:           market_value   No. Observations:                 6277\n",
       "Model:                 ARIMA(7, 0, 1)   Log Likelihood              -34414.375\n",
       "Date:                Thu, 18 Aug 2022   AIC                          68848.750\n",
       "Time:                        11:25:47   BIC                          68916.197\n",
       "Sample:                    01-07-1994   HQIC                         68872.119\n",
       "                         - 01-29-2018                                         \n",
       "Covariance Type:                  opg                                         \n",
       "==============================================================================\n",
       "                 coef    std err          z      P>|z|      [0.025      0.975]\n",
       "------------------------------------------------------------------------------\n",
       "const       5423.6798    540.461     10.035      0.000    4364.395    6482.965\n",
       "ar.L1          0.6440      0.286      2.252      0.024       0.084       1.204\n",
       "ar.L2          0.3019      0.283      1.067      0.286      -0.253       0.856\n",
       "ar.L3         -0.0213      0.016     -1.360      0.174      -0.052       0.009\n",
       "ar.L4          0.0628      0.010      6.018      0.000       0.042       0.083\n",
       "ar.L5         -0.0245      0.021     -1.160      0.246      -0.066       0.017\n",
       "ar.L6         -0.0037      0.015     -0.249      0.804      -0.033       0.025\n",
       "ar.L7          0.0394      0.012      3.234      0.001       0.016       0.063\n",
       "ma.L1          0.3435      0.287      1.199      0.231      -0.218       0.905\n",
       "sigma2      3384.4529     37.079     91.276      0.000    3311.779    3457.127\n",
       "===================================================================================\n",
       "Ljung-Box (L1) (Q):                   0.00   Jarque-Bera (JB):              3441.74\n",
       "Prob(Q):                              0.98   Prob(JB):                         0.00\n",
       "Heteroskedasticity (H):               1.07   Skew:                            -0.29\n",
       "Prob(H) (two-sided):                  0.12   Kurtosis:                         6.58\n",
       "===================================================================================\n",
       "\n",
       "Warnings:\n",
       "[1] Covariance matrix calculated using the outer product of gradients (complex-step).\n",
       "\"\"\""
      ]
     },
     "execution_count": 14,
     "metadata": {},
     "output_type": "execute_result"
    }
   ],
   "source": [
    "ar7_model = ARIMA(df.market_value, order=(7,0,1))\n",
    "ar7_results = ar7_model.fit()\n",
    "ar7_results.summary()"
   ]
  },
  {
   "cell_type": "markdown",
   "metadata": {},
   "source": [
    "#### LLR (Log-Likelihood) Test "
   ]
  },
  {
   "cell_type": "code",
   "execution_count": 15,
   "metadata": {},
   "outputs": [],
   "source": [
    "def llr_test(model_one, model_two, df=1):\n",
    "    l1 = model_one.fit().llf\n",
    "    l2 = model_two.fit().llf\n",
    "    lr = (2*(l2-l1))\n",
    "    p = chi2.sf(lr, df).round(3)\n",
    "    return p"
   ]
  },
  {
   "cell_type": "markdown",
   "metadata": {},
   "source": [
    "Comparing the models"
   ]
  },
  {
   "cell_type": "code",
   "execution_count": 16,
   "metadata": {},
   "outputs": [
    {
     "name": "stderr",
     "output_type": "stream",
     "text": [
      "c:\\Users\\skb976\\anaconda3\\lib\\site-packages\\statsmodels\\tsa\\statespace\\sarimax.py:966: UserWarning: Non-stationary starting autoregressive parameters found. Using zeros as starting parameters.\n",
      "  warn('Non-stationary starting autoregressive parameters'\n",
      "c:\\Users\\skb976\\anaconda3\\lib\\site-packages\\statsmodels\\tsa\\statespace\\sarimax.py:978: UserWarning: Non-invertible starting MA parameters found. Using zeros as starting parameters.\n",
      "  warn('Non-invertible starting MA parameters found.'\n"
     ]
    },
    {
     "data": {
      "text/plain": [
       "0.004"
      ]
     },
     "execution_count": 16,
     "metadata": {},
     "output_type": "execute_result"
    }
   ],
   "source": [
    "llr_test(ar_model, ar2_model)"
   ]
  },
  {
   "cell_type": "code",
   "execution_count": 17,
   "metadata": {},
   "outputs": [
    {
     "data": {
      "text/plain": [
       "1.0"
      ]
     },
     "execution_count": 17,
     "metadata": {},
     "output_type": "execute_result"
    }
   ],
   "source": [
    "llr_test(ar2_model, ar3_model)"
   ]
  },
  {
   "cell_type": "code",
   "execution_count": 18,
   "metadata": {},
   "outputs": [
    {
     "data": {
      "text/plain": [
       "1.0"
      ]
     },
     "execution_count": 18,
     "metadata": {},
     "output_type": "execute_result"
    }
   ],
   "source": [
    "llr_test(ar_model, ar3_model)"
   ]
  },
  {
   "cell_type": "markdown",
   "metadata": {},
   "source": [
    "Looking at the LLR test. we can say that higher the lag values, better is the prediction. We can continue until a point where p-values is > 0.5."
   ]
  },
  {
   "cell_type": "markdown",
   "metadata": {},
   "source": [
    "## Caution\n",
    "\n",
    "We have assumed that the data is from stationary process, what if not !! Does AR works as expected !! Lets examine \n",
    "\n",
    "##### The DF-test "
   ]
  },
  {
   "cell_type": "code",
   "execution_count": 19,
   "metadata": {},
   "outputs": [
    {
     "data": {
      "text/plain": [
       "(-1.5977788921179843,\n",
       " 0.48470912054659704,\n",
       " 6,\n",
       " 6270,\n",
       " {'1%': -3.4313933778649943,\n",
       "  '5%': -2.862001080749219,\n",
       "  '10%': -2.567015430304048},\n",
       " 68476.87620974617)"
      ]
     },
     "execution_count": 19,
     "metadata": {},
     "output_type": "execute_result"
    }
   ],
   "source": [
    "sts.adfuller(df.market_value)"
   ]
  },
  {
   "cell_type": "markdown",
   "metadata": {},
   "source": [
    "We can see the ADF value, which tells us the data is not stationary. \n",
    "\n",
    "**What can we do about it ?**\n",
    "\n",
    "To tackle this challenge, we will transform the data. We will use  **Return** - *The percentage change between two values for two consecutive periods.* \n",
    "\n",
    "$\n",
    "Return = \\frac{P_1 - P_{t-1}}{P_{t-1}} *100\n",
    "$\n",
    "\n",
    "We have pandas builtin function for it.\n"
   ]
  },
  {
   "cell_type": "code",
   "execution_count": 20,
   "metadata": {},
   "outputs": [],
   "source": [
    "df['returns'] = df.market_value.pct_change(1).mul(100)"
   ]
  },
  {
   "cell_type": "code",
   "execution_count": 21,
   "metadata": {},
   "outputs": [
    {
     "data": {
      "text/plain": [
       "date\n",
       "1994-01-07         NaN\n",
       "1994-01-10   -0.156704\n",
       "1994-01-11   -0.779229\n",
       "1994-01-12   -1.222988\n",
       "1994-01-13   -0.356166\n",
       "                ...   \n",
       "2018-01-23    0.212382\n",
       "2018-01-24   -1.143311\n",
       "2018-01-25   -0.360951\n",
       "2018-01-26    0.652605\n",
       "2018-01-29    0.078168\n",
       "Freq: B, Name: returns, Length: 6277, dtype: float64"
      ]
     },
     "execution_count": 21,
     "metadata": {},
     "output_type": "execute_result"
    }
   ],
   "source": [
    "df.returns"
   ]
  },
  {
   "cell_type": "markdown",
   "metadata": {},
   "source": [
    "We have one NaN value due to return compute. Because, first index value has no previous value to compare with. Hence we drop the instance, since it is just a single data example."
   ]
  },
  {
   "cell_type": "code",
   "execution_count": 22,
   "metadata": {},
   "outputs": [
    {
     "data": {
      "text/plain": [
       "date\n",
       "1994-01-10   -0.156704\n",
       "1994-01-11   -0.779229\n",
       "1994-01-12   -1.222988\n",
       "1994-01-13   -0.356166\n",
       "1994-01-14    1.206842\n",
       "                ...   \n",
       "2018-01-23    0.212382\n",
       "2018-01-24   -1.143311\n",
       "2018-01-25   -0.360951\n",
       "2018-01-26    0.652605\n",
       "2018-01-29    0.078168\n",
       "Freq: B, Name: returns, Length: 6276, dtype: float64"
      ]
     },
     "execution_count": 22,
     "metadata": {},
     "output_type": "execute_result"
    }
   ],
   "source": [
    "df = df[1:]\n",
    "df.returns"
   ]
  },
  {
   "cell_type": "markdown",
   "metadata": {},
   "source": [
    "Lets just verify that we have returns data source is stationary."
   ]
  },
  {
   "cell_type": "code",
   "execution_count": 23,
   "metadata": {},
   "outputs": [
    {
     "data": {
      "text/plain": [
       "(-15.140761332034796,\n",
       " 7.016338451094158e-28,\n",
       " 34,\n",
       " 6241,\n",
       " {'1%': -3.431398228116075,\n",
       "  '5%': -2.8620032237533897,\n",
       "  '10%': -2.5670165710764503},\n",
       " 19026.504469066465)"
      ]
     },
     "execution_count": 23,
     "metadata": {},
     "output_type": "execute_result"
    }
   ],
   "source": [
    "sts.adfuller(df.returns)"
   ]
  },
  {
   "cell_type": "markdown",
   "metadata": {},
   "source": [
    "Looking at the ADF test scores, we can conclude that data is stationary looking at critical value, $\\rho$-value, and lag.\n",
    "\n",
    "#### Let Examine the ACF and PACF for Returns "
   ]
  },
  {
   "cell_type": "code",
   "execution_count": 24,
   "metadata": {},
   "outputs": [
    {
     "data": {
      "image/png": "[encoded data removed]",
      "text/plain": [
       "<Figure size 432x288 with 1 Axes>"
      ]
     },
     "metadata": {},
     "output_type": "display_data"
    }
   ],
   "source": [
    "sgt.plot_acf(df.returns, lags=40, zero=False) \n",
    "plt.title(\"ACF FTSE Returns\", size=24)\n",
    "plt.ylabel(\"AutoCorr Coeff\")\n",
    "plt.ylim(-0.05, 0.05)\n",
    "plt.xlabel(\"lags\")\n",
    "plt.show()"
   ]
  },
  {
   "cell_type": "markdown",
   "metadata": {},
   "source": [
    "We see a different result than FTSE price. The magnitude is changed, and half of the points have negative correlation."
   ]
  },
  {
   "cell_type": "code",
   "execution_count": 25,
   "metadata": {},
   "outputs": [
    {
     "data": {
      "image/png": "[encoded data removed]",
      "text/plain": [
       "<Figure size 432x288 with 1 Axes>"
      ]
     },
     "metadata": {},
     "output_type": "display_data"
    }
   ],
   "source": [
    "sgt.plot_pacf(df.returns, lags=40, zero=False, method=('ols')) \n",
    "plt.title(\"PACF FTSE Returns\", size=24)\n",
    "plt.ylabel(\"Corr Coeff\")\n",
    "plt.ylim(-0.05, 0.05)\n",
    "plt.xlabel(\"lags\")\n",
    "plt.show()"
   ]
  },
  {
   "cell_type": "markdown",
   "metadata": {},
   "source": [
    "Similarly, we have same results from PACF graph. Combining both (ACF, and PACF) graph, 5 of the first 6 coefficients are significant, and 4 of them are negative, which suggests the market is trying to adjust. For instance, If the price was decreased previously, then it will be increased today. *if you have notice during the AR(1), and AR(2) model build, we have the same effect present*. It is a cyclical change. As we move further back the less coefficient value will be."
   ]
  },
  {
   "cell_type": "markdown",
   "metadata": {},
   "source": [
    "## AR(1) !! Again"
   ]
  },
  {
   "cell_type": "code",
   "execution_count": 26,
   "metadata": {},
   "outputs": [],
   "source": [
    "ar_ret_model = ARIMA(df.returns, order=(1,1,1))\n",
    "ar_ret_result = ar_ret_model.fit()"
   ]
  },
  {
   "cell_type": "code",
   "execution_count": 27,
   "metadata": {},
   "outputs": [
    {
     "data": {
      "text/html": [
       "<table class=\"simpletable\">\n",
       "<caption>SARIMAX Results</caption>\n",
       "<tr>\n",
       "  <th>Dep. Variable:</th>        <td>returns</td>     <th>  No. Observations:  </th>   <td>6276</td>   \n",
       "</tr>\n",
       "<tr>\n",
       "  <th>Model:</th>            <td>ARIMA(1, 1, 1)</td>  <th>  Log Likelihood     </th> <td>-9601.071</td>\n",
       "</tr>\n",
       "<tr>\n",
       "  <th>Date:</th>            <td>Thu, 18 Aug 2022</td> <th>  AIC                </th> <td>19208.142</td>\n",
       "</tr>\n",
       "<tr>\n",
       "  <th>Time:</th>                <td>11:26:08</td>     <th>  BIC                </th> <td>19228.375</td>\n",
       "</tr>\n",
       "<tr>\n",
       "  <th>Sample:</th>             <td>01-10-1994</td>    <th>  HQIC               </th> <td>19215.153</td>\n",
       "</tr>\n",
       "<tr>\n",
       "  <th></th>                   <td>- 01-29-2018</td>   <th>                     </th>     <td> </td>    \n",
       "</tr>\n",
       "<tr>\n",
       "  <th>Covariance Type:</th>        <td>opg</td>       <th>                     </th>     <td> </td>    \n",
       "</tr>\n",
       "</table>\n",
       "<table class=\"simpletable\">\n",
       "<tr>\n",
       "     <td></td>       <th>coef</th>     <th>std err</th>      <th>z</th>      <th>P>|z|</th>  <th>[0.025</th>    <th>0.975]</th>  \n",
       "</tr>\n",
       "<tr>\n",
       "  <th>ar.L1</th>  <td>   -0.0174</td> <td>    0.008</td> <td>   -2.305</td> <td> 0.021</td> <td>   -0.032</td> <td>   -0.003</td>\n",
       "</tr>\n",
       "<tr>\n",
       "  <th>ma.L1</th>  <td>   -1.0000</td> <td>    0.005</td> <td> -194.136</td> <td> 0.000</td> <td>   -1.010</td> <td>   -0.990</td>\n",
       "</tr>\n",
       "<tr>\n",
       "  <th>sigma2</th> <td>    1.2471</td> <td>    0.013</td> <td>   97.574</td> <td> 0.000</td> <td>    1.222</td> <td>    1.272</td>\n",
       "</tr>\n",
       "</table>\n",
       "<table class=\"simpletable\">\n",
       "<tr>\n",
       "  <th>Ljung-Box (L1) (Q):</th>     <td>0.01</td> <th>  Jarque-Bera (JB):  </th> <td>10519.92</td>\n",
       "</tr>\n",
       "<tr>\n",
       "  <th>Prob(Q):</th>                <td>0.94</td> <th>  Prob(JB):          </th>   <td>0.00</td>  \n",
       "</tr>\n",
       "<tr>\n",
       "  <th>Heteroskedasticity (H):</th> <td>0.85</td> <th>  Skew:              </th>   <td>-0.04</td> \n",
       "</tr>\n",
       "<tr>\n",
       "  <th>Prob(H) (two-sided):</th>    <td>0.00</td> <th>  Kurtosis:          </th>   <td>9.34</td>  \n",
       "</tr>\n",
       "</table><br/><br/>Warnings:<br/>[1] Covariance matrix calculated using the outer product of gradients (complex-step)."
      ],
      "text/plain": [
       "<class 'statsmodels.iolib.summary.Summary'>\n",
       "\"\"\"\n",
       "                               SARIMAX Results                                \n",
       "==============================================================================\n",
       "Dep. Variable:                returns   No. Observations:                 6276\n",
       "Model:                 ARIMA(1, 1, 1)   Log Likelihood               -9601.071\n",
       "Date:                Thu, 18 Aug 2022   AIC                          19208.142\n",
       "Time:                        11:26:08   BIC                          19228.375\n",
       "Sample:                    01-10-1994   HQIC                         19215.153\n",
       "                         - 01-29-2018                                         \n",
       "Covariance Type:                  opg                                         \n",
       "==============================================================================\n",
       "                 coef    std err          z      P>|z|      [0.025      0.975]\n",
       "------------------------------------------------------------------------------\n",
       "ar.L1         -0.0174      0.008     -2.305      0.021      -0.032      -0.003\n",
       "ma.L1         -1.0000      0.005   -194.136      0.000      -1.010      -0.990\n",
       "sigma2         1.2471      0.013     97.574      0.000       1.222       1.272\n",
       "===================================================================================\n",
       "Ljung-Box (L1) (Q):                   0.01   Jarque-Bera (JB):             10519.92\n",
       "Prob(Q):                              0.94   Prob(JB):                         0.00\n",
       "Heteroskedasticity (H):               0.85   Skew:                            -0.04\n",
       "Prob(H) (two-sided):                  0.00   Kurtosis:                         9.34\n",
       "===================================================================================\n",
       "\n",
       "Warnings:\n",
       "[1] Covariance matrix calculated using the outer product of gradients (complex-step).\n",
       "\"\"\""
      ]
     },
     "execution_count": 27,
     "metadata": {},
     "output_type": "execute_result"
    }
   ],
   "source": [
    "ar_ret_result.summary()"
   ]
  },
  {
   "cell_type": "code",
   "execution_count": 28,
   "metadata": {},
   "outputs": [
    {
     "data": {
      "text/html": [
       "<table class=\"simpletable\">\n",
       "<caption>SARIMAX Results</caption>\n",
       "<tr>\n",
       "  <th>Dep. Variable:</th>        <td>returns</td>     <th>  No. Observations:  </th>   <td>6276</td>   \n",
       "</tr>\n",
       "<tr>\n",
       "  <th>Model:</th>            <td>ARIMA(2, 1, 1)</td>  <th>  Log Likelihood     </th> <td>-9593.718</td>\n",
       "</tr>\n",
       "<tr>\n",
       "  <th>Date:</th>            <td>Thu, 18 Aug 2022</td> <th>  AIC                </th> <td>19195.437</td>\n",
       "</tr>\n",
       "<tr>\n",
       "  <th>Time:</th>                <td>11:26:12</td>     <th>  BIC                </th> <td>19222.414</td>\n",
       "</tr>\n",
       "<tr>\n",
       "  <th>Sample:</th>             <td>01-10-1994</td>    <th>  HQIC               </th> <td>19204.784</td>\n",
       "</tr>\n",
       "<tr>\n",
       "  <th></th>                   <td>- 01-29-2018</td>   <th>                     </th>     <td> </td>    \n",
       "</tr>\n",
       "<tr>\n",
       "  <th>Covariance Type:</th>        <td>opg</td>       <th>                     </th>     <td> </td>    \n",
       "</tr>\n",
       "</table>\n",
       "<table class=\"simpletable\">\n",
       "<tr>\n",
       "     <td></td>       <th>coef</th>     <th>std err</th>      <th>z</th>      <th>P>|z|</th>  <th>[0.025</th>    <th>0.975]</th>  \n",
       "</tr>\n",
       "<tr>\n",
       "  <th>ar.L1</th>  <td>   -0.0183</td> <td>    0.008</td> <td>   -2.393</td> <td> 0.017</td> <td>   -0.033</td> <td>   -0.003</td>\n",
       "</tr>\n",
       "<tr>\n",
       "  <th>ar.L2</th>  <td>   -0.0484</td> <td>    0.007</td> <td>   -6.933</td> <td> 0.000</td> <td>   -0.062</td> <td>   -0.035</td>\n",
       "</tr>\n",
       "<tr>\n",
       "  <th>ma.L1</th>  <td>   -1.0000</td> <td>    0.019</td> <td>  -52.987</td> <td> 0.000</td> <td>   -1.037</td> <td>   -0.963</td>\n",
       "</tr>\n",
       "<tr>\n",
       "  <th>sigma2</th> <td>    1.2442</td> <td>    0.026</td> <td>   48.146</td> <td> 0.000</td> <td>    1.194</td> <td>    1.295</td>\n",
       "</tr>\n",
       "</table>\n",
       "<table class=\"simpletable\">\n",
       "<tr>\n",
       "  <th>Ljung-Box (L1) (Q):</th>     <td>0.07</td> <th>  Jarque-Bera (JB):  </th> <td>10345.58</td>\n",
       "</tr>\n",
       "<tr>\n",
       "  <th>Prob(Q):</th>                <td>0.79</td> <th>  Prob(JB):          </th>   <td>0.00</td>  \n",
       "</tr>\n",
       "<tr>\n",
       "  <th>Heteroskedasticity (H):</th> <td>0.85</td> <th>  Skew:              </th>   <td>-0.07</td> \n",
       "</tr>\n",
       "<tr>\n",
       "  <th>Prob(H) (two-sided):</th>    <td>0.00</td> <th>  Kurtosis:          </th>   <td>9.29</td>  \n",
       "</tr>\n",
       "</table><br/><br/>Warnings:<br/>[1] Covariance matrix calculated using the outer product of gradients (complex-step)."
      ],
      "text/plain": [
       "<class 'statsmodels.iolib.summary.Summary'>\n",
       "\"\"\"\n",
       "                               SARIMAX Results                                \n",
       "==============================================================================\n",
       "Dep. Variable:                returns   No. Observations:                 6276\n",
       "Model:                 ARIMA(2, 1, 1)   Log Likelihood               -9593.718\n",
       "Date:                Thu, 18 Aug 2022   AIC                          19195.437\n",
       "Time:                        11:26:12   BIC                          19222.414\n",
       "Sample:                    01-10-1994   HQIC                         19204.784\n",
       "                         - 01-29-2018                                         \n",
       "Covariance Type:                  opg                                         \n",
       "==============================================================================\n",
       "                 coef    std err          z      P>|z|      [0.025      0.975]\n",
       "------------------------------------------------------------------------------\n",
       "ar.L1         -0.0183      0.008     -2.393      0.017      -0.033      -0.003\n",
       "ar.L2         -0.0484      0.007     -6.933      0.000      -0.062      -0.035\n",
       "ma.L1         -1.0000      0.019    -52.987      0.000      -1.037      -0.963\n",
       "sigma2         1.2442      0.026     48.146      0.000       1.194       1.295\n",
       "===================================================================================\n",
       "Ljung-Box (L1) (Q):                   0.07   Jarque-Bera (JB):             10345.58\n",
       "Prob(Q):                              0.79   Prob(JB):                         0.00\n",
       "Heteroskedasticity (H):               0.85   Skew:                            -0.07\n",
       "Prob(H) (two-sided):                  0.00   Kurtosis:                         9.29\n",
       "===================================================================================\n",
       "\n",
       "Warnings:\n",
       "[1] Covariance matrix calculated using the outer product of gradients (complex-step).\n",
       "\"\"\""
      ]
     },
     "execution_count": 28,
     "metadata": {},
     "output_type": "execute_result"
    }
   ],
   "source": [
    "ar_ret_model_2 = ARIMA(df.returns, order=(2,1,1))\n",
    "ar_ret_result_2 = ar_ret_model_2.fit()\n",
    "ar_ret_result_2.summary()"
   ]
  },
  {
   "cell_type": "code",
   "execution_count": 29,
   "metadata": {},
   "outputs": [
    {
     "data": {
      "text/html": [
       "<table class=\"simpletable\">\n",
       "<caption>SARIMAX Results</caption>\n",
       "<tr>\n",
       "  <th>Dep. Variable:</th>        <td>returns</td>     <th>  No. Observations:  </th>   <td>6276</td>   \n",
       "</tr>\n",
       "<tr>\n",
       "  <th>Model:</th>            <td>ARIMA(3, 1, 1)</td>  <th>  Log Likelihood     </th> <td>-9579.428</td>\n",
       "</tr>\n",
       "<tr>\n",
       "  <th>Date:</th>            <td>Thu, 18 Aug 2022</td> <th>  AIC                </th> <td>19168.855</td>\n",
       "</tr>\n",
       "<tr>\n",
       "  <th>Time:</th>                <td>11:26:17</td>     <th>  BIC                </th> <td>19202.577</td>\n",
       "</tr>\n",
       "<tr>\n",
       "  <th>Sample:</th>             <td>01-10-1994</td>    <th>  HQIC               </th> <td>19180.539</td>\n",
       "</tr>\n",
       "<tr>\n",
       "  <th></th>                   <td>- 01-29-2018</td>   <th>                     </th>     <td> </td>    \n",
       "</tr>\n",
       "<tr>\n",
       "  <th>Covariance Type:</th>        <td>opg</td>       <th>                     </th>     <td> </td>    \n",
       "</tr>\n",
       "</table>\n",
       "<table class=\"simpletable\">\n",
       "<tr>\n",
       "     <td></td>       <th>coef</th>     <th>std err</th>      <th>z</th>      <th>P>|z|</th>  <th>[0.025</th>    <th>0.975]</th>  \n",
       "</tr>\n",
       "<tr>\n",
       "  <th>ar.L1</th>  <td>   -0.0216</td> <td>    0.008</td> <td>   -2.768</td> <td> 0.006</td> <td>   -0.037</td> <td>   -0.006</td>\n",
       "</tr>\n",
       "<tr>\n",
       "  <th>ar.L2</th>  <td>   -0.0497</td> <td>    0.007</td> <td>   -7.163</td> <td> 0.000</td> <td>   -0.063</td> <td>   -0.036</td>\n",
       "</tr>\n",
       "<tr>\n",
       "  <th>ar.L3</th>  <td>   -0.0674</td> <td>    0.007</td> <td>   -9.324</td> <td> 0.000</td> <td>   -0.082</td> <td>   -0.053</td>\n",
       "</tr>\n",
       "<tr>\n",
       "  <th>ma.L1</th>  <td>   -1.0000</td> <td>    0.025</td> <td>  -39.398</td> <td> 0.000</td> <td>   -1.050</td> <td>   -0.950</td>\n",
       "</tr>\n",
       "<tr>\n",
       "  <th>sigma2</th> <td>    1.2385</td> <td>    0.032</td> <td>   38.364</td> <td> 0.000</td> <td>    1.175</td> <td>    1.302</td>\n",
       "</tr>\n",
       "</table>\n",
       "<table class=\"simpletable\">\n",
       "<tr>\n",
       "  <th>Ljung-Box (L1) (Q):</th>     <td>0.02</td> <th>  Jarque-Bera (JB):  </th> <td>9361.96</td>\n",
       "</tr>\n",
       "<tr>\n",
       "  <th>Prob(Q):</th>                <td>0.88</td> <th>  Prob(JB):          </th>  <td>0.00</td>  \n",
       "</tr>\n",
       "<tr>\n",
       "  <th>Heteroskedasticity (H):</th> <td>0.86</td> <th>  Skew:              </th>  <td>-0.14</td> \n",
       "</tr>\n",
       "<tr>\n",
       "  <th>Prob(H) (two-sided):</th>    <td>0.00</td> <th>  Kurtosis:          </th>  <td>8.98</td>  \n",
       "</tr>\n",
       "</table><br/><br/>Warnings:<br/>[1] Covariance matrix calculated using the outer product of gradients (complex-step)."
      ],
      "text/plain": [
       "<class 'statsmodels.iolib.summary.Summary'>\n",
       "\"\"\"\n",
       "                               SARIMAX Results                                \n",
       "==============================================================================\n",
       "Dep. Variable:                returns   No. Observations:                 6276\n",
       "Model:                 ARIMA(3, 1, 1)   Log Likelihood               -9579.428\n",
       "Date:                Thu, 18 Aug 2022   AIC                          19168.855\n",
       "Time:                        11:26:17   BIC                          19202.577\n",
       "Sample:                    01-10-1994   HQIC                         19180.539\n",
       "                         - 01-29-2018                                         \n",
       "Covariance Type:                  opg                                         \n",
       "==============================================================================\n",
       "                 coef    std err          z      P>|z|      [0.025      0.975]\n",
       "------------------------------------------------------------------------------\n",
       "ar.L1         -0.0216      0.008     -2.768      0.006      -0.037      -0.006\n",
       "ar.L2         -0.0497      0.007     -7.163      0.000      -0.063      -0.036\n",
       "ar.L3         -0.0674      0.007     -9.324      0.000      -0.082      -0.053\n",
       "ma.L1         -1.0000      0.025    -39.398      0.000      -1.050      -0.950\n",
       "sigma2         1.2385      0.032     38.364      0.000       1.175       1.302\n",
       "===================================================================================\n",
       "Ljung-Box (L1) (Q):                   0.02   Jarque-Bera (JB):              9361.96\n",
       "Prob(Q):                              0.88   Prob(JB):                         0.00\n",
       "Heteroskedasticity (H):               0.86   Skew:                            -0.14\n",
       "Prob(H) (two-sided):                  0.00   Kurtosis:                         8.98\n",
       "===================================================================================\n",
       "\n",
       "Warnings:\n",
       "[1] Covariance matrix calculated using the outer product of gradients (complex-step).\n",
       "\"\"\""
      ]
     },
     "execution_count": 29,
     "metadata": {},
     "output_type": "execute_result"
    }
   ],
   "source": [
    "ar_ret_model_3 = ARIMA(df.returns, order=(3,1,1))\n",
    "ar_ret_result_3 = ar_ret_model_3.fit()\n",
    "ar_ret_result_3.summary()"
   ]
  },
  {
   "cell_type": "code",
   "execution_count": 30,
   "metadata": {},
   "outputs": [
    {
     "data": {
      "text/html": [
       "<table class=\"simpletable\">\n",
       "<caption>SARIMAX Results</caption>\n",
       "<tr>\n",
       "  <th>Dep. Variable:</th>        <td>returns</td>     <th>  No. Observations:  </th>   <td>6276</td>   \n",
       "</tr>\n",
       "<tr>\n",
       "  <th>Model:</th>            <td>ARIMA(4, 1, 1)</td>  <th>  Log Likelihood     </th> <td>-9576.462</td>\n",
       "</tr>\n",
       "<tr>\n",
       "  <th>Date:</th>            <td>Thu, 18 Aug 2022</td> <th>  AIC                </th> <td>19164.925</td>\n",
       "</tr>\n",
       "<tr>\n",
       "  <th>Time:</th>                <td>11:26:22</td>     <th>  BIC                </th> <td>19205.391</td>\n",
       "</tr>\n",
       "<tr>\n",
       "  <th>Sample:</th>             <td>01-10-1994</td>    <th>  HQIC               </th> <td>19178.946</td>\n",
       "</tr>\n",
       "<tr>\n",
       "  <th></th>                   <td>- 01-29-2018</td>   <th>                     </th>     <td> </td>    \n",
       "</tr>\n",
       "<tr>\n",
       "  <th>Covariance Type:</th>        <td>opg</td>       <th>                     </th>     <td> </td>    \n",
       "</tr>\n",
       "</table>\n",
       "<table class=\"simpletable\">\n",
       "<tr>\n",
       "     <td></td>       <th>coef</th>     <th>std err</th>      <th>z</th>      <th>P>|z|</th>  <th>[0.025</th>    <th>0.975]</th>  \n",
       "</tr>\n",
       "<tr>\n",
       "  <th>ar.L1</th>  <td>   -0.0196</td> <td>    0.008</td> <td>   -2.503</td> <td> 0.012</td> <td>   -0.035</td> <td>   -0.004</td>\n",
       "</tr>\n",
       "<tr>\n",
       "  <th>ar.L2</th>  <td>   -0.0481</td> <td>    0.007</td> <td>   -6.898</td> <td> 0.000</td> <td>   -0.062</td> <td>   -0.034</td>\n",
       "</tr>\n",
       "<tr>\n",
       "  <th>ar.L3</th>  <td>   -0.0667</td> <td>    0.007</td> <td>   -9.190</td> <td> 0.000</td> <td>   -0.081</td> <td>   -0.052</td>\n",
       "</tr>\n",
       "<tr>\n",
       "  <th>ar.L4</th>  <td>    0.0308</td> <td>    0.007</td> <td>    4.245</td> <td> 0.000</td> <td>    0.017</td> <td>    0.045</td>\n",
       "</tr>\n",
       "<tr>\n",
       "  <th>ma.L1</th>  <td>   -1.0000</td> <td>    0.013</td> <td>  -75.921</td> <td> 0.000</td> <td>   -1.026</td> <td>   -0.974</td>\n",
       "</tr>\n",
       "<tr>\n",
       "  <th>sigma2</th> <td>    1.2373</td> <td>    0.019</td> <td>   64.406</td> <td> 0.000</td> <td>    1.200</td> <td>    1.275</td>\n",
       "</tr>\n",
       "</table>\n",
       "<table class=\"simpletable\">\n",
       "<tr>\n",
       "  <th>Ljung-Box (L1) (Q):</th>     <td>0.02</td> <th>  Jarque-Bera (JB):  </th> <td>9090.90</td>\n",
       "</tr>\n",
       "<tr>\n",
       "  <th>Prob(Q):</th>                <td>0.89</td> <th>  Prob(JB):          </th>  <td>0.00</td>  \n",
       "</tr>\n",
       "<tr>\n",
       "  <th>Heteroskedasticity (H):</th> <td>0.86</td> <th>  Skew:              </th>  <td>-0.12</td> \n",
       "</tr>\n",
       "<tr>\n",
       "  <th>Prob(H) (two-sided):</th>    <td>0.00</td> <th>  Kurtosis:          </th>  <td>8.89</td>  \n",
       "</tr>\n",
       "</table><br/><br/>Warnings:<br/>[1] Covariance matrix calculated using the outer product of gradients (complex-step)."
      ],
      "text/plain": [
       "<class 'statsmodels.iolib.summary.Summary'>\n",
       "\"\"\"\n",
       "                               SARIMAX Results                                \n",
       "==============================================================================\n",
       "Dep. Variable:                returns   No. Observations:                 6276\n",
       "Model:                 ARIMA(4, 1, 1)   Log Likelihood               -9576.462\n",
       "Date:                Thu, 18 Aug 2022   AIC                          19164.925\n",
       "Time:                        11:26:22   BIC                          19205.391\n",
       "Sample:                    01-10-1994   HQIC                         19178.946\n",
       "                         - 01-29-2018                                         \n",
       "Covariance Type:                  opg                                         \n",
       "==============================================================================\n",
       "                 coef    std err          z      P>|z|      [0.025      0.975]\n",
       "------------------------------------------------------------------------------\n",
       "ar.L1         -0.0196      0.008     -2.503      0.012      -0.035      -0.004\n",
       "ar.L2         -0.0481      0.007     -6.898      0.000      -0.062      -0.034\n",
       "ar.L3         -0.0667      0.007     -9.190      0.000      -0.081      -0.052\n",
       "ar.L4          0.0308      0.007      4.245      0.000       0.017       0.045\n",
       "ma.L1         -1.0000      0.013    -75.921      0.000      -1.026      -0.974\n",
       "sigma2         1.2373      0.019     64.406      0.000       1.200       1.275\n",
       "===================================================================================\n",
       "Ljung-Box (L1) (Q):                   0.02   Jarque-Bera (JB):              9090.90\n",
       "Prob(Q):                              0.89   Prob(JB):                         0.00\n",
       "Heteroskedasticity (H):               0.86   Skew:                            -0.12\n",
       "Prob(H) (two-sided):                  0.00   Kurtosis:                         8.89\n",
       "===================================================================================\n",
       "\n",
       "Warnings:\n",
       "[1] Covariance matrix calculated using the outer product of gradients (complex-step).\n",
       "\"\"\""
      ]
     },
     "execution_count": 30,
     "metadata": {},
     "output_type": "execute_result"
    }
   ],
   "source": [
    "ar_ret_model_4 = ARIMA(df.returns, order=(4,1,1))\n",
    "ar_ret_result_4 = ar_ret_model_4.fit()\n",
    "ar_ret_result_4.summary()"
   ]
  },
  {
   "cell_type": "code",
   "execution_count": 31,
   "metadata": {},
   "outputs": [
    {
     "data": {
      "text/plain": [
       "0.0"
      ]
     },
     "execution_count": 31,
     "metadata": {},
     "output_type": "execute_result"
    }
   ],
   "source": [
    "llr_test(ar_ret_model, ar_ret_model_2)"
   ]
  },
  {
   "cell_type": "code",
   "execution_count": 32,
   "metadata": {},
   "outputs": [
    {
     "data": {
      "text/plain": [
       "0.0"
      ]
     },
     "execution_count": 32,
     "metadata": {},
     "output_type": "execute_result"
    }
   ],
   "source": [
    "llr_test(ar_ret_model_2, ar_ret_model_3)"
   ]
  },
  {
   "cell_type": "markdown",
   "metadata": {},
   "source": [
    "Here, Looking at the Log-likelihood, information criteria like AIC, BIC, and HQIC. It is better to have more lag values. But lets do one more test."
   ]
  },
  {
   "cell_type": "code",
   "execution_count": 33,
   "metadata": {},
   "outputs": [
    {
     "data": {
      "text/html": [
       "<table class=\"simpletable\">\n",
       "<caption>SARIMAX Results</caption>\n",
       "<tr>\n",
       "  <th>Dep. Variable:</th>        <td>returns</td>     <th>  No. Observations:  </th>   <td>6276</td>   \n",
       "</tr>\n",
       "<tr>\n",
       "  <th>Model:</th>            <td>ARIMA(6, 1, 1)</td>  <th>  Log Likelihood     </th> <td>-9562.004</td>\n",
       "</tr>\n",
       "<tr>\n",
       "  <th>Date:</th>            <td>Thu, 18 Aug 2022</td> <th>  AIC                </th> <td>19140.008</td>\n",
       "</tr>\n",
       "<tr>\n",
       "  <th>Time:</th>                <td>11:26:45</td>     <th>  BIC                </th> <td>19193.962</td>\n",
       "</tr>\n",
       "<tr>\n",
       "  <th>Sample:</th>             <td>01-10-1994</td>    <th>  HQIC               </th> <td>19158.702</td>\n",
       "</tr>\n",
       "<tr>\n",
       "  <th></th>                   <td>- 01-29-2018</td>   <th>                     </th>     <td> </td>    \n",
       "</tr>\n",
       "<tr>\n",
       "  <th>Covariance Type:</th>        <td>opg</td>       <th>                     </th>     <td> </td>    \n",
       "</tr>\n",
       "</table>\n",
       "<table class=\"simpletable\">\n",
       "<tr>\n",
       "     <td></td>       <th>coef</th>     <th>std err</th>      <th>z</th>      <th>P>|z|</th>  <th>[0.025</th>    <th>0.975]</th>  \n",
       "</tr>\n",
       "<tr>\n",
       "  <th>ar.L1</th>  <td>   -0.0198</td> <td>    0.008</td> <td>   -2.426</td> <td> 0.015</td> <td>   -0.036</td> <td>   -0.004</td>\n",
       "</tr>\n",
       "<tr>\n",
       "  <th>ar.L2</th>  <td>   -0.0509</td> <td>    0.007</td> <td>   -7.155</td> <td> 0.000</td> <td>   -0.065</td> <td>   -0.037</td>\n",
       "</tr>\n",
       "<tr>\n",
       "  <th>ar.L3</th>  <td>   -0.0721</td> <td>    0.007</td> <td>   -9.950</td> <td> 0.000</td> <td>   -0.086</td> <td>   -0.058</td>\n",
       "</tr>\n",
       "<tr>\n",
       "  <th>ar.L4</th>  <td>    0.0278</td> <td>    0.007</td> <td>    3.800</td> <td> 0.000</td> <td>    0.013</td> <td>    0.042</td>\n",
       "</tr>\n",
       "<tr>\n",
       "  <th>ar.L5</th>  <td>   -0.0582</td> <td>    0.007</td> <td>   -8.128</td> <td> 0.000</td> <td>   -0.072</td> <td>   -0.044</td>\n",
       "</tr>\n",
       "<tr>\n",
       "  <th>ar.L6</th>  <td>   -0.0359</td> <td>    0.008</td> <td>   -4.550</td> <td> 0.000</td> <td>   -0.051</td> <td>   -0.020</td>\n",
       "</tr>\n",
       "<tr>\n",
       "  <th>ma.L1</th>  <td>   -1.0000</td> <td>    0.019</td> <td>  -52.208</td> <td> 0.000</td> <td>   -1.038</td> <td>   -0.962</td>\n",
       "</tr>\n",
       "<tr>\n",
       "  <th>sigma2</th> <td>    1.2316</td> <td>    0.025</td> <td>   49.127</td> <td> 0.000</td> <td>    1.182</td> <td>    1.281</td>\n",
       "</tr>\n",
       "</table>\n",
       "<table class=\"simpletable\">\n",
       "<tr>\n",
       "  <th>Ljung-Box (L1) (Q):</th>     <td>0.00</td> <th>  Jarque-Bera (JB):  </th> <td>8883.69</td>\n",
       "</tr>\n",
       "<tr>\n",
       "  <th>Prob(Q):</th>                <td>0.99</td> <th>  Prob(JB):          </th>  <td>0.00</td>  \n",
       "</tr>\n",
       "<tr>\n",
       "  <th>Heteroskedasticity (H):</th> <td>0.86</td> <th>  Skew:              </th>  <td>-0.19</td> \n",
       "</tr>\n",
       "<tr>\n",
       "  <th>Prob(H) (two-sided):</th>    <td>0.00</td> <th>  Kurtosis:          </th>  <td>8.82</td>  \n",
       "</tr>\n",
       "</table><br/><br/>Warnings:<br/>[1] Covariance matrix calculated using the outer product of gradients (complex-step)."
      ],
      "text/plain": [
       "<class 'statsmodels.iolib.summary.Summary'>\n",
       "\"\"\"\n",
       "                               SARIMAX Results                                \n",
       "==============================================================================\n",
       "Dep. Variable:                returns   No. Observations:                 6276\n",
       "Model:                 ARIMA(6, 1, 1)   Log Likelihood               -9562.004\n",
       "Date:                Thu, 18 Aug 2022   AIC                          19140.008\n",
       "Time:                        11:26:45   BIC                          19193.962\n",
       "Sample:                    01-10-1994   HQIC                         19158.702\n",
       "                         - 01-29-2018                                         \n",
       "Covariance Type:                  opg                                         \n",
       "==============================================================================\n",
       "                 coef    std err          z      P>|z|      [0.025      0.975]\n",
       "------------------------------------------------------------------------------\n",
       "ar.L1         -0.0198      0.008     -2.426      0.015      -0.036      -0.004\n",
       "ar.L2         -0.0509      0.007     -7.155      0.000      -0.065      -0.037\n",
       "ar.L3         -0.0721      0.007     -9.950      0.000      -0.086      -0.058\n",
       "ar.L4          0.0278      0.007      3.800      0.000       0.013       0.042\n",
       "ar.L5         -0.0582      0.007     -8.128      0.000      -0.072      -0.044\n",
       "ar.L6         -0.0359      0.008     -4.550      0.000      -0.051      -0.020\n",
       "ma.L1         -1.0000      0.019    -52.208      0.000      -1.038      -0.962\n",
       "sigma2         1.2316      0.025     49.127      0.000       1.182       1.281\n",
       "===================================================================================\n",
       "Ljung-Box (L1) (Q):                   0.00   Jarque-Bera (JB):              8883.69\n",
       "Prob(Q):                              0.99   Prob(JB):                         0.00\n",
       "Heteroskedasticity (H):               0.86   Skew:                            -0.19\n",
       "Prob(H) (two-sided):                  0.00   Kurtosis:                         8.82\n",
       "===================================================================================\n",
       "\n",
       "Warnings:\n",
       "[1] Covariance matrix calculated using the outer product of gradients (complex-step).\n",
       "\"\"\""
      ]
     },
     "execution_count": 33,
     "metadata": {},
     "output_type": "execute_result"
    }
   ],
   "source": [
    "ar_ret_model_6 = ARIMA(df.returns, order=(6,1,1))\n",
    "ar_ret_result_6 = ar_ret_model_6.fit()\n",
    "ar_ret_result_6.summary()"
   ]
  },
  {
   "cell_type": "code",
   "execution_count": 34,
   "metadata": {},
   "outputs": [
    {
     "data": {
      "text/html": [
       "<table class=\"simpletable\">\n",
       "<caption>SARIMAX Results</caption>\n",
       "<tr>\n",
       "  <th>Dep. Variable:</th>        <td>returns</td>     <th>  No. Observations:  </th>   <td>6276</td>   \n",
       "</tr>\n",
       "<tr>\n",
       "  <th>Model:</th>            <td>ARIMA(7, 1, 1)</td>  <th>  Log Likelihood     </th> <td>-9561.812</td>\n",
       "</tr>\n",
       "<tr>\n",
       "  <th>Date:</th>            <td>Thu, 18 Aug 2022</td> <th>  AIC                </th> <td>19141.625</td>\n",
       "</tr>\n",
       "<tr>\n",
       "  <th>Time:</th>                <td>11:26:56</td>     <th>  BIC                </th> <td>19202.324</td>\n",
       "</tr>\n",
       "<tr>\n",
       "  <th>Sample:</th>             <td>01-10-1994</td>    <th>  HQIC               </th> <td>19162.656</td>\n",
       "</tr>\n",
       "<tr>\n",
       "  <th></th>                   <td>- 01-29-2018</td>   <th>                     </th>     <td> </td>    \n",
       "</tr>\n",
       "<tr>\n",
       "  <th>Covariance Type:</th>        <td>opg</td>       <th>                     </th>     <td> </td>    \n",
       "</tr>\n",
       "</table>\n",
       "<table class=\"simpletable\">\n",
       "<tr>\n",
       "     <td></td>       <th>coef</th>     <th>std err</th>      <th>z</th>      <th>P>|z|</th>  <th>[0.025</th>    <th>0.975]</th>  \n",
       "</tr>\n",
       "<tr>\n",
       "  <th>ar.L1</th>  <td>   -0.0195</td> <td>    0.008</td> <td>   -2.392</td> <td> 0.017</td> <td>   -0.036</td> <td>   -0.004</td>\n",
       "</tr>\n",
       "<tr>\n",
       "  <th>ar.L2</th>  <td>   -0.0504</td> <td>    0.007</td> <td>   -7.034</td> <td> 0.000</td> <td>   -0.064</td> <td>   -0.036</td>\n",
       "</tr>\n",
       "<tr>\n",
       "  <th>ar.L3</th>  <td>   -0.0722</td> <td>    0.007</td> <td>   -9.878</td> <td> 0.000</td> <td>   -0.087</td> <td>   -0.058</td>\n",
       "</tr>\n",
       "<tr>\n",
       "  <th>ar.L4</th>  <td>    0.0283</td> <td>    0.007</td> <td>    3.827</td> <td> 0.000</td> <td>    0.014</td> <td>    0.043</td>\n",
       "</tr>\n",
       "<tr>\n",
       "  <th>ar.L5</th>  <td>   -0.0578</td> <td>    0.007</td> <td>   -8.028</td> <td> 0.000</td> <td>   -0.072</td> <td>   -0.044</td>\n",
       "</tr>\n",
       "<tr>\n",
       "  <th>ar.L6</th>  <td>   -0.0357</td> <td>    0.008</td> <td>   -4.518</td> <td> 0.000</td> <td>   -0.051</td> <td>   -0.020</td>\n",
       "</tr>\n",
       "<tr>\n",
       "  <th>ar.L7</th>  <td>    0.0078</td> <td>    0.008</td> <td>    0.977</td> <td> 0.328</td> <td>   -0.008</td> <td>    0.023</td>\n",
       "</tr>\n",
       "<tr>\n",
       "  <th>ma.L1</th>  <td>   -1.0000</td> <td>    0.022</td> <td>  -44.622</td> <td> 0.000</td> <td>   -1.044</td> <td>   -0.956</td>\n",
       "</tr>\n",
       "<tr>\n",
       "  <th>sigma2</th> <td>    1.2315</td> <td>    0.029</td> <td>   42.630</td> <td> 0.000</td> <td>    1.175</td> <td>    1.288</td>\n",
       "</tr>\n",
       "</table>\n",
       "<table class=\"simpletable\">\n",
       "<tr>\n",
       "  <th>Ljung-Box (L1) (Q):</th>     <td>0.00</td> <th>  Jarque-Bera (JB):  </th> <td>8851.52</td>\n",
       "</tr>\n",
       "<tr>\n",
       "  <th>Prob(Q):</th>                <td>0.98</td> <th>  Prob(JB):          </th>  <td>0.00</td>  \n",
       "</tr>\n",
       "<tr>\n",
       "  <th>Heteroskedasticity (H):</th> <td>0.86</td> <th>  Skew:              </th>  <td>-0.18</td> \n",
       "</tr>\n",
       "<tr>\n",
       "  <th>Prob(H) (two-sided):</th>    <td>0.00</td> <th>  Kurtosis:          </th>  <td>8.81</td>  \n",
       "</tr>\n",
       "</table><br/><br/>Warnings:<br/>[1] Covariance matrix calculated using the outer product of gradients (complex-step)."
      ],
      "text/plain": [
       "<class 'statsmodels.iolib.summary.Summary'>\n",
       "\"\"\"\n",
       "                               SARIMAX Results                                \n",
       "==============================================================================\n",
       "Dep. Variable:                returns   No. Observations:                 6276\n",
       "Model:                 ARIMA(7, 1, 1)   Log Likelihood               -9561.812\n",
       "Date:                Thu, 18 Aug 2022   AIC                          19141.625\n",
       "Time:                        11:26:56   BIC                          19202.324\n",
       "Sample:                    01-10-1994   HQIC                         19162.656\n",
       "                         - 01-29-2018                                         \n",
       "Covariance Type:                  opg                                         \n",
       "==============================================================================\n",
       "                 coef    std err          z      P>|z|      [0.025      0.975]\n",
       "------------------------------------------------------------------------------\n",
       "ar.L1         -0.0195      0.008     -2.392      0.017      -0.036      -0.004\n",
       "ar.L2         -0.0504      0.007     -7.034      0.000      -0.064      -0.036\n",
       "ar.L3         -0.0722      0.007     -9.878      0.000      -0.087      -0.058\n",
       "ar.L4          0.0283      0.007      3.827      0.000       0.014       0.043\n",
       "ar.L5         -0.0578      0.007     -8.028      0.000      -0.072      -0.044\n",
       "ar.L6         -0.0357      0.008     -4.518      0.000      -0.051      -0.020\n",
       "ar.L7          0.0078      0.008      0.977      0.328      -0.008       0.023\n",
       "ma.L1         -1.0000      0.022    -44.622      0.000      -1.044      -0.956\n",
       "sigma2         1.2315      0.029     42.630      0.000       1.175       1.288\n",
       "===================================================================================\n",
       "Ljung-Box (L1) (Q):                   0.00   Jarque-Bera (JB):              8851.52\n",
       "Prob(Q):                              0.98   Prob(JB):                         0.00\n",
       "Heteroskedasticity (H):               0.86   Skew:                            -0.18\n",
       "Prob(H) (two-sided):                  0.00   Kurtosis:                         8.81\n",
       "===================================================================================\n",
       "\n",
       "Warnings:\n",
       "[1] Covariance matrix calculated using the outer product of gradients (complex-step).\n",
       "\"\"\""
      ]
     },
     "execution_count": 34,
     "metadata": {},
     "output_type": "execute_result"
    }
   ],
   "source": [
    "ar_ret_model_7 = ARIMA(df.returns, order=(7,1,1))\n",
    "ar_ret_result_7 = ar_ret_model_7.fit()\n",
    "ar_ret_result_7.summary()"
   ]
  },
  {
   "cell_type": "code",
   "execution_count": 35,
   "metadata": {},
   "outputs": [
    {
     "data": {
      "text/plain": [
       "0.536"
      ]
     },
     "execution_count": 35,
     "metadata": {},
     "output_type": "execute_result"
    }
   ],
   "source": [
    "llr_test(ar_ret_model_6, ar_ret_model_7)"
   ]
  },
  {
   "cell_type": "markdown",
   "metadata": {},
   "source": [
    "Looking at the LLR (log-Likelihood ratio test), we can say the best leg value is 6 for this model."
   ]
  },
  {
   "cell_type": "markdown",
   "metadata": {},
   "source": [
    "## Normalization\n",
    "\n",
    "In Machine Learning, Normalzing is rescaling of data from the original range so that all vlaues are witin the range of 0 to 1. Here in times-eries, we map every value of smaple space to the precentage of the first value of set.\n"
   ]
  },
  {
   "cell_type": "code",
   "execution_count": 36,
   "metadata": {},
   "outputs": [],
   "source": [
    "benchmark = df.market_value.iloc[0]"
   ]
  },
  {
   "cell_type": "code",
   "execution_count": 37,
   "metadata": {},
   "outputs": [
    {
     "data": {
      "text/plain": [
       "date\n",
       "1994-01-10    100.000000\n",
       "1994-01-11     99.220771\n",
       "1994-01-12     98.007313\n",
       "1994-01-13     97.658244\n",
       "1994-01-14     98.836824\n",
       "Freq: B, Name: norm, dtype: float64"
      ]
     },
     "execution_count": 37,
     "metadata": {},
     "output_type": "execute_result"
    }
   ],
   "source": [
    "df['norm'] = df.market_value.div(benchmark).mul(100)\n",
    "df.norm[:5]"
   ]
  },
  {
   "cell_type": "markdown",
   "metadata": {},
   "source": [
    "Hence, AR models work best with Stationary data. Lets exmine that"
   ]
  },
  {
   "cell_type": "code",
   "execution_count": 38,
   "metadata": {},
   "outputs": [
    {
     "data": {
      "text/plain": [
       "(-1.5870996932040797,\n",
       " 0.4900704664018066,\n",
       " 6,\n",
       " 6269,\n",
       " {'1%': -3.4313935443677157,\n",
       "  '5%': -2.8620011543157835,\n",
       "  '10%': -2.5670154694652805},\n",
       " 24302.76353860927)"
      ]
     },
     "execution_count": 38,
     "metadata": {},
     "output_type": "execute_result"
    }
   ],
   "source": [
    "sts.adfuller(df.norm)"
   ]
  },
  {
   "cell_type": "markdown",
   "metadata": {},
   "source": [
    "Looking at the AD fuller test reuslt. The normalized data is not stationary, hence AR model is not apprrpriate."
   ]
  },
  {
   "cell_type": "markdown",
   "metadata": {},
   "source": [
    "**Lets normalize the returns** \n",
    "\n",
    "Suppose historically, the S&P provides significantly higher returns, the Nikkei, for instance, Nikkei yields a steady two percent increase over a given period, while the S&P returns an average three percent in the same time span. Then it returns for both are around the three percent mark for the period we are observing, Nikkei is significantly outperforming its expectations. So to avoid any biased comparison when analyzing the two sets, we often rely on normalized returns. They account for the absolute profitability of the investment in contrast to prices. Plus, they allow us to compare the relative profitability as opposed to non normalized returns. Overall, they are much more reliable measurements than the other two."
   ]
  },
  {
   "cell_type": "code",
   "execution_count": 39,
   "metadata": {},
   "outputs": [],
   "source": [
    "return_benchmark = df.returns.iloc[0]\n",
    "df['returns_norm'] = df.returns.div(return_benchmark).mul(100)"
   ]
  },
  {
   "cell_type": "code",
   "execution_count": 40,
   "metadata": {},
   "outputs": [
    {
     "data": {
      "text/html": [
       "<div>\n",
       "<style scoped>\n",
       "    .dataframe tbody tr th:only-of-type {\n",
       "        vertical-align: middle;\n",
       "    }\n",
       "\n",
       "    .dataframe tbody tr th {\n",
       "        vertical-align: top;\n",
       "    }\n",
       "\n",
       "    .dataframe thead th {\n",
       "        text-align: right;\n",
       "    }\n",
       "</style>\n",
       "<table border=\"1\" class=\"dataframe\">\n",
       "  <thead>\n",
       "    <tr style=\"text-align: right;\">\n",
       "      <th></th>\n",
       "      <th>market_value</th>\n",
       "      <th>returns</th>\n",
       "      <th>norm</th>\n",
       "      <th>returns_norm</th>\n",
       "    </tr>\n",
       "    <tr>\n",
       "      <th>date</th>\n",
       "      <th></th>\n",
       "      <th></th>\n",
       "      <th></th>\n",
       "      <th></th>\n",
       "    </tr>\n",
       "  </thead>\n",
       "  <tbody>\n",
       "    <tr>\n",
       "      <th>1994-01-10</th>\n",
       "      <td>3440.58</td>\n",
       "      <td>-0.156704</td>\n",
       "      <td>100.000000</td>\n",
       "      <td>100.000000</td>\n",
       "    </tr>\n",
       "    <tr>\n",
       "      <th>1994-01-11</th>\n",
       "      <td>3413.77</td>\n",
       "      <td>-0.779229</td>\n",
       "      <td>99.220771</td>\n",
       "      <td>497.260711</td>\n",
       "    </tr>\n",
       "    <tr>\n",
       "      <th>1994-01-12</th>\n",
       "      <td>3372.02</td>\n",
       "      <td>-1.222988</td>\n",
       "      <td>98.007313</td>\n",
       "      <td>780.443046</td>\n",
       "    </tr>\n",
       "    <tr>\n",
       "      <th>1994-01-13</th>\n",
       "      <td>3360.01</td>\n",
       "      <td>-0.356166</td>\n",
       "      <td>97.658244</td>\n",
       "      <td>227.285567</td>\n",
       "    </tr>\n",
       "    <tr>\n",
       "      <th>1994-01-14</th>\n",
       "      <td>3400.56</td>\n",
       "      <td>1.206842</td>\n",
       "      <td>98.836824</td>\n",
       "      <td>-770.139292</td>\n",
       "    </tr>\n",
       "  </tbody>\n",
       "</table>\n",
       "</div>"
      ],
      "text/plain": [
       "            market_value   returns        norm  returns_norm\n",
       "date                                                        \n",
       "1994-01-10       3440.58 -0.156704  100.000000    100.000000\n",
       "1994-01-11       3413.77 -0.779229   99.220771    497.260711\n",
       "1994-01-12       3372.02 -1.222988   98.007313    780.443046\n",
       "1994-01-13       3360.01 -0.356166   97.658244    227.285567\n",
       "1994-01-14       3400.56  1.206842   98.836824   -770.139292"
      ]
     },
     "execution_count": 40,
     "metadata": {},
     "output_type": "execute_result"
    }
   ],
   "source": [
    "df.iloc[:5]"
   ]
  },
  {
   "cell_type": "code",
   "execution_count": 41,
   "metadata": {},
   "outputs": [
    {
     "data": {
      "text/plain": [
       "(-15.140761332034806,\n",
       " 7.016338451094053e-28,\n",
       " 34,\n",
       " 6241,\n",
       " {'1%': -3.431398228116075,\n",
       "  '5%': -2.8620032237533897,\n",
       "  '10%': -2.5670165710764503},\n",
       " 99642.30855107102)"
      ]
     },
     "execution_count": 41,
     "metadata": {},
     "output_type": "execute_result"
    }
   ],
   "source": [
    "sts.adfuller(df.returns_norm)"
   ]
  },
  {
   "cell_type": "markdown",
   "metadata": {},
   "source": [
    "Now, we have stationary data, and can conclude that normalizing the data does not effect the  stationarity of the data.\n",
    "\n",
    "**Fitting the normalized returns to AR Models**"
   ]
  },
  {
   "cell_type": "code",
   "execution_count": 42,
   "metadata": {},
   "outputs": [
    {
     "data": {
      "text/html": [
       "<table class=\"simpletable\">\n",
       "<caption>SARIMAX Results</caption>\n",
       "<tr>\n",
       "  <th>Dep. Variable:</th>     <td>returns_norm</td>   <th>  No. Observations:  </th>    <td>6276</td>   \n",
       "</tr>\n",
       "<tr>\n",
       "  <th>Model:</th>            <td>ARIMA(1, 1, 1)</td>  <th>  Log Likelihood     </th> <td>-50128.407</td>\n",
       "</tr>\n",
       "<tr>\n",
       "  <th>Date:</th>            <td>Thu, 18 Aug 2022</td> <th>  AIC                </th> <td>100262.813</td>\n",
       "</tr>\n",
       "<tr>\n",
       "  <th>Time:</th>                <td>11:27:18</td>     <th>  BIC                </th> <td>100283.046</td>\n",
       "</tr>\n",
       "<tr>\n",
       "  <th>Sample:</th>             <td>01-10-1994</td>    <th>  HQIC               </th> <td>100269.823</td>\n",
       "</tr>\n",
       "<tr>\n",
       "  <th></th>                   <td>- 01-29-2018</td>   <th>                     </th>      <td> </td>    \n",
       "</tr>\n",
       "<tr>\n",
       "  <th>Covariance Type:</th>        <td>opg</td>       <th>                     </th>      <td> </td>    \n",
       "</tr>\n",
       "</table>\n",
       "<table class=\"simpletable\">\n",
       "<tr>\n",
       "     <td></td>       <th>coef</th>     <th>std err</th>      <th>z</th>      <th>P>|z|</th>  <th>[0.025</th>    <th>0.975]</th>  \n",
       "</tr>\n",
       "<tr>\n",
       "  <th>ar.L1</th>  <td>   -0.0175</td> <td>    0.008</td> <td>   -2.310</td> <td> 0.021</td> <td>   -0.032</td> <td>   -0.003</td>\n",
       "</tr>\n",
       "<tr>\n",
       "  <th>ma.L1</th>  <td>   -1.0000</td> <td>    0.077</td> <td>  -13.017</td> <td> 0.000</td> <td>   -1.151</td> <td>   -0.849</td>\n",
       "</tr>\n",
       "<tr>\n",
       "  <th>sigma2</th> <td> 5.081e+05</td> <td> 3.93e+04</td> <td>   12.920</td> <td> 0.000</td> <td> 4.31e+05</td> <td> 5.85e+05</td>\n",
       "</tr>\n",
       "</table>\n",
       "<table class=\"simpletable\">\n",
       "<tr>\n",
       "  <th>Ljung-Box (L1) (Q):</th>     <td>0.01</td> <th>  Jarque-Bera (JB):  </th> <td>10519.27</td>\n",
       "</tr>\n",
       "<tr>\n",
       "  <th>Prob(Q):</th>                <td>0.94</td> <th>  Prob(JB):          </th>   <td>0.00</td>  \n",
       "</tr>\n",
       "<tr>\n",
       "  <th>Heteroskedasticity (H):</th> <td>0.85</td> <th>  Skew:              </th>   <td>0.04</td>  \n",
       "</tr>\n",
       "<tr>\n",
       "  <th>Prob(H) (two-sided):</th>    <td>0.00</td> <th>  Kurtosis:          </th>   <td>9.34</td>  \n",
       "</tr>\n",
       "</table><br/><br/>Warnings:<br/>[1] Covariance matrix calculated using the outer product of gradients (complex-step)."
      ],
      "text/plain": [
       "<class 'statsmodels.iolib.summary.Summary'>\n",
       "\"\"\"\n",
       "                               SARIMAX Results                                \n",
       "==============================================================================\n",
       "Dep. Variable:           returns_norm   No. Observations:                 6276\n",
       "Model:                 ARIMA(1, 1, 1)   Log Likelihood              -50128.407\n",
       "Date:                Thu, 18 Aug 2022   AIC                         100262.813\n",
       "Time:                        11:27:18   BIC                         100283.046\n",
       "Sample:                    01-10-1994   HQIC                        100269.823\n",
       "                         - 01-29-2018                                         \n",
       "Covariance Type:                  opg                                         \n",
       "==============================================================================\n",
       "                 coef    std err          z      P>|z|      [0.025      0.975]\n",
       "------------------------------------------------------------------------------\n",
       "ar.L1         -0.0175      0.008     -2.310      0.021      -0.032      -0.003\n",
       "ma.L1         -1.0000      0.077    -13.017      0.000      -1.151      -0.849\n",
       "sigma2      5.081e+05   3.93e+04     12.920      0.000    4.31e+05    5.85e+05\n",
       "===================================================================================\n",
       "Ljung-Box (L1) (Q):                   0.01   Jarque-Bera (JB):             10519.27\n",
       "Prob(Q):                              0.94   Prob(JB):                         0.00\n",
       "Heteroskedasticity (H):               0.85   Skew:                             0.04\n",
       "Prob(H) (two-sided):                  0.00   Kurtosis:                         9.34\n",
       "===================================================================================\n",
       "\n",
       "Warnings:\n",
       "[1] Covariance matrix calculated using the outer product of gradients (complex-step).\n",
       "\"\"\""
      ]
     },
     "execution_count": 42,
     "metadata": {},
     "output_type": "execute_result"
    }
   ],
   "source": [
    "ret_norm_model = ARIMA(df.returns_norm, order=(1, 1, 1))\n",
    "ret_nomr_result = ret_norm_model.fit()\n",
    "ret_nomr_result.summary()"
   ]
  },
  {
   "cell_type": "code",
   "execution_count": 43,
   "metadata": {},
   "outputs": [
    {
     "data": {
      "text/html": [
       "<table class=\"simpletable\">\n",
       "<caption>SARIMAX Results</caption>\n",
       "<tr>\n",
       "  <th>Dep. Variable:</th>     <td>returns_norm</td>   <th>  No. Observations:  </th>    <td>6276</td>   \n",
       "</tr>\n",
       "<tr>\n",
       "  <th>Model:</th>            <td>ARIMA(2, 1, 1)</td>  <th>  Log Likelihood     </th> <td>-50121.060</td>\n",
       "</tr>\n",
       "<tr>\n",
       "  <th>Date:</th>            <td>Thu, 18 Aug 2022</td> <th>  AIC                </th> <td>100250.119</td>\n",
       "</tr>\n",
       "<tr>\n",
       "  <th>Time:</th>                <td>11:27:20</td>     <th>  BIC                </th> <td>100277.096</td>\n",
       "</tr>\n",
       "<tr>\n",
       "  <th>Sample:</th>             <td>01-10-1994</td>    <th>  HQIC               </th> <td>100259.466</td>\n",
       "</tr>\n",
       "<tr>\n",
       "  <th></th>                   <td>- 01-29-2018</td>   <th>                     </th>      <td> </td>    \n",
       "</tr>\n",
       "<tr>\n",
       "  <th>Covariance Type:</th>        <td>opg</td>       <th>                     </th>      <td> </td>    \n",
       "</tr>\n",
       "</table>\n",
       "<table class=\"simpletable\">\n",
       "<tr>\n",
       "     <td></td>       <th>coef</th>     <th>std err</th>      <th>z</th>      <th>P>|z|</th>  <th>[0.025</th>    <th>0.975]</th>  \n",
       "</tr>\n",
       "<tr>\n",
       "  <th>ar.L1</th>  <td>   -0.0183</td> <td>    0.008</td> <td>   -2.398</td> <td> 0.016</td> <td>   -0.033</td> <td>   -0.003</td>\n",
       "</tr>\n",
       "<tr>\n",
       "  <th>ar.L2</th>  <td>   -0.0484</td> <td>    0.007</td> <td>   -6.933</td> <td> 0.000</td> <td>   -0.062</td> <td>   -0.035</td>\n",
       "</tr>\n",
       "<tr>\n",
       "  <th>ma.L1</th>  <td>   -1.0000</td> <td>    0.021</td> <td>  -47.949</td> <td> 0.000</td> <td>   -1.041</td> <td>   -0.959</td>\n",
       "</tr>\n",
       "<tr>\n",
       "  <th>sigma2</th> <td> 5.067e+05</td> <td> 1.14e+04</td> <td>   44.286</td> <td> 0.000</td> <td> 4.84e+05</td> <td> 5.29e+05</td>\n",
       "</tr>\n",
       "</table>\n",
       "<table class=\"simpletable\">\n",
       "<tr>\n",
       "  <th>Ljung-Box (L1) (Q):</th>     <td>0.07</td> <th>  Jarque-Bera (JB):  </th> <td>10345.09</td>\n",
       "</tr>\n",
       "<tr>\n",
       "  <th>Prob(Q):</th>                <td>0.79</td> <th>  Prob(JB):          </th>   <td>0.00</td>  \n",
       "</tr>\n",
       "<tr>\n",
       "  <th>Heteroskedasticity (H):</th> <td>0.85</td> <th>  Skew:              </th>   <td>0.07</td>  \n",
       "</tr>\n",
       "<tr>\n",
       "  <th>Prob(H) (two-sided):</th>    <td>0.00</td> <th>  Kurtosis:          </th>   <td>9.29</td>  \n",
       "</tr>\n",
       "</table><br/><br/>Warnings:<br/>[1] Covariance matrix calculated using the outer product of gradients (complex-step)."
      ],
      "text/plain": [
       "<class 'statsmodels.iolib.summary.Summary'>\n",
       "\"\"\"\n",
       "                               SARIMAX Results                                \n",
       "==============================================================================\n",
       "Dep. Variable:           returns_norm   No. Observations:                 6276\n",
       "Model:                 ARIMA(2, 1, 1)   Log Likelihood              -50121.060\n",
       "Date:                Thu, 18 Aug 2022   AIC                         100250.119\n",
       "Time:                        11:27:20   BIC                         100277.096\n",
       "Sample:                    01-10-1994   HQIC                        100259.466\n",
       "                         - 01-29-2018                                         \n",
       "Covariance Type:                  opg                                         \n",
       "==============================================================================\n",
       "                 coef    std err          z      P>|z|      [0.025      0.975]\n",
       "------------------------------------------------------------------------------\n",
       "ar.L1         -0.0183      0.008     -2.398      0.016      -0.033      -0.003\n",
       "ar.L2         -0.0484      0.007     -6.933      0.000      -0.062      -0.035\n",
       "ma.L1         -1.0000      0.021    -47.949      0.000      -1.041      -0.959\n",
       "sigma2      5.067e+05   1.14e+04     44.286      0.000    4.84e+05    5.29e+05\n",
       "===================================================================================\n",
       "Ljung-Box (L1) (Q):                   0.07   Jarque-Bera (JB):             10345.09\n",
       "Prob(Q):                              0.79   Prob(JB):                         0.00\n",
       "Heteroskedasticity (H):               0.85   Skew:                             0.07\n",
       "Prob(H) (two-sided):                  0.00   Kurtosis:                         9.29\n",
       "===================================================================================\n",
       "\n",
       "Warnings:\n",
       "[1] Covariance matrix calculated using the outer product of gradients (complex-step).\n",
       "\"\"\""
      ]
     },
     "execution_count": 43,
     "metadata": {},
     "output_type": "execute_result"
    }
   ],
   "source": [
    "ret_norm_model_2 = ARIMA(df.returns_norm, order=(2, 1, 1))\n",
    "ret_nomr_result_2 = ret_norm_model_2.fit()\n",
    "ret_nomr_result_2.summary()\n"
   ]
  },
  {
   "cell_type": "code",
   "execution_count": 44,
   "metadata": {},
   "outputs": [
    {
     "data": {
      "text/html": [
       "<table class=\"simpletable\">\n",
       "<caption>SARIMAX Results</caption>\n",
       "<tr>\n",
       "  <th>Dep. Variable:</th>     <td>returns_norm</td>   <th>  No. Observations:  </th>    <td>6276</td>   \n",
       "</tr>\n",
       "<tr>\n",
       "  <th>Model:</th>            <td>ARIMA(6, 1, 1)</td>  <th>  Log Likelihood     </th> <td>-50089.343</td>\n",
       "</tr>\n",
       "<tr>\n",
       "  <th>Date:</th>            <td>Thu, 18 Aug 2022</td> <th>  AIC                </th> <td>100194.686</td>\n",
       "</tr>\n",
       "<tr>\n",
       "  <th>Time:</th>                <td>11:27:27</td>     <th>  BIC                </th> <td>100248.641</td>\n",
       "</tr>\n",
       "<tr>\n",
       "  <th>Sample:</th>             <td>01-10-1994</td>    <th>  HQIC               </th> <td>100213.381</td>\n",
       "</tr>\n",
       "<tr>\n",
       "  <th></th>                   <td>- 01-29-2018</td>   <th>                     </th>      <td> </td>    \n",
       "</tr>\n",
       "<tr>\n",
       "  <th>Covariance Type:</th>        <td>opg</td>       <th>                     </th>      <td> </td>    \n",
       "</tr>\n",
       "</table>\n",
       "<table class=\"simpletable\">\n",
       "<tr>\n",
       "     <td></td>       <th>coef</th>     <th>std err</th>      <th>z</th>      <th>P>|z|</th>  <th>[0.025</th>    <th>0.975]</th>  \n",
       "</tr>\n",
       "<tr>\n",
       "  <th>ar.L1</th>  <td>   -0.0199</td> <td>    0.008</td> <td>   -2.487</td> <td> 0.013</td> <td>   -0.035</td> <td>   -0.004</td>\n",
       "</tr>\n",
       "<tr>\n",
       "  <th>ar.L2</th>  <td>   -0.0509</td> <td>    0.007</td> <td>   -7.224</td> <td> 0.000</td> <td>   -0.065</td> <td>   -0.037</td>\n",
       "</tr>\n",
       "<tr>\n",
       "  <th>ar.L3</th>  <td>   -0.0720</td> <td>    0.007</td> <td>  -10.422</td> <td> 0.000</td> <td>   -0.086</td> <td>   -0.058</td>\n",
       "</tr>\n",
       "<tr>\n",
       "  <th>ar.L4</th>  <td>    0.0277</td> <td>    0.007</td> <td>    3.823</td> <td> 0.000</td> <td>    0.014</td> <td>    0.042</td>\n",
       "</tr>\n",
       "<tr>\n",
       "  <th>ar.L5</th>  <td>   -0.0582</td> <td>    0.007</td> <td>   -8.275</td> <td> 0.000</td> <td>   -0.072</td> <td>   -0.044</td>\n",
       "</tr>\n",
       "<tr>\n",
       "  <th>ar.L6</th>  <td>   -0.0359</td> <td>    0.008</td> <td>   -4.608</td> <td> 0.000</td> <td>   -0.051</td> <td>   -0.021</td>\n",
       "</tr>\n",
       "<tr>\n",
       "  <th>ma.L1</th>  <td>   -1.0000</td> <td>    0.009</td> <td> -105.991</td> <td> 0.000</td> <td>   -1.018</td> <td>   -0.982</td>\n",
       "</tr>\n",
       "<tr>\n",
       "  <th>sigma2</th> <td> 5.016e+05</td> <td> 1.88e-08</td> <td> 2.67e+13</td> <td> 0.000</td> <td> 5.02e+05</td> <td> 5.02e+05</td>\n",
       "</tr>\n",
       "</table>\n",
       "<table class=\"simpletable\">\n",
       "<tr>\n",
       "  <th>Ljung-Box (L1) (Q):</th>     <td>0.00</td> <th>  Jarque-Bera (JB):  </th> <td>8883.80</td>\n",
       "</tr>\n",
       "<tr>\n",
       "  <th>Prob(Q):</th>                <td>0.99</td> <th>  Prob(JB):          </th>  <td>0.00</td>  \n",
       "</tr>\n",
       "<tr>\n",
       "  <th>Heteroskedasticity (H):</th> <td>0.86</td> <th>  Skew:              </th>  <td>0.19</td>  \n",
       "</tr>\n",
       "<tr>\n",
       "  <th>Prob(H) (two-sided):</th>    <td>0.00</td> <th>  Kurtosis:          </th>  <td>8.82</td>  \n",
       "</tr>\n",
       "</table><br/><br/>Warnings:<br/>[1] Covariance matrix calculated using the outer product of gradients (complex-step).<br/>[2] Covariance matrix is singular or near-singular, with condition number 3.5e+27. Standard errors may be unstable."
      ],
      "text/plain": [
       "<class 'statsmodels.iolib.summary.Summary'>\n",
       "\"\"\"\n",
       "                               SARIMAX Results                                \n",
       "==============================================================================\n",
       "Dep. Variable:           returns_norm   No. Observations:                 6276\n",
       "Model:                 ARIMA(6, 1, 1)   Log Likelihood              -50089.343\n",
       "Date:                Thu, 18 Aug 2022   AIC                         100194.686\n",
       "Time:                        11:27:27   BIC                         100248.641\n",
       "Sample:                    01-10-1994   HQIC                        100213.381\n",
       "                         - 01-29-2018                                         \n",
       "Covariance Type:                  opg                                         \n",
       "==============================================================================\n",
       "                 coef    std err          z      P>|z|      [0.025      0.975]\n",
       "------------------------------------------------------------------------------\n",
       "ar.L1         -0.0199      0.008     -2.487      0.013      -0.035      -0.004\n",
       "ar.L2         -0.0509      0.007     -7.224      0.000      -0.065      -0.037\n",
       "ar.L3         -0.0720      0.007    -10.422      0.000      -0.086      -0.058\n",
       "ar.L4          0.0277      0.007      3.823      0.000       0.014       0.042\n",
       "ar.L5         -0.0582      0.007     -8.275      0.000      -0.072      -0.044\n",
       "ar.L6         -0.0359      0.008     -4.608      0.000      -0.051      -0.021\n",
       "ma.L1         -1.0000      0.009   -105.991      0.000      -1.018      -0.982\n",
       "sigma2      5.016e+05   1.88e-08   2.67e+13      0.000    5.02e+05    5.02e+05\n",
       "===================================================================================\n",
       "Ljung-Box (L1) (Q):                   0.00   Jarque-Bera (JB):              8883.80\n",
       "Prob(Q):                              0.99   Prob(JB):                         0.00\n",
       "Heteroskedasticity (H):               0.86   Skew:                             0.19\n",
       "Prob(H) (two-sided):                  0.00   Kurtosis:                         8.82\n",
       "===================================================================================\n",
       "\n",
       "Warnings:\n",
       "[1] Covariance matrix calculated using the outer product of gradients (complex-step).\n",
       "[2] Covariance matrix is singular or near-singular, with condition number 3.5e+27. Standard errors may be unstable.\n",
       "\"\"\""
      ]
     },
     "execution_count": 44,
     "metadata": {},
     "output_type": "execute_result"
    }
   ],
   "source": [
    "ret_norm_model_6 = ARIMA(df.returns_norm, order=(6, 1, 1))\n",
    "ret_nomr_result_6 = ret_norm_model_6.fit()\n",
    "ret_nomr_result_6.summary()\n"
   ]
  },
  {
   "cell_type": "code",
   "execution_count": 45,
   "metadata": {},
   "outputs": [
    {
     "data": {
      "text/html": [
       "<table class=\"simpletable\">\n",
       "<caption>SARIMAX Results</caption>\n",
       "<tr>\n",
       "  <th>Dep. Variable:</th>     <td>returns_norm</td>   <th>  No. Observations:  </th>    <td>6276</td>   \n",
       "</tr>\n",
       "<tr>\n",
       "  <th>Model:</th>            <td>ARIMA(7, 1, 1)</td>  <th>  Log Likelihood     </th> <td>-50089.152</td>\n",
       "</tr>\n",
       "<tr>\n",
       "  <th>Date:</th>            <td>Thu, 18 Aug 2022</td> <th>  AIC                </th> <td>100196.304</td>\n",
       "</tr>\n",
       "<tr>\n",
       "  <th>Time:</th>                <td>11:27:38</td>     <th>  BIC                </th> <td>100257.003</td>\n",
       "</tr>\n",
       "<tr>\n",
       "  <th>Sample:</th>             <td>01-10-1994</td>    <th>  HQIC               </th> <td>100217.335</td>\n",
       "</tr>\n",
       "<tr>\n",
       "  <th></th>                   <td>- 01-29-2018</td>   <th>                     </th>      <td> </td>    \n",
       "</tr>\n",
       "<tr>\n",
       "  <th>Covariance Type:</th>        <td>opg</td>       <th>                     </th>      <td> </td>    \n",
       "</tr>\n",
       "</table>\n",
       "<table class=\"simpletable\">\n",
       "<tr>\n",
       "     <td></td>       <th>coef</th>     <th>std err</th>      <th>z</th>      <th>P>|z|</th>  <th>[0.025</th>    <th>0.975]</th>  \n",
       "</tr>\n",
       "<tr>\n",
       "  <th>ar.L1</th>  <td>   -0.0196</td> <td>    0.008</td> <td>   -2.443</td> <td> 0.015</td> <td>   -0.035</td> <td>   -0.004</td>\n",
       "</tr>\n",
       "<tr>\n",
       "  <th>ar.L2</th>  <td>   -0.0504</td> <td>    0.007</td> <td>   -7.116</td> <td> 0.000</td> <td>   -0.064</td> <td>   -0.037</td>\n",
       "</tr>\n",
       "<tr>\n",
       "  <th>ar.L3</th>  <td>   -0.0722</td> <td>    0.007</td> <td>  -10.275</td> <td> 0.000</td> <td>   -0.086</td> <td>   -0.058</td>\n",
       "</tr>\n",
       "<tr>\n",
       "  <th>ar.L4</th>  <td>    0.0283</td> <td>    0.007</td> <td>    3.864</td> <td> 0.000</td> <td>    0.014</td> <td>    0.043</td>\n",
       "</tr>\n",
       "<tr>\n",
       "  <th>ar.L5</th>  <td>   -0.0578</td> <td>    0.007</td> <td>   -8.193</td> <td> 0.000</td> <td>   -0.072</td> <td>   -0.044</td>\n",
       "</tr>\n",
       "<tr>\n",
       "  <th>ar.L6</th>  <td>   -0.0357</td> <td>    0.008</td> <td>   -4.573</td> <td> 0.000</td> <td>   -0.051</td> <td>   -0.020</td>\n",
       "</tr>\n",
       "<tr>\n",
       "  <th>ar.L7</th>  <td>    0.0078</td> <td>    0.008</td> <td>    0.987</td> <td> 0.324</td> <td>   -0.008</td> <td>    0.023</td>\n",
       "</tr>\n",
       "<tr>\n",
       "  <th>ma.L1</th>  <td>   -1.0000</td> <td>    0.010</td> <td> -105.178</td> <td> 0.000</td> <td>   -1.019</td> <td>   -0.981</td>\n",
       "</tr>\n",
       "<tr>\n",
       "  <th>sigma2</th> <td> 5.015e+05</td> <td>  1.9e-08</td> <td> 2.65e+13</td> <td> 0.000</td> <td> 5.02e+05</td> <td> 5.02e+05</td>\n",
       "</tr>\n",
       "</table>\n",
       "<table class=\"simpletable\">\n",
       "<tr>\n",
       "  <th>Ljung-Box (L1) (Q):</th>     <td>0.00</td> <th>  Jarque-Bera (JB):  </th> <td>8851.10</td>\n",
       "</tr>\n",
       "<tr>\n",
       "  <th>Prob(Q):</th>                <td>0.99</td> <th>  Prob(JB):          </th>  <td>0.00</td>  \n",
       "</tr>\n",
       "<tr>\n",
       "  <th>Heteroskedasticity (H):</th> <td>0.86</td> <th>  Skew:              </th>  <td>0.18</td>  \n",
       "</tr>\n",
       "<tr>\n",
       "  <th>Prob(H) (two-sided):</th>    <td>0.00</td> <th>  Kurtosis:          </th>  <td>8.81</td>  \n",
       "</tr>\n",
       "</table><br/><br/>Warnings:<br/>[1] Covariance matrix calculated using the outer product of gradients (complex-step).<br/>[2] Covariance matrix is singular or near-singular, with condition number 5.94e+27. Standard errors may be unstable."
      ],
      "text/plain": [
       "<class 'statsmodels.iolib.summary.Summary'>\n",
       "\"\"\"\n",
       "                               SARIMAX Results                                \n",
       "==============================================================================\n",
       "Dep. Variable:           returns_norm   No. Observations:                 6276\n",
       "Model:                 ARIMA(7, 1, 1)   Log Likelihood              -50089.152\n",
       "Date:                Thu, 18 Aug 2022   AIC                         100196.304\n",
       "Time:                        11:27:38   BIC                         100257.003\n",
       "Sample:                    01-10-1994   HQIC                        100217.335\n",
       "                         - 01-29-2018                                         \n",
       "Covariance Type:                  opg                                         \n",
       "==============================================================================\n",
       "                 coef    std err          z      P>|z|      [0.025      0.975]\n",
       "------------------------------------------------------------------------------\n",
       "ar.L1         -0.0196      0.008     -2.443      0.015      -0.035      -0.004\n",
       "ar.L2         -0.0504      0.007     -7.116      0.000      -0.064      -0.037\n",
       "ar.L3         -0.0722      0.007    -10.275      0.000      -0.086      -0.058\n",
       "ar.L4          0.0283      0.007      3.864      0.000       0.014       0.043\n",
       "ar.L5         -0.0578      0.007     -8.193      0.000      -0.072      -0.044\n",
       "ar.L6         -0.0357      0.008     -4.573      0.000      -0.051      -0.020\n",
       "ar.L7          0.0078      0.008      0.987      0.324      -0.008       0.023\n",
       "ma.L1         -1.0000      0.010   -105.178      0.000      -1.019      -0.981\n",
       "sigma2      5.015e+05    1.9e-08   2.65e+13      0.000    5.02e+05    5.02e+05\n",
       "===================================================================================\n",
       "Ljung-Box (L1) (Q):                   0.00   Jarque-Bera (JB):              8851.10\n",
       "Prob(Q):                              0.99   Prob(JB):                         0.00\n",
       "Heteroskedasticity (H):               0.86   Skew:                             0.18\n",
       "Prob(H) (two-sided):                  0.00   Kurtosis:                         8.81\n",
       "===================================================================================\n",
       "\n",
       "Warnings:\n",
       "[1] Covariance matrix calculated using the outer product of gradients (complex-step).\n",
       "[2] Covariance matrix is singular or near-singular, with condition number 5.94e+27. Standard errors may be unstable.\n",
       "\"\"\""
      ]
     },
     "execution_count": 45,
     "metadata": {},
     "output_type": "execute_result"
    }
   ],
   "source": [
    "ret_norm_model_7 = ARIMA(df.returns_norm, order=(7, 1, 1))\n",
    "ret_nomr_result_7 = ret_norm_model_7.fit()\n",
    "ret_nomr_result_7.summary()\n"
   ]
  },
  {
   "cell_type": "markdown",
   "metadata": {},
   "source": [
    "The results from normalized returns and non-normalized returns are simialr. This means using normalized values have no impact on model selection."
   ]
  },
  {
   "cell_type": "markdown",
   "metadata": {},
   "source": [
    "### Residuals $\\epsilon$"
   ]
  },
  {
   "cell_type": "code",
   "execution_count": 46,
   "metadata": {},
   "outputs": [],
   "source": [
    "# model result are taken from previous price data model\n",
    "df['res_price'] = ar7_results.resid"
   ]
  },
  {
   "cell_type": "code",
   "execution_count": 47,
   "metadata": {},
   "outputs": [
    {
     "data": {
      "text/plain": [
       "date\n",
       "1994-01-10    -7.835295\n",
       "1994-01-11   -29.277332\n",
       "1994-01-12   -44.584900\n",
       "1994-01-13   -16.322248\n",
       "1994-01-14    34.765395\n",
       "                ...    \n",
       "2018-01-23    18.067363\n",
       "2018-01-24   -86.029241\n",
       "2018-01-25   -28.279986\n",
       "2018-01-26    49.193841\n",
       "2018-01-29     2.688059\n",
       "Freq: B, Name: res_price, Length: 6276, dtype: float64"
      ]
     },
     "execution_count": 47,
     "metadata": {},
     "output_type": "execute_result"
    }
   ],
   "source": [
    "df['res_price']\n"
   ]
  },
  {
   "cell_type": "code",
   "execution_count": 48,
   "metadata": {},
   "outputs": [
    {
     "data": {
      "text/plain": [
       "0.7850213811150677"
      ]
     },
     "execution_count": 48,
     "metadata": {},
     "output_type": "execute_result"
    }
   ],
   "source": [
    "df.res_price.mean()"
   ]
  },
  {
   "cell_type": "code",
   "execution_count": 49,
   "metadata": {},
   "outputs": [
    {
     "data": {
      "text/plain": [
       "3381.5113911200733"
      ]
     },
     "execution_count": 49,
     "metadata": {},
     "output_type": "execute_result"
    }
   ],
   "source": [
    "df.res_price.var()"
   ]
  },
  {
   "cell_type": "markdown",
   "metadata": {},
   "source": [
    "The mean is close to zero, which suggests that on average, our model performs well, but the high variance indicates the residuals are not concentrated around the mean of zero, but are all over the place.This is primarily because our models perform poorly when predicting non stationary data.\n",
    "Now, we still need to run the Dickie Fuller test to see if the Time series is stationary, we call the A.D. Fuller method from the START package and use the newly generated time series as an argument. "
   ]
  },
  {
   "cell_type": "code",
   "execution_count": 50,
   "metadata": {},
   "outputs": [
    {
     "data": {
      "text/plain": [
       "(-79.23348443526143,\n",
       " 0.0,\n",
       " 0,\n",
       " 6275,\n",
       " {'1%': -3.431392546147741,\n",
       "  '5%': -2.8620007132681926,\n",
       "  '10%': -2.567015234685164},\n",
       " 68455.05219028583)"
      ]
     },
     "execution_count": 50,
     "metadata": {},
     "output_type": "execute_result"
    }
   ],
   "source": [
    "sts.adfuller(df.res_price)"
   ]
  },
  {
   "cell_type": "markdown",
   "metadata": {},
   "source": [
    "Here, $\\rho$-value is zero, and critical values are greateer than test result. It is a stationary data. \n",
    "\n",
    "Lets plot hte ACF graph."
   ]
  },
  {
   "cell_type": "code",
   "execution_count": 51,
   "metadata": {},
   "outputs": [
    {
     "data": {
      "image/png": "[encoded data removed]",
      "text/plain": [
       "<Figure size 432x288 with 1 Axes>"
      ]
     },
     "metadata": {},
     "output_type": "display_data"
    }
   ],
   "source": [
    "sgt.plot_acf(df.res_price, zero=False, lags=40)\n",
    "plt.title(\"ACF of Residuals for price\")\n",
    "plt.show()"
   ]
  },
  {
   "cell_type": "markdown",
   "metadata": {},
   "source": [
    "After plotting the function, we can see that the majority of coefficients fall within the blue region, as you know, this suggests they're not significantly different from zero, which fits the characteristics of white noise. However, the few points that fall outside this area lead us to believe that there's an even better predictor. we must plot the values of the residuals to see if they resemble what we are used to expecting from white noise data."
   ]
  },
  {
   "cell_type": "code",
   "execution_count": 55,
   "metadata": {},
   "outputs": [
    {
     "data": {
      "image/png": "[encoded data removed]",
      "text/plain": [
       "<Figure size 1440x360 with 1 Axes>"
      ]
     },
     "metadata": {},
     "output_type": "display_data"
    }
   ],
   "source": [
    "df.res_price.plot(figsize=(20,5))\n",
    "plt.title('Residuals of prices', size=18)\n",
    "plt.show()"
   ]
  },
  {
   "cell_type": "markdown",
   "metadata": {},
   "source": [
    "We can not find any obvious pattern for the data, so our choice of model is correct. It's important to note that since we used an AR model on non stationary data, our predictions might\n",
    "still be far from great. Lets examine for residuals of resturns by following the actions.\n",
    "\n",
    "**Analysing the return residuals**"
   ]
  },
  {
   "cell_type": "code",
   "execution_count": 56,
   "metadata": {},
   "outputs": [],
   "source": [
    "df['res_return'] = ar_ret_result_6.resid"
   ]
  },
  {
   "cell_type": "code",
   "execution_count": 57,
   "metadata": {},
   "outputs": [
    {
     "data": {
      "text/plain": [
       "0.0018341257844579632"
      ]
     },
     "execution_count": 57,
     "metadata": {},
     "output_type": "execute_result"
    }
   ],
   "source": [
    "df.res_return.mean()"
   ]
  },
  {
   "cell_type": "code",
   "execution_count": 58,
   "metadata": {},
   "outputs": [
    {
     "data": {
      "text/plain": [
       "1.2327574191816837"
      ]
     },
     "execution_count": 58,
     "metadata": {},
     "output_type": "execute_result"
    }
   ],
   "source": [
    "df.res_return.var()"
   ]
  },
  {
   "cell_type": "markdown",
   "metadata": {},
   "source": [
    "We find the mean and variance once again,and their values are closer to what we might expect from white noise data.I mean, extremely close to zero and a variance of around one indicate that our choice of model was pretty good. "
   ]
  },
  {
   "cell_type": "code",
   "execution_count": 59,
   "metadata": {},
   "outputs": [
    {
     "data": {
      "text/plain": [
       "(-14.96310869997821,\n",
       " 1.231206630866934e-27,\n",
       " 34,\n",
       " 6241,\n",
       " {'1%': -3.431398228116075,\n",
       "  '5%': -2.8620032237533897,\n",
       "  '10%': -2.5670165710764503},\n",
       " 19033.083460797836)"
      ]
     },
     "execution_count": 59,
     "metadata": {},
     "output_type": "execute_result"
    }
   ],
   "source": [
    "sts.adfuller(df.res_return)"
   ]
  },
  {
   "cell_type": "markdown",
   "metadata": {},
   "source": [
    "Running the Deqi Fuller test returns values close to those of the price residuals, so we have confirmation that the data is stationary. Since white noise is stationary, this is exactly what we wanted. Lets examine the ACF too."
   ]
  },
  {
   "cell_type": "code",
   "execution_count": 60,
   "metadata": {},
   "outputs": [
    {
     "data": {
      "image/png": "[encoded data removed]",
      "text/plain": [
       "<Figure size 432x288 with 1 Axes>"
      ]
     },
     "metadata": {},
     "output_type": "display_data"
    }
   ],
   "source": [
    "sgt.plot_acf(df.res_return, zero=False, lags=40)\n",
    "plt.title(\"ACF of Residuals for Return\")\n",
    "plt.show()"
   ]
  },
  {
   "cell_type": "markdown",
   "metadata": {},
   "source": [
    "we can observe a very similar scenario where most but not all coefficients are not significant. Hence our model is a good predictor, but we have a good reason to believe a better one exists. Fnally, we plot the data."
   ]
  },
  {
   "cell_type": "code",
   "execution_count": 61,
   "metadata": {},
   "outputs": [
    {
     "data": {
      "image/png": "[encoded data removed]",
      "text/plain": [
       "<Figure size 1440x360 with 1 Axes>"
      ]
     },
     "metadata": {},
     "output_type": "display_data"
    }
   ],
   "source": [
    "df.res_return.plot(figsize=(20,5))\n",
    "plt.title('Residuals of return', size=18)\n",
    "plt.show()"
   ]
  },
  {
   "cell_type": "markdown",
   "metadata": {},
   "source": [
    "As was the case with prices, our residuals are mostly low except for around the end of 2008. This, of course, coincides with the start of the Great Recession, which few people could have anticipated."
   ]
  },
  {
   "cell_type": "code",
   "execution_count": null,
   "metadata": {},
   "outputs": [],
   "source": []
  }
 ],
 "metadata": {
  "kernelspec": {
   "display_name": "Python 3.8.8 ('base')",
   "language": "python",
   "name": "python3"
  },
  "language_info": {
   "codemirror_mode": {
    "name": "ipython",
    "version": 3
   },
   "file_extension": ".py",
   "mimetype": "text/x-python",
   "name": "python",
   "nbconvert_exporter": "python",
   "pygments_lexer": "ipython3",
   "version": "3.8.8"
  },
  "orig_nbformat": 4,
  "vscode": {
   "interpreter": {
    "hash": "ebfd0efb22d0aaf13cd3245e60b60602479d0f2314e29debef770cffec75cf48"
   }
  }
 },
 "nbformat": 4,
 "nbformat_minor": 2
}
